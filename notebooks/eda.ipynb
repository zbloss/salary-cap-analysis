{
 "cells": [
  {
   "cell_type": "code",
   "execution_count": 160,
   "metadata": {},
   "outputs": [],
   "source": [
    "import os\n",
    "\n",
    "import pandas as pd\n",
    "import numpy as np\n",
    "\n",
    "import matplotlib.pyplot as plt\n",
    "import seaborn as sns\n",
    "\n",
    "import plotly\n",
    "import plotly.express as px\n",
    "import plotly.graph_objects as go\n",
    "\n",
    "from sklearn.linear_model import LinearRegression, LogisticRegression\n",
    "from sklearn.tree import DecisionTreeRegressor, DecisionTreeClassifier\n",
    "from sklearn.ensemble import RandomForestRegressor, RandomForestClassifier\n",
    "from sklearn.model_selection import train_test_split\n",
    "from sklearn.metrics import r2_score, mean_squared_error, mean_absolute_error\n",
    "from sklearn.metrics import classification_report, confusion_matrix"
   ]
  },
  {
   "cell_type": "code",
   "execution_count": 161,
   "metadata": {},
   "outputs": [
    {
     "name": "stdout",
     "output_type": "stream",
     "text": [
      "<class 'pandas.core.frame.DataFrame'>\n",
      "RangeIndex: 259 entries, 0 to 258\n",
      "Data columns (total 9 columns):\n",
      " #   Column    Non-Null Count  Dtype  \n",
      "---  ------    --------------  -----  \n",
      " 0   name      259 non-null    object \n",
      " 1   team      259 non-null    object \n",
      " 2   rank      259 non-null    int64  \n",
      " 3   $         259 non-null    int64  \n",
      " 4   points    259 non-null    float64\n",
      " 5   risk      259 non-null    float64\n",
      " 6   tier      259 non-null    int64  \n",
      " 7   outlook   259 non-null    object \n",
      " 8   position  259 non-null    object \n",
      "dtypes: float64(2), int64(3), object(4)\n",
      "memory usage: 18.3+ KB\n"
     ]
    },
    {
     "name": "stderr",
     "output_type": "stream",
     "text": [
      "/var/folders/wk/7_jgt9ms2vv7jzkq_hkgjv1h0000gn/T/ipykernel_2908/1735239172.py:22: FutureWarning:\n",
      "\n",
      "The default value of regex will change from True to False in a future version. In addition, single character regular expressions will *not* be treated as literal strings when regex=True.\n",
      "\n"
     ]
    }
   ],
   "source": [
    "files = {\n",
    "    \"QB\": \"../data/qb_udk.csv\",\n",
    "    \"RB\": \"../data/rb_udk.csv\",\n",
    "    \"WR\": \"../data/wr_udk.csv\",\n",
    "    \"TE\": \"../data/te_udk.csv\",\n",
    "}\n",
    "data = None\n",
    "for position in files:\n",
    "    file = files[position]\n",
    "\n",
    "    tmp_dataframe = pd.read_csv(file)\n",
    "    tmp_dataframe['position'] = position\n",
    "\n",
    "    if data is None:\n",
    "        data = tmp_dataframe\n",
    "    else:\n",
    "        data = pd.concat((data, tmp_dataframe), axis=0)\n",
    "\n",
    "data.columns = data.columns.str.lower()\n",
    "\n",
    "data.reset_index(drop=True, inplace=True)\n",
    "data['$'] = data['$'].str.replace('$', '')\n",
    "data['$'] = data['$'].astype(int)\n",
    "data.drop(['dynasty', 'markers', 'bye week'], axis=1, inplace=True)\n",
    "data['risk'] = (data['risk'] - data['risk'].min()) / (data['risk'].max() - data['risk'].min())  \n",
    "data.info()"
   ]
  },
  {
   "cell_type": "code",
   "execution_count": 162,
   "metadata": {},
   "outputs": [],
   "source": [
    "keepers = [\n",
    "    'Josh Allen',\n",
    "    'Jonathan Taylor',\n",
    "    'Derrick Henry',\n",
    "    'Joe Mixon',\n",
    "    'Leonard Fournette',\n",
    "    \"D'Andre Swift\",\n",
    "    'James Conner',\n",
    "    'Cooper Kupp',\n",
    "    'Justin Jefferson',\n",
    "    'Stefon Diggs',\n",
    "    'CeeDee Lamb',\n",
    "    'Deebo Samuel',\n",
    "    'Tee Higgins',\n",
    "    'Marquise Brown',\n",
    "    \"Ja'Marr Chase\",\n",
    "    'Mark Andrews',\n",
    "    'Michael Pittman Jr.',   \n",
    "]\n",
    "\n",
    "assert data[data['name'].isin(keepers)].count()[0] == len(keepers)"
   ]
  },
  {
   "cell_type": "code",
   "execution_count": 163,
   "metadata": {},
   "outputs": [
    {
     "name": "stdout",
     "output_type": "stream",
     "text": [
      "Remaining Budget: 140\n"
     ]
    }
   ],
   "source": [
    "budget = 200\n",
    "draft_picks = [\n",
    "    {\"name\": \"Najee Harris\", \"$\": 55},\n",
    "    {\"name\": \"Cordarrelle Patterson\", \"$\": 5}\n",
    "]\n",
    "\n",
    "for pick in draft_picks:\n",
    "    budget -= pick['$']\n",
    "    data = data[~data['name'].isin([pick['name']])]\n",
    "\n",
    "data = data[~data['name'].isin(keepers)]\n",
    "print(f'Remaining Budget: {budget}')"
   ]
  },
  {
   "cell_type": "code",
   "execution_count": 164,
   "metadata": {},
   "outputs": [],
   "source": [
    "roster_spots = {\n",
    "    \"QB\": {\n",
    "        \"min\": 1,\n",
    "        \"max\": 2\n",
    "    },\n",
    "    \"RB\": {\n",
    "        \"min\": 2,\n",
    "        \"max\": 7\n",
    "    },\n",
    "    \"WR\": {\n",
    "        \"min\": 2,\n",
    "        \"max\": 7\n",
    "    },\n",
    "    \"TE\": {\n",
    "        \"min\": 1,\n",
    "        \"max\": 1\n",
    "    },\n",
    "    \"ActiveSpots\": 14,\n",
    "    \"IrSpots\": 1\n",
    "}"
   ]
  },
  {
   "cell_type": "code",
   "execution_count": 165,
   "metadata": {},
   "outputs": [
    {
     "data": {
      "text/plain": [
       "<seaborn.axisgrid.FacetGrid at 0x29935fa00>"
      ]
     },
     "execution_count": 165,
     "metadata": {},
     "output_type": "execute_result"
    },
    {
     "data": {
      "image/png": "[encoded data removed]",
      "text/plain": [
       "<Figure size 573.375x500 with 1 Axes>"
      ]
     },
     "metadata": {},
     "output_type": "display_data"
    }
   ],
   "source": [
    "sns.displot(data=data, hue=\"position\", x=\"points\", y='risk', )"
   ]
  },
  {
   "cell_type": "code",
   "execution_count": 166,
   "metadata": {},
   "outputs": [],
   "source": [
    "corr = round(data.corr(), 4)"
   ]
  },
  {
   "cell_type": "code",
   "execution_count": 170,
   "metadata": {},
   "outputs": [
    {
     "data": {
      "application/vnd.plotly.v1+json": {
       "config": {
        "plotlyServerURL": "https://plot.ly"
       },
       "data": [
        {
         "coloraxis": "coloraxis",
         "hovertemplate": "x: %{x}<br>y: %{y}<br>Correlation: %{z}<extra></extra>",
         "name": "0",
         "texttemplate": "%{z}",
         "type": "heatmap",
         "x": [
          "rank",
          "$",
          "points",
          "risk",
          "tier"
         ],
         "xaxis": "x",
         "y": [
          "rank",
          "$",
          "points",
          "risk",
          "tier"
         ],
         "yaxis": "y",
         "z": [
          [
           1,
           -0.5717,
           -0.7386,
           0.4449,
           0.7276
          ],
          [
           -0.5717,
           1,
           0.6565,
           -0.359,
           -0.6221
          ],
          [
           -0.7386,
           0.6565,
           1,
           -0.3496,
           -0.7046
          ],
          [
           0.4449,
           -0.359,
           -0.3496,
           1,
           0.4125
          ],
          [
           0.7276,
           -0.6221,
           -0.7046,
           0.4125,
           1
          ]
         ]
        }
       ],
       "layout": {
        "coloraxis": {
         "cmax": 1,
         "cmin": -1,
         "colorbar": {
          "title": {
           "text": "Correlation"
          }
         },
         "colorscale": [
          [
           0,
           "#0d0887"
          ],
          [
           0.1111111111111111,
           "#46039f"
          ],
          [
           0.2222222222222222,
           "#7201a8"
          ],
          [
           0.3333333333333333,
           "#9c179e"
          ],
          [
           0.4444444444444444,
           "#bd3786"
          ],
          [
           0.5555555555555556,
           "#d8576b"
          ],
          [
           0.6666666666666666,
           "#ed7953"
          ],
          [
           0.7777777777777778,
           "#fb9f3a"
          ],
          [
           0.8888888888888888,
           "#fdca26"
          ],
          [
           1,
           "#f0f921"
          ]
         ]
        },
        "template": {
         "data": {
          "bar": [
           {
            "error_x": {
             "color": "#2a3f5f"
            },
            "error_y": {
             "color": "#2a3f5f"
            },
            "marker": {
             "line": {
              "color": "#E5ECF6",
              "width": 0.5
             },
             "pattern": {
              "fillmode": "overlay",
              "size": 10,
              "solidity": 0.2
             }
            },
            "type": "bar"
           }
          ],
          "barpolar": [
           {
            "marker": {
             "line": {
              "color": "#E5ECF6",
              "width": 0.5
             },
             "pattern": {
              "fillmode": "overlay",
              "size": 10,
              "solidity": 0.2
             }
            },
            "type": "barpolar"
           }
          ],
          "carpet": [
           {
            "aaxis": {
             "endlinecolor": "#2a3f5f",
             "gridcolor": "white",
             "linecolor": "white",
             "minorgridcolor": "white",
             "startlinecolor": "#2a3f5f"
            },
            "baxis": {
             "endlinecolor": "#2a3f5f",
             "gridcolor": "white",
             "linecolor": "white",
             "minorgridcolor": "white",
             "startlinecolor": "#2a3f5f"
            },
            "type": "carpet"
           }
          ],
          "choropleth": [
           {
            "colorbar": {
             "outlinewidth": 0,
             "ticks": ""
            },
            "type": "choropleth"
           }
          ],
          "contour": [
           {
            "colorbar": {
             "outlinewidth": 0,
             "ticks": ""
            },
            "colorscale": [
             [
              0,
              "#0d0887"
             ],
             [
              0.1111111111111111,
              "#46039f"
             ],
             [
              0.2222222222222222,
              "#7201a8"
             ],
             [
              0.3333333333333333,
              "#9c179e"
             ],
             [
              0.4444444444444444,
              "#bd3786"
             ],
             [
              0.5555555555555556,
              "#d8576b"
             ],
             [
              0.6666666666666666,
              "#ed7953"
             ],
             [
              0.7777777777777778,
              "#fb9f3a"
             ],
             [
              0.8888888888888888,
              "#fdca26"
             ],
             [
              1,
              "#f0f921"
             ]
            ],
            "type": "contour"
           }
          ],
          "contourcarpet": [
           {
            "colorbar": {
             "outlinewidth": 0,
             "ticks": ""
            },
            "type": "contourcarpet"
           }
          ],
          "heatmap": [
           {
            "colorbar": {
             "outlinewidth": 0,
             "ticks": ""
            },
            "colorscale": [
             [
              0,
              "#0d0887"
             ],
             [
              0.1111111111111111,
              "#46039f"
             ],
             [
              0.2222222222222222,
              "#7201a8"
             ],
             [
              0.3333333333333333,
              "#9c179e"
             ],
             [
              0.4444444444444444,
              "#bd3786"
             ],
             [
              0.5555555555555556,
              "#d8576b"
             ],
             [
              0.6666666666666666,
              "#ed7953"
             ],
             [
              0.7777777777777778,
              "#fb9f3a"
             ],
             [
              0.8888888888888888,
              "#fdca26"
             ],
             [
              1,
              "#f0f921"
             ]
            ],
            "type": "heatmap"
           }
          ],
          "heatmapgl": [
           {
            "colorbar": {
             "outlinewidth": 0,
             "ticks": ""
            },
            "colorscale": [
             [
              0,
              "#0d0887"
             ],
             [
              0.1111111111111111,
              "#46039f"
             ],
             [
              0.2222222222222222,
              "#7201a8"
             ],
             [
              0.3333333333333333,
              "#9c179e"
             ],
             [
              0.4444444444444444,
              "#bd3786"
             ],
             [
              0.5555555555555556,
              "#d8576b"
             ],
             [
              0.6666666666666666,
              "#ed7953"
             ],
             [
              0.7777777777777778,
              "#fb9f3a"
             ],
             [
              0.8888888888888888,
              "#fdca26"
             ],
             [
              1,
              "#f0f921"
             ]
            ],
            "type": "heatmapgl"
           }
          ],
          "histogram": [
           {
            "marker": {
             "pattern": {
              "fillmode": "overlay",
              "size": 10,
              "solidity": 0.2
             }
            },
            "type": "histogram"
           }
          ],
          "histogram2d": [
           {
            "colorbar": {
             "outlinewidth": 0,
             "ticks": ""
            },
            "colorscale": [
             [
              0,
              "#0d0887"
             ],
             [
              0.1111111111111111,
              "#46039f"
             ],
             [
              0.2222222222222222,
              "#7201a8"
             ],
             [
              0.3333333333333333,
              "#9c179e"
             ],
             [
              0.4444444444444444,
              "#bd3786"
             ],
             [
              0.5555555555555556,
              "#d8576b"
             ],
             [
              0.6666666666666666,
              "#ed7953"
             ],
             [
              0.7777777777777778,
              "#fb9f3a"
             ],
             [
              0.8888888888888888,
              "#fdca26"
             ],
             [
              1,
              "#f0f921"
             ]
            ],
            "type": "histogram2d"
           }
          ],
          "histogram2dcontour": [
           {
            "colorbar": {
             "outlinewidth": 0,
             "ticks": ""
            },
            "colorscale": [
             [
              0,
              "#0d0887"
             ],
             [
              0.1111111111111111,
              "#46039f"
             ],
             [
              0.2222222222222222,
              "#7201a8"
             ],
             [
              0.3333333333333333,
              "#9c179e"
             ],
             [
              0.4444444444444444,
              "#bd3786"
             ],
             [
              0.5555555555555556,
              "#d8576b"
             ],
             [
              0.6666666666666666,
              "#ed7953"
             ],
             [
              0.7777777777777778,
              "#fb9f3a"
             ],
             [
              0.8888888888888888,
              "#fdca26"
             ],
             [
              1,
              "#f0f921"
             ]
            ],
            "type": "histogram2dcontour"
           }
          ],
          "mesh3d": [
           {
            "colorbar": {
             "outlinewidth": 0,
             "ticks": ""
            },
            "type": "mesh3d"
           }
          ],
          "parcoords": [
           {
            "line": {
             "colorbar": {
              "outlinewidth": 0,
              "ticks": ""
             }
            },
            "type": "parcoords"
           }
          ],
          "pie": [
           {
            "automargin": true,
            "type": "pie"
           }
          ],
          "scatter": [
           {
            "fillpattern": {
             "fillmode": "overlay",
             "size": 10,
             "solidity": 0.2
            },
            "type": "scatter"
           }
          ],
          "scatter3d": [
           {
            "line": {
             "colorbar": {
              "outlinewidth": 0,
              "ticks": ""
             }
            },
            "marker": {
             "colorbar": {
              "outlinewidth": 0,
              "ticks": ""
             }
            },
            "type": "scatter3d"
           }
          ],
          "scattercarpet": [
           {
            "marker": {
             "colorbar": {
              "outlinewidth": 0,
              "ticks": ""
             }
            },
            "type": "scattercarpet"
           }
          ],
          "scattergeo": [
           {
            "marker": {
             "colorbar": {
              "outlinewidth": 0,
              "ticks": ""
             }
            },
            "type": "scattergeo"
           }
          ],
          "scattergl": [
           {
            "marker": {
             "colorbar": {
              "outlinewidth": 0,
              "ticks": ""
             }
            },
            "type": "scattergl"
           }
          ],
          "scattermapbox": [
           {
            "marker": {
             "colorbar": {
              "outlinewidth": 0,
              "ticks": ""
             }
            },
            "type": "scattermapbox"
           }
          ],
          "scatterpolar": [
           {
            "marker": {
             "colorbar": {
              "outlinewidth": 0,
              "ticks": ""
             }
            },
            "type": "scatterpolar"
           }
          ],
          "scatterpolargl": [
           {
            "marker": {
             "colorbar": {
              "outlinewidth": 0,
              "ticks": ""
             }
            },
            "type": "scatterpolargl"
           }
          ],
          "scatterternary": [
           {
            "marker": {
             "colorbar": {
              "outlinewidth": 0,
              "ticks": ""
             }
            },
            "type": "scatterternary"
           }
          ],
          "surface": [
           {
            "colorbar": {
             "outlinewidth": 0,
             "ticks": ""
            },
            "colorscale": [
             [
              0,
              "#0d0887"
             ],
             [
              0.1111111111111111,
              "#46039f"
             ],
             [
              0.2222222222222222,
              "#7201a8"
             ],
             [
              0.3333333333333333,
              "#9c179e"
             ],
             [
              0.4444444444444444,
              "#bd3786"
             ],
             [
              0.5555555555555556,
              "#d8576b"
             ],
             [
              0.6666666666666666,
              "#ed7953"
             ],
             [
              0.7777777777777778,
              "#fb9f3a"
             ],
             [
              0.8888888888888888,
              "#fdca26"
             ],
             [
              1,
              "#f0f921"
             ]
            ],
            "type": "surface"
           }
          ],
          "table": [
           {
            "cells": {
             "fill": {
              "color": "#EBF0F8"
             },
             "line": {
              "color": "white"
             }
            },
            "header": {
             "fill": {
              "color": "#C8D4E3"
             },
             "line": {
              "color": "white"
             }
            },
            "type": "table"
           }
          ]
         },
         "layout": {
          "annotationdefaults": {
           "arrowcolor": "#2a3f5f",
           "arrowhead": 0,
           "arrowwidth": 1
          },
          "autotypenumbers": "strict",
          "coloraxis": {
           "colorbar": {
            "outlinewidth": 0,
            "ticks": ""
           }
          },
          "colorscale": {
           "diverging": [
            [
             0,
             "#8e0152"
            ],
            [
             0.1,
             "#c51b7d"
            ],
            [
             0.2,
             "#de77ae"
            ],
            [
             0.3,
             "#f1b6da"
            ],
            [
             0.4,
             "#fde0ef"
            ],
            [
             0.5,
             "#f7f7f7"
            ],
            [
             0.6,
             "#e6f5d0"
            ],
            [
             0.7,
             "#b8e186"
            ],
            [
             0.8,
             "#7fbc41"
            ],
            [
             0.9,
             "#4d9221"
            ],
            [
             1,
             "#276419"
            ]
           ],
           "sequential": [
            [
             0,
             "#0d0887"
            ],
            [
             0.1111111111111111,
             "#46039f"
            ],
            [
             0.2222222222222222,
             "#7201a8"
            ],
            [
             0.3333333333333333,
             "#9c179e"
            ],
            [
             0.4444444444444444,
             "#bd3786"
            ],
            [
             0.5555555555555556,
             "#d8576b"
            ],
            [
             0.6666666666666666,
             "#ed7953"
            ],
            [
             0.7777777777777778,
             "#fb9f3a"
            ],
            [
             0.8888888888888888,
             "#fdca26"
            ],
            [
             1,
             "#f0f921"
            ]
           ],
           "sequentialminus": [
            [
             0,
             "#0d0887"
            ],
            [
             0.1111111111111111,
             "#46039f"
            ],
            [
             0.2222222222222222,
             "#7201a8"
            ],
            [
             0.3333333333333333,
             "#9c179e"
            ],
            [
             0.4444444444444444,
             "#bd3786"
            ],
            [
             0.5555555555555556,
             "#d8576b"
            ],
            [
             0.6666666666666666,
             "#ed7953"
            ],
            [
             0.7777777777777778,
             "#fb9f3a"
            ],
            [
             0.8888888888888888,
             "#fdca26"
            ],
            [
             1,
             "#f0f921"
            ]
           ]
          },
          "colorway": [
           "#636efa",
           "#EF553B",
           "#00cc96",
           "#ab63fa",
           "#FFA15A",
           "#19d3f3",
           "#FF6692",
           "#B6E880",
           "#FF97FF",
           "#FECB52"
          ],
          "font": {
           "color": "#2a3f5f"
          },
          "geo": {
           "bgcolor": "white",
           "lakecolor": "white",
           "landcolor": "#E5ECF6",
           "showlakes": true,
           "showland": true,
           "subunitcolor": "white"
          },
          "hoverlabel": {
           "align": "left"
          },
          "hovermode": "closest",
          "mapbox": {
           "style": "light"
          },
          "paper_bgcolor": "white",
          "plot_bgcolor": "#E5ECF6",
          "polar": {
           "angularaxis": {
            "gridcolor": "white",
            "linecolor": "white",
            "ticks": ""
           },
           "bgcolor": "#E5ECF6",
           "radialaxis": {
            "gridcolor": "white",
            "linecolor": "white",
            "ticks": ""
           }
          },
          "scene": {
           "xaxis": {
            "backgroundcolor": "#E5ECF6",
            "gridcolor": "white",
            "gridwidth": 2,
            "linecolor": "white",
            "showbackground": true,
            "ticks": "",
            "zerolinecolor": "white"
           },
           "yaxis": {
            "backgroundcolor": "#E5ECF6",
            "gridcolor": "white",
            "gridwidth": 2,
            "linecolor": "white",
            "showbackground": true,
            "ticks": "",
            "zerolinecolor": "white"
           },
           "zaxis": {
            "backgroundcolor": "#E5ECF6",
            "gridcolor": "white",
            "gridwidth": 2,
            "linecolor": "white",
            "showbackground": true,
            "ticks": "",
            "zerolinecolor": "white"
           }
          },
          "shapedefaults": {
           "line": {
            "color": "#2a3f5f"
           }
          },
          "ternary": {
           "aaxis": {
            "gridcolor": "white",
            "linecolor": "white",
            "ticks": ""
           },
           "baxis": {
            "gridcolor": "white",
            "linecolor": "white",
            "ticks": ""
           },
           "bgcolor": "#E5ECF6",
           "caxis": {
            "gridcolor": "white",
            "linecolor": "white",
            "ticks": ""
           }
          },
          "title": {
           "x": 0.05
          },
          "xaxis": {
           "automargin": true,
           "gridcolor": "white",
           "linecolor": "white",
           "ticks": "",
           "title": {
            "standoff": 15
           },
           "zerolinecolor": "white",
           "zerolinewidth": 2
          },
          "yaxis": {
           "automargin": true,
           "gridcolor": "white",
           "linecolor": "white",
           "ticks": "",
           "title": {
            "standoff": 15
           },
           "zerolinecolor": "white",
           "zerolinewidth": 2
          }
         }
        },
        "title": {
         "text": "Correlation Matrix"
        },
        "xaxis": {
         "anchor": "y",
         "constrain": "domain",
         "domain": [
          0,
          1
         ],
         "scaleanchor": "y"
        },
        "yaxis": {
         "anchor": "x",
         "autorange": "reversed",
         "constrain": "domain",
         "domain": [
          0,
          1
         ]
        }
       }
      }
     },
     "metadata": {},
     "output_type": "display_data"
    }
   ],
   "source": [
    "fig = px.imshow(\n",
    "    corr, \n",
    "    zmin=-1, \n",
    "    zmax=1, \n",
    "    title=\"Correlation Matrix\", \n",
    "    text_auto=True, \n",
    "    labels={\"color\": \"Correlation\"}\n",
    ")\n",
    "plotly.offline.plot(fig, filename='../plots/correlation_matrix.html', auto_open=False)\n",
    "fig.show()\n"
   ]
  },
  {
   "cell_type": "code",
   "execution_count": 171,
   "metadata": {},
   "outputs": [
    {
     "data": {
      "text/plain": [
       "<seaborn.axisgrid.JointGrid at 0x29947bd90>"
      ]
     },
     "execution_count": 171,
     "metadata": {},
     "output_type": "execute_result"
    },
    {
     "data": {
      "image/png": "[encoded data removed]",
      "text/plain": [
       "<Figure size 600x600 with 3 Axes>"
      ]
     },
     "metadata": {},
     "output_type": "display_data"
    }
   ],
   "source": [
    "#plt.title(\"Correlation: Risk vs Points\")\n",
    "sns.jointplot(x=data['risk'], y=data['points'])"
   ]
  },
  {
   "cell_type": "code",
   "execution_count": 172,
   "metadata": {},
   "outputs": [],
   "source": [
    "predictors = data.drop(['points', 'name', 'rank', 'team', 'outlook', 'position'], axis=1).columns\n",
    "target = 'points'\n",
    "\n",
    "X = data[predictors]\n",
    "y = data[target]\n",
    "\n",
    "X_train, X_test, y_train, y_test = train_test_split(X, y, test_size=0.3, random_state=42)"
   ]
  },
  {
   "cell_type": "markdown",
   "metadata": {},
   "source": [
    "# Predicting Points\n",
    "\n",
    "Simple models to predict the number a points a player will score"
   ]
  },
  {
   "cell_type": "code",
   "execution_count": 173,
   "metadata": {},
   "outputs": [],
   "source": [
    "def regressor_metrics(predictions: np.array, actuals: np.array) -> dict:\n",
    "    \"\"\"\n",
    "    Calculates model performance \n",
    "\n",
    "    Arguments:\n",
    "        predictions (np.array): Array of the model predictions.\n",
    "        actuals (np.array): Array of the actual true values. \n",
    "\n",
    "    Returns:\n",
    "        dict: Dictionary containing important regressor metrics.\n",
    "\n",
    "    \"\"\"\n",
    "    \n",
    "    \n",
    "    r2 = r2_score(y_pred=predictions, y_true=actuals)\n",
    "    rmse = np.sqrt(mean_squared_error(y_pred=predictions, y_true=actuals))\n",
    "    mae = mean_absolute_error(y_pred=predictions, y_true=actuals)\n",
    "    return {\n",
    "        'r2': r2,\n",
    "        'rmse': rmse,\n",
    "        'mae': mae\n",
    "    }"
   ]
  },
  {
   "cell_type": "code",
   "execution_count": 174,
   "metadata": {},
   "outputs": [
    {
     "name": "stdout",
     "output_type": "stream",
     "text": [
      "Train Metrics\n",
      "=============\n",
      " {'r2': 0.6157337376869997, 'rmse': 46.99868003028528, 'mae': 31.664086625120316}\n",
      "Test Metrics\n",
      "=============\n",
      " {'r2': 0.4613443673549613, 'rmse': 51.878441593546924, 'mae': 34.87823872192777}\n"
     ]
    }
   ],
   "source": [
    "model = LinearRegression()\n",
    "model.fit(X_train, y_train)\n",
    "\n",
    "train_predictions = model.predict(X_train)\n",
    "test_predictions = model.predict(X_test)\n",
    "\n",
    "train_metrics = regressor_metrics(train_predictions, y_train)\n",
    "test_metrics = regressor_metrics(test_predictions, y_test)\n",
    "\n",
    "print(\"Train Metrics\")\n",
    "print(\"=============\\n\", train_metrics)\n",
    "\n",
    "print(\"Test Metrics\")\n",
    "print(\"=============\\n\", test_metrics)"
   ]
  },
  {
   "cell_type": "code",
   "execution_count": 175,
   "metadata": {},
   "outputs": [
    {
     "name": "stdout",
     "output_type": "stream",
     "text": [
      "Train Metrics\n",
      "=============\n",
      " {'r2': 0.9682539484960412, 'rmse': 13.508725942415946, 'mae': 4.122579365079365}\n",
      "Test Metrics\n",
      "=============\n",
      " {'r2': 0.1998709185530132, 'rmse': 63.22827690203174, 'mae': 37.047222222222224}\n"
     ]
    }
   ],
   "source": [
    "model = DecisionTreeRegressor()\n",
    "model.fit(X_train, y_train)\n",
    "\n",
    "train_predictions = model.predict(X_train)\n",
    "test_predictions = model.predict(X_test)\n",
    "\n",
    "train_metrics = regressor_metrics(train_predictions, y_train)\n",
    "test_metrics = regressor_metrics(test_predictions, y_test)\n",
    "\n",
    "print(\"Train Metrics\")\n",
    "print(\"=============\\n\", train_metrics)\n",
    "\n",
    "print(\"Test Metrics\")\n",
    "print(\"=============\\n\", test_metrics)"
   ]
  },
  {
   "cell_type": "code",
   "execution_count": 176,
   "metadata": {},
   "outputs": [
    {
     "name": "stdout",
     "output_type": "stream",
     "text": [
      "Train Metrics\n",
      "=============\n",
      " {'r2': 0.917927438025064, 'rmse': 21.720435467943314, 'mae': 13.890317942176873}\n",
      "Test Metrics\n",
      "=============\n",
      " {'r2': 0.5253052232885544, 'rmse': 48.7010747323584, 'mae': 31.17310387455907}\n"
     ]
    }
   ],
   "source": [
    "model = RandomForestRegressor()\n",
    "model.fit(X_train, y_train)\n",
    "\n",
    "train_predictions = model.predict(X_train)\n",
    "test_predictions = model.predict(X_test)\n",
    "\n",
    "train_metrics = regressor_metrics(train_predictions, y_train)\n",
    "test_metrics = regressor_metrics(test_predictions, y_test)\n",
    "\n",
    "print(\"Train Metrics\")\n",
    "print(\"=============\\n\", train_metrics)\n",
    "\n",
    "print(\"Test Metrics\")\n",
    "print(\"=============\\n\", test_metrics)"
   ]
  },
  {
   "cell_type": "markdown",
   "metadata": {},
   "source": [
    "# Predicting Tier\n",
    "\n",
    "Simple models to predict the tier a player should be in.\n",
    "\n",
    "Checking the data-driven-ness of the footballers rankings"
   ]
  },
  {
   "cell_type": "code",
   "execution_count": 177,
   "metadata": {},
   "outputs": [],
   "source": [
    "def classifier_metrics(predictions: np.array, actuals: np.array) -> list:\n",
    "    \"\"\"\n",
    "    Calculates model performance \n",
    "\n",
    "    Arguments:\n",
    "        predictions (np.array): Array of the model predictions.\n",
    "        actuals (np.array): Array of the actual true values. \n",
    "\n",
    "    Returns:\n",
    "        dict: List containing important classifier metrics.\n",
    "\n",
    "    \"\"\"\n",
    "    \n",
    "    cr = classification_report(y_pred=predictions, y_true=actuals)\n",
    "    cm = confusion_matrix(y_pred=predictions, y_true=actuals)\n",
    "    \n",
    "    return (cr, cm)"
   ]
  },
  {
   "cell_type": "code",
   "execution_count": 178,
   "metadata": {},
   "outputs": [],
   "source": [
    "predictors = data.drop(['points', 'name', 'rank', 'team', 'outlook', 'position', 'tier'], axis=1).columns\n",
    "target = 'tier'\n",
    "\n",
    "X = data[predictors]\n",
    "y = data[target]\n",
    "\n",
    "X_train, X_test, y_train, y_test = train_test_split(X, y, test_size=0.3, random_state=42)"
   ]
  },
  {
   "cell_type": "code",
   "execution_count": 179,
   "metadata": {},
   "outputs": [
    {
     "name": "stdout",
     "output_type": "stream",
     "text": [
      "Train Metrics\n",
      "=============\n",
      "               precision    recall  f1-score   support\n",
      "\n",
      "           1       0.00      0.00      0.00         2\n",
      "           2       0.50      0.82      0.62        11\n",
      "           3       1.00      0.09      0.17        11\n",
      "           4       0.00      0.00      0.00        21\n",
      "           5       0.32      0.45      0.37        29\n",
      "           6       0.19      0.90      0.31        21\n",
      "           7       0.00      0.00      0.00        17\n",
      "           8       0.00      0.00      0.00        14\n",
      "           9       0.00      0.00      0.00        16\n",
      "          10       0.00      0.00      0.00        11\n",
      "          11       0.00      0.00      0.00        15\n",
      "\n",
      "    accuracy                           0.25       168\n",
      "   macro avg       0.18      0.21      0.13       168\n",
      "weighted avg       0.18      0.25      0.15       168\n",
      "\n",
      "Test Metrics\n",
      "=============\n",
      "               precision    recall  f1-score   support\n",
      "\n",
      "           2       0.00      0.00      0.00         3\n",
      "           3       0.00      0.00      0.00         7\n",
      "           4       0.00      0.00      0.00        11\n",
      "           5       0.09      0.33      0.14         6\n",
      "           6       0.19      0.90      0.32        10\n",
      "           7       0.00      0.00      0.00         8\n",
      "           8       0.00      0.00      0.00         7\n",
      "           9       0.00      0.00      0.00        12\n",
      "          10       0.00      0.00      0.00         2\n",
      "          11       0.00      0.00      0.00         6\n",
      "\n",
      "    accuracy                           0.15        72\n",
      "   macro avg       0.03      0.12      0.05        72\n",
      "weighted avg       0.03      0.15      0.06        72\n",
      "\n"
     ]
    },
    {
     "name": "stderr",
     "output_type": "stream",
     "text": [
      "/Users/zachbloss/.pyenv/versions/3.9.10/lib/python3.9/site-packages/sklearn/linear_model/_logistic.py:444: ConvergenceWarning:\n",
      "\n",
      "lbfgs failed to converge (status=1):\n",
      "STOP: TOTAL NO. of ITERATIONS REACHED LIMIT.\n",
      "\n",
      "Increase the number of iterations (max_iter) or scale the data as shown in:\n",
      "    https://scikit-learn.org/stable/modules/preprocessing.html\n",
      "Please also refer to the documentation for alternative solver options:\n",
      "    https://scikit-learn.org/stable/modules/linear_model.html#logistic-regression\n",
      "\n",
      "/Users/zachbloss/.pyenv/versions/3.9.10/lib/python3.9/site-packages/sklearn/metrics/_classification.py:1327: UndefinedMetricWarning:\n",
      "\n",
      "Precision and F-score are ill-defined and being set to 0.0 in labels with no predicted samples. Use `zero_division` parameter to control this behavior.\n",
      "\n",
      "/Users/zachbloss/.pyenv/versions/3.9.10/lib/python3.9/site-packages/sklearn/metrics/_classification.py:1327: UndefinedMetricWarning:\n",
      "\n",
      "Precision and F-score are ill-defined and being set to 0.0 in labels with no predicted samples. Use `zero_division` parameter to control this behavior.\n",
      "\n",
      "/Users/zachbloss/.pyenv/versions/3.9.10/lib/python3.9/site-packages/sklearn/metrics/_classification.py:1327: UndefinedMetricWarning:\n",
      "\n",
      "Precision and F-score are ill-defined and being set to 0.0 in labels with no predicted samples. Use `zero_division` parameter to control this behavior.\n",
      "\n",
      "/Users/zachbloss/.pyenv/versions/3.9.10/lib/python3.9/site-packages/sklearn/metrics/_classification.py:1327: UndefinedMetricWarning:\n",
      "\n",
      "Precision and F-score are ill-defined and being set to 0.0 in labels with no predicted samples. Use `zero_division` parameter to control this behavior.\n",
      "\n",
      "/Users/zachbloss/.pyenv/versions/3.9.10/lib/python3.9/site-packages/sklearn/metrics/_classification.py:1327: UndefinedMetricWarning:\n",
      "\n",
      "Precision and F-score are ill-defined and being set to 0.0 in labels with no predicted samples. Use `zero_division` parameter to control this behavior.\n",
      "\n",
      "/Users/zachbloss/.pyenv/versions/3.9.10/lib/python3.9/site-packages/sklearn/metrics/_classification.py:1327: UndefinedMetricWarning:\n",
      "\n",
      "Precision and F-score are ill-defined and being set to 0.0 in labels with no predicted samples. Use `zero_division` parameter to control this behavior.\n",
      "\n"
     ]
    }
   ],
   "source": [
    "model = LogisticRegression()\n",
    "model.fit(X_train, y_train)\n",
    "\n",
    "train_predictions = model.predict(X_train)\n",
    "test_predictions = model.predict(X_test)\n",
    "\n",
    "train_metrics = classifier_metrics(train_predictions, y_train)\n",
    "test_metrics = classifier_metrics(test_predictions, y_test)\n",
    "\n",
    "print(\"Train Metrics\")\n",
    "print(\"=============\\n\", train_metrics[0])\n",
    "\n",
    "print(\"Test Metrics\")\n",
    "print(\"=============\\n\", test_metrics[0])"
   ]
  },
  {
   "cell_type": "code",
   "execution_count": 180,
   "metadata": {},
   "outputs": [
    {
     "name": "stdout",
     "output_type": "stream",
     "text": [
      "Train Metrics\n",
      "=============\n",
      "               precision    recall  f1-score   support\n",
      "\n",
      "           1       1.00      1.00      1.00         2\n",
      "           2       1.00      1.00      1.00        11\n",
      "           3       0.92      1.00      0.96        11\n",
      "           4       0.60      0.86      0.71        21\n",
      "           5       0.86      0.83      0.84        29\n",
      "           6       0.54      0.62      0.58        21\n",
      "           7       0.58      0.65      0.61        17\n",
      "           8       0.46      0.43      0.44        14\n",
      "           9       0.58      0.44      0.50        16\n",
      "          10       1.00      0.18      0.31        11\n",
      "          11       0.53      0.53      0.53        15\n",
      "\n",
      "    accuracy                           0.67       168\n",
      "   macro avg       0.73      0.68      0.68       168\n",
      "weighted avg       0.69      0.67      0.66       168\n",
      "\n",
      "Test Metrics\n",
      "=============\n",
      "               precision    recall  f1-score   support\n",
      "\n",
      "           2       0.00      0.00      0.00         3\n",
      "           3       0.50      0.43      0.46         7\n",
      "           4       0.25      0.18      0.21        11\n",
      "           5       0.17      0.33      0.22         6\n",
      "           6       0.11      0.10      0.11        10\n",
      "           7       0.00      0.00      0.00         8\n",
      "           8       0.14      0.14      0.14         7\n",
      "           9       1.00      0.25      0.40        12\n",
      "          10       1.00      0.50      0.67         2\n",
      "          11       0.25      0.33      0.29         6\n",
      "\n",
      "    accuracy                           0.21        72\n",
      "   macro avg       0.34      0.23      0.25        72\n",
      "weighted avg       0.35      0.21      0.23        72\n",
      "\n"
     ]
    }
   ],
   "source": [
    "model = DecisionTreeClassifier()\n",
    "model.fit(X_train, y_train)\n",
    "\n",
    "train_predictions = model.predict(X_train)\n",
    "test_predictions = model.predict(X_test)\n",
    "\n",
    "train_metrics = classifier_metrics(train_predictions, y_train)\n",
    "test_metrics = classifier_metrics(test_predictions, y_test)\n",
    "\n",
    "print(\"Train Metrics\")\n",
    "print(\"=============\\n\", train_metrics[0])\n",
    "\n",
    "print(\"Test Metrics\")\n",
    "print(\"=============\\n\", test_metrics[0])"
   ]
  },
  {
   "cell_type": "code",
   "execution_count": 181,
   "metadata": {},
   "outputs": [
    {
     "name": "stdout",
     "output_type": "stream",
     "text": [
      "Train Metrics\n",
      "=============\n",
      "               precision    recall  f1-score   support\n",
      "\n",
      "           1       1.00      1.00      1.00         2\n",
      "           2       1.00      1.00      1.00        11\n",
      "           3       1.00      0.91      0.95        11\n",
      "           4       0.74      0.81      0.77        21\n",
      "           5       0.81      0.86      0.83        29\n",
      "           6       0.54      0.62      0.58        21\n",
      "           7       0.59      0.59      0.59        17\n",
      "           8       0.71      0.36      0.48        14\n",
      "           9       0.44      0.50      0.47        16\n",
      "          10       1.00      0.18      0.31        11\n",
      "          11       0.43      0.67      0.53        15\n",
      "\n",
      "    accuracy                           0.67       168\n",
      "   macro avg       0.75      0.68      0.68       168\n",
      "weighted avg       0.71      0.67      0.66       168\n",
      "\n",
      "Test Metrics\n",
      "=============\n",
      "               precision    recall  f1-score   support\n",
      "\n",
      "           2       0.25      0.33      0.29         3\n",
      "           3       0.67      0.29      0.40         7\n",
      "           4       0.62      0.45      0.53        11\n",
      "           5       0.15      0.33      0.21         6\n",
      "           6       0.11      0.10      0.11        10\n",
      "           7       0.08      0.12      0.10         8\n",
      "           8       0.00      0.00      0.00         7\n",
      "           9       0.60      0.25      0.35        12\n",
      "          10       1.00      0.50      0.67         2\n",
      "          11       0.17      0.33      0.22         6\n",
      "\n",
      "    accuracy                           0.25        72\n",
      "   macro avg       0.37      0.27      0.29        72\n",
      "weighted avg       0.35      0.25      0.27        72\n",
      "\n"
     ]
    }
   ],
   "source": [
    "model = RandomForestClassifier()\n",
    "model.fit(X_train, y_train)\n",
    "\n",
    "train_predictions = model.predict(X_train)\n",
    "test_predictions = model.predict(X_test)\n",
    "\n",
    "train_metrics = classifier_metrics(train_predictions, y_train)\n",
    "test_metrics = classifier_metrics(test_predictions, y_test)\n",
    "\n",
    "print(\"Train Metrics\")\n",
    "print(\"=============\\n\", train_metrics[0])\n",
    "\n",
    "print(\"Test Metrics\")\n",
    "print(\"=============\\n\", test_metrics[0])"
   ]
  },
  {
   "cell_type": "code",
   "execution_count": 182,
   "metadata": {},
   "outputs": [
    {
     "data": {
      "text/plain": [
       "<seaborn.axisgrid.PairGrid at 0x1732549a0>"
      ]
     },
     "execution_count": 182,
     "metadata": {},
     "output_type": "execute_result"
    },
    {
     "data": {
      "text/plain": [
       "<Figure size 1000x1000 with 0 Axes>"
      ]
     },
     "metadata": {},
     "output_type": "display_data"
    },
    {
     "data": {
      "image/png": "[encoded data removed]",
      "text/plain": [
       "<Figure size 1250x1250 with 30 Axes>"
      ]
     },
     "metadata": {},
     "output_type": "display_data"
    }
   ],
   "source": [
    "plt.figure(figsize=(10,10))\n",
    "sns.pairplot(data)"
   ]
  },
  {
   "cell_type": "code",
   "execution_count": 183,
   "metadata": {},
   "outputs": [],
   "source": [
    "data['points_per_dollar'] = data['points'] / data['$']"
   ]
  },
  {
   "cell_type": "code",
   "execution_count": 184,
   "metadata": {},
   "outputs": [
    {
     "data": {
      "application/vnd.plotly.v1+json": {
       "config": {
        "plotlyServerURL": "https://plot.ly"
       },
       "data": [
        {
         "customdata": [
          [
           "Justin Herbert",
           35
          ],
          [
           "Kyler Murray",
           29
          ],
          [
           "Jalen Hurts",
           30
          ],
          [
           "Patrick Mahomes",
           29
          ],
          [
           "Lamar Jackson",
           27
          ],
          [
           "Tom Brady",
           25
          ],
          [
           "Russell Wilson",
           22
          ],
          [
           "Joe Burrow",
           20
          ],
          [
           "Trey Lance",
           17
          ],
          [
           "Dak Prescott",
           17
          ],
          [
           "Matthew Stafford",
           15
          ],
          [
           "Kirk Cousins",
           14
          ],
          [
           "Aaron Rodgers",
           12
          ],
          [
           "Derek Carr",
           6
          ],
          [
           "Daniel Jones",
           2
          ],
          [
           "Tua Tagovailoa",
           2
          ],
          [
           "Trevor Lawrence",
           1
          ],
          [
           "Mac Jones",
           1
          ],
          [
           "Matt Ryan",
           1
          ],
          [
           "Justin Fields",
           1
          ],
          [
           "Jameis Winston",
           1
          ],
          [
           "Ryan Tannehill",
           1
          ],
          [
           "Carson Wentz",
           1
          ],
          [
           "Mitch Trubisky",
           1
          ],
          [
           "Jared Goff",
           1
          ],
          [
           "Zach Wilson",
           1
          ],
          [
           "Baker Mayfield",
           1
          ],
          [
           "Marcus Mariota",
           1
          ],
          [
           "Geno Smith",
           1
          ],
          [
           "Davis Mills",
           1
          ],
          [
           "Deshaun Watson",
           1
          ],
          [
           "Kenny Pickett",
           1
          ],
          [
           "Jacoby Brissett",
           1
          ]
         ],
         "hovertemplate": "position=QB<br>points_per_dollar=%{x}<br>risk=%{y}<br>name=%{customdata[0]}<br>$=%{customdata[1]}<extra></extra>",
         "legendgroup": "QB",
         "marker": {
          "color": "#636efa",
          "symbol": "circle"
         },
         "mode": "markers",
         "name": "QB",
         "orientation": "v",
         "showlegend": true,
         "type": "scatter",
         "x": [
          10.225714285714284,
          12.068965517241379,
          11.6,
          11.865517241379312,
          12.57777777777778,
          13.22,
          14.840909090909092,
          16.009999999999998,
          18.405882352941177,
          18.211764705882356,
          20.006666666666668,
          21.42142857142857,
          24.441666666666666,
          45.666666666666664,
          130.65,
          129.85,
          258.5,
          254.6,
          254.2,
          251.3,
          247.9,
          246.8,
          244.1,
          243.8,
          241.2,
          239.5,
          231.9,
          230.6,
          227.6,
          212.4,
          175.3,
          126.1,
          109.1
         ],
         "xaxis": "x",
         "y": [
          0.03333333333333334,
          0.36666666666666664,
          0.14444444444444443,
          0.14444444444444443,
          0.2222222222222222,
          0.1111111111111111,
          0.30000000000000004,
          0.25555555555555554,
          0.7,
          0.25555555555555554,
          0.14444444444444443,
          0.1888888888888889,
          0.36666666666666664,
          0.2222222222222222,
          0.7444444444444445,
          0.4444444444444444,
          0.5444444444444445,
          0.2222222222222222,
          0.1888888888888889,
          0.7555555555555555,
          0.4444444444444444,
          0.5555555555555556,
          0.5555555555555556,
          0.7,
          0.25555555555555554,
          0.6333333333333333,
          0.5222222222222223,
          0.7444444444444445,
          0.7777777777777778,
          0.41111111111111115,
          0.7222222222222222,
          0.7222222222222222,
          0.3888888888888889
         ],
         "yaxis": "y"
        },
        {
         "customdata": [
          [
           "Christian McCaffrey",
           62
          ],
          [
           "Austin Ekeler",
           53
          ],
          [
           "Dalvin Cook",
           47
          ],
          [
           "Alvin Kamara",
           46
          ],
          [
           "Ezekiel Elliott",
           40
          ],
          [
           "Aaron Jones",
           42
          ],
          [
           "Nick Chubb",
           37
          ],
          [
           "Javonte Williams",
           36
          ],
          [
           "Saquon Barkley",
           35
          ],
          [
           "David Montgomery",
           31
          ],
          [
           "Josh Jacobs",
           30
          ],
          [
           "Breece Hall",
           28
          ],
          [
           "Antonio Gibson",
           27
          ],
          [
           "Travis Etienne Jr.",
           25
          ],
          [
           "Cam Akers",
           24
          ],
          [
           "Chase Edmonds",
           24
          ],
          [
           "AJ Dillon",
           24
          ],
          [
           "Clyde Edwards-Helaire",
           23
          ],
          [
           "Rashaad Penny",
           23
          ],
          [
           "Elijah Mitchell",
           22
          ],
          [
           "Kareem Hunt",
           22
          ],
          [
           "Miles Sanders",
           20
          ],
          [
           "J.K. Dobbins",
           18
          ],
          [
           "Damien Harris",
           19
          ],
          [
           "Tony Pollard",
           16
          ],
          [
           "Devin Singletary",
           15
          ],
          [
           "Melvin Gordon III",
           14
          ],
          [
           "Rhamondre Stevenson",
           11
          ],
          [
           "Kenneth Walker III",
           8
          ],
          [
           "Darrell Henderson Jr.",
           6
          ],
          [
           "Jamaal Williams",
           6
          ],
          [
           "J.D. McKissic",
           4
          ],
          [
           "Michael Carter",
           3
          ],
          [
           "Darrel Williams",
           3
          ],
          [
           "Rachaad White",
           3
          ],
          [
           "Dameon Pierce",
           3
          ],
          [
           "Mark Ingram II",
           2
          ],
          [
           "Kenneth Gainwell",
           1
          ],
          [
           "Nyheim Hines",
           1
          ],
          [
           "Gus Edwards",
           1
          ],
          [
           "Isaiah Spiller",
           1
          ],
          [
           "James Cook",
           1
          ],
          [
           "Kenyan Drake",
           1
          ],
          [
           "Alexander Mattison",
           1
          ],
          [
           "James Robinson",
           1
          ],
          [
           "Ronald Jones",
           1
          ],
          [
           "Damien Williams",
           1
          ],
          [
           "Rex Burkhead",
           1
          ],
          [
           "Raheem Mostert",
           1
          ],
          [
           "Brian Robinson",
           1
          ],
          [
           "Hassan Haskins",
           1
          ],
          [
           "Khalil Herbert",
           1
          ],
          [
           "Matt Breida",
           1
          ],
          [
           "Tyler Allgeier",
           1
          ],
          [
           "Marlon Mack",
           1
          ],
          [
           "Boston Scott",
           1
          ],
          [
           "Jeff Wilson Jr.",
           1
          ],
          [
           "Sony Michel",
           1
          ],
          [
           "Tyrion Davis-Price",
           1
          ],
          [
           "Jerick McKinnon",
           1
          ],
          [
           "Chris Evans",
           1
          ],
          [
           "Mike Davis",
           1
          ],
          [
           "D'Ernest Johnson",
           1
          ],
          [
           "Eno Benjamin",
           1
          ],
          [
           "Trey Sermon",
           1
          ],
          [
           "Zamir White",
           1
          ],
          [
           "Benny Snell Jr.",
           1
          ],
          [
           "Tyler Badie",
           1
          ],
          [
           "Isiah Pacheco",
           1
          ]
         ],
         "hovertemplate": "position=RB<br>points_per_dollar=%{x}<br>risk=%{y}<br>name=%{customdata[0]}<br>$=%{customdata[1]}<extra></extra>",
         "legendgroup": "RB",
         "marker": {
          "color": "#EF553B",
          "symbol": "diamond"
         },
         "mode": "markers",
         "name": "RB",
         "orientation": "v",
         "showlegend": true,
         "type": "scatter",
         "x": [
          5.088709677419355,
          5.220754716981132,
          5.359574468085106,
          5.458695652173913,
          5.8925,
          5.580952380952381,
          6.0027027027027025,
          6.097222222222222,
          6.265714285714286,
          6.554838709677419,
          6.746666666666667,
          7,
          7.07037037037037,
          7.496,
          7.6499999999999995,
          7.541666666666667,
          7.504166666666666,
          7.78695652173913,
          7.769565217391304,
          7.909090909090909,
          7.890909090909091,
          8.48,
          9.18888888888889,
          8.647368421052633,
          9.6625,
          10.233333333333333,
          10.62142857142857,
          12.672727272727274,
          16.0625,
          20.416666666666668,
          20.333333333333332,
          28.875,
          37.766666666666666,
          37.36666666666667,
          37.300000000000004,
          36.9,
          54.5,
          105.7,
          103.6,
          102,
          101,
          99.4,
          93.3,
          91.1,
          90.3,
          88.9,
          88,
          87.3,
          86.6,
          81.6,
          78.9,
          76.6,
          75.5,
          70.4,
          68.8,
          67.3,
          63.5,
          56.8,
          56.7,
          55.9,
          53.7,
          52.4,
          47.6,
          47.3,
          43.3,
          36.7,
          30.8,
          29.2,
          10.7
         ],
         "xaxis": "x",
         "y": [
          0.6444444444444444,
          0.3333333333333333,
          0.2222222222222222,
          0.2777777777777778,
          0.36666666666666664,
          0.1888888888888889,
          0.25555555555555554,
          0.25555555555555554,
          0.4444444444444444,
          0.30000000000000004,
          0.36666666666666664,
          0.41111111111111115,
          0.4444444444444444,
          0.5555555555555556,
          0.6333333333333333,
          0.4444444444444444,
          0.25555555555555554,
          0.4444444444444444,
          0.5888888888888889,
          0.41111111111111115,
          0.36666666666666664,
          0.4222222222222222,
          0.6888888888888889,
          0.47777777777777775,
          0.36666666666666664,
          0.5333333333333333,
          0.3333333333333333,
          0.47777777777777775,
          0.47777777777777775,
          0.41111111111111115,
          0.3333333333333333,
          0.30000000000000004,
          0.41111111111111115,
          0.36666666666666664,
          0.5555555555555556,
          0.47777777777777775,
          0.30000000000000004,
          0.5555555555555556,
          0.30000000000000004,
          0.7,
          0.4444444444444444,
          0.4444444444444444,
          0.5888888888888889,
          0.3333333333333333,
          0.7777777777777778,
          0.36666666666666664,
          0.47777777777777775,
          0.47777777777777775,
          0.6333333333333333,
          0.2777777777777778,
          0.5222222222222223,
          0.36666666666666664,
          0.25555555555555554,
          0.4666666666666667,
          0.6666666666666666,
          0.36666666666666664,
          0.7777777777777778,
          0.36666666666666664,
          0.7777777777777778,
          0.36666666666666664,
          0.2777777777777778,
          0.5888888888888889,
          0.4444444444444444,
          0.41111111111111115,
          0.8555555555555555,
          0.3333333333333333,
          0.2777777777777778,
          0.6333333333333333,
          0
         ],
         "yaxis": "y"
        },
        {
         "customdata": [
          [
           "Davante Adams",
           34
          ],
          [
           "Mike Evans",
           26
          ],
          [
           "Mike Williams",
           22
          ],
          [
           "Tyreek Hill",
           20
          ],
          [
           "DJ Moore",
           18
          ],
          [
           "Courtland Sutton",
           18
          ],
          [
           "Keenan Allen",
           17
          ],
          [
           "A.J. Brown",
           17
          ],
          [
           "Brandin Cooks",
           17
          ],
          [
           "Allen Robinson II",
           14
          ],
          [
           "Jaylen Waddle",
           14
          ],
          [
           "Diontae Johnson",
           13
          ],
          [
           "Darnell Mooney",
           13
          ],
          [
           "Amon-Ra St. Brown",
           12
          ],
          [
           "Jerry Jeudy",
           12
          ],
          [
           "Adam Thielen",
           11
          ],
          [
           "Terry McLaurin",
           11
          ],
          [
           "DK Metcalf",
           10
          ],
          [
           "Rashod Bateman",
           10
          ],
          [
           "Christian Kirk",
           9
          ],
          [
           "Elijah Moore",
           9
          ],
          [
           "JuJu Smith-Schuster",
           9
          ],
          [
           "Hunter Renfrow",
           9
          ],
          [
           "Michael Thomas",
           7
          ],
          [
           "Amari Cooper",
           7
          ],
          [
           "Robert Woods",
           6
          ],
          [
           "DeVonta Smith",
           6
          ],
          [
           "Gabe Davis",
           5
          ],
          [
           "Chase Claypool",
           3
          ],
          [
           "Chris Godwin",
           3
          ],
          [
           "Allen Lazard",
           3
          ],
          [
           "Tyler Lockett",
           2
          ],
          [
           "Drake London",
           2
          ],
          [
           "DeVante Parker",
           2
          ],
          [
           "Kadarius Toney",
           2
          ],
          [
           "Garrett Wilson",
           1
          ],
          [
           "Chris Olave",
           1
          ],
          [
           "Treylon Burks",
           1
          ],
          [
           "Marquez Valdes-Scantling",
           1
          ],
          [
           "Kenny Golladay",
           1
          ],
          [
           "Brandon Aiyuk",
           1
          ],
          [
           "Marvin Jones Jr.",
           1
          ],
          [
           "Tyler Boyd",
           1
          ],
          [
           "Michael Gallup",
           1
          ],
          [
           "K.J. Osborn",
           1
          ],
          [
           "Jakobi Meyers",
           1
          ],
          [
           "Julio Jones",
           1
          ],
          [
           "Kendrick Bourne",
           1
          ],
          [
           "Jarvis Landry",
           1
          ],
          [
           "Russell Gage",
           1
          ],
          [
           "Randall Cobb",
           1
          ],
          [
           "Rondale Moore",
           1
          ],
          [
           "DeAndre Hopkins",
           1
          ],
          [
           "Robbie Anderson",
           1
          ],
          [
           "KJ Hamler",
           1
          ],
          [
           "Donovan Peoples-Jones",
           1
          ],
          [
           "Jahan Dotson",
           1
          ],
          [
           "Corey Davis",
           1
          ],
          [
           "Mecole Hardman",
           1
          ],
          [
           "Jameson Williams",
           1
          ],
          [
           "Jalen Tolbert",
           1
          ],
          [
           "Van Jefferson",
           1
          ],
          [
           "DJ Chark",
           1
          ],
          [
           "Curtis Samuel",
           1
          ],
          [
           "Joshua Palmer",
           1
          ],
          [
           "Cedrick Wilson Jr.",
           1
          ],
          [
           "Nico Collins",
           1
          ],
          [
           "A.J. Green",
           1
          ],
          [
           "Devin Duvernay",
           1
          ],
          [
           "Skyy Moore",
           1
          ],
          [
           "Alec Pierce",
           1
          ],
          [
           "Wan'Dale Robinson",
           1
          ],
          [
           "Parris Campbell",
           1
          ],
          [
           "Sammy Watkins",
           1
          ],
          [
           "Zay Jones",
           1
          ],
          [
           "Nick Westbrook-Ikhine",
           1
          ],
          [
           "Bryan Edwards",
           1
          ],
          [
           "Terrace Marshall Jr.",
           1
          ],
          [
           "Quez Watkins",
           1
          ],
          [
           "Jamison Crowder",
           1
          ],
          [
           "Laviska Shenault Jr.",
           1
          ],
          [
           "George Pickens",
           1
          ],
          [
           "Romeo Doubs",
           1
          ],
          [
           "David Bell",
           1
          ],
          [
           "Olamide Zaccheaus",
           1
          ],
          [
           "Isaiah McKenzie",
           1
          ],
          [
           "Christian Watson",
           1
          ],
          [
           "N'Keal Harry",
           1
          ],
          [
           "Byron Pringle",
           1
          ],
          [
           "Deonte Harty",
           1
          ],
          [
           "Velus Jones Jr.",
           1
          ],
          [
           "Anthony Schwartz",
           1
          ],
          [
           "Nelson Agholor",
           1
          ],
          [
           "Tyquan Thornton",
           1
          ],
          [
           "Calvin Austin III",
           1
          ],
          [
           "Sterling Shepard",
           1
          ],
          [
           "Tutu Atwell",
           1
          ],
          [
           "James Washington",
           1
          ],
          [
           "Tim Patrick",
           1
          ],
          [
           "John Metchie III",
           1
          ]
         ],
         "hovertemplate": "position=WR<br>points_per_dollar=%{x}<br>risk=%{y}<br>name=%{customdata[0]}<br>$=%{customdata[1]}<extra></extra>",
         "legendgroup": "WR",
         "marker": {
          "color": "#00cc96",
          "symbol": "square"
         },
         "mode": "markers",
         "name": "WR",
         "orientation": "v",
         "showlegend": true,
         "type": "scatter",
         "x": [
          7.408823529411765,
          8.653846153846153,
          9.80909090909091,
          10.45,
          11.43888888888889,
          11.38888888888889,
          11.711764705882352,
          11.711764705882352,
          11.664705882352942,
          13.607142857142858,
          13.571428571428571,
          14.384615384615385,
          14.307692307692308,
          15.299999999999999,
          15.275,
          16.536363636363635,
          16.463636363636365,
          17.95,
          17.72,
          19.555555555555557,
          19.455555555555556,
          19.41111111111111,
          19.166666666666668,
          24.271428571428572,
          24.142857142857142,
          27.733333333333334,
          27.366666666666664,
          32.62,
          51.86666666666667,
          51.833333333333336,
          51.699999999999996,
          76.5,
          75.8,
          75.5,
          75.4,
          149.5,
          145.6,
          144.8,
          144.7,
          143.3,
          141.6,
          140.9,
          140.6,
          137.9,
          136.4,
          135.9,
          135.6,
          133.4,
          133.3,
          131.5,
          131.4,
          126.6,
          126.2,
          125.5,
          124.1,
          122.8,
          122.5,
          121.6,
          121.2,
          120.9,
          120.7,
          120.6,
          119.7,
          119.2,
          115.1,
          110.9,
          109.7,
          106.4,
          103.3,
          102.2,
          100.5,
          97.9,
          96.6,
          94.8,
          92,
          87.5,
          85.4,
          85.1,
          84.7,
          81.2,
          80.7,
          78.2,
          77.9,
          77.9,
          77.6,
          77.4,
          76.7,
          73.9,
          73.6,
          71.6,
          67,
          60.7,
          53.3,
          46.1,
          44.9,
          39.7,
          34.3,
          27.4,
          0,
          0
         ],
         "xaxis": "x",
         "y": [
          0.16666666666666666,
          0.13333333333333336,
          0.35555555555555557,
          0.25555555555555554,
          0.4444444444444444,
          0.3333333333333333,
          0.19999999999999998,
          0.3111111111111111,
          0.16666666666666666,
          0.5333333333333333,
          0.25555555555555554,
          0.36666666666666664,
          0.3333333333333333,
          0.30000000000000004,
          0.4444444444444444,
          0.4444444444444444,
          0.36666666666666664,
          0.4444444444444444,
          0.30000000000000004,
          0.4666666666666667,
          0.36666666666666664,
          0.4222222222222222,
          0.2222222222222222,
          0.6444444444444444,
          0.3333333333333333,
          0.6111111111111112,
          0.30000000000000004,
          0.5555555555555556,
          0.5555555555555556,
          0.6222222222222222,
          0.47777777777777775,
          0.4444444444444444,
          0.47777777777777775,
          0.47777777777777775,
          0.5888888888888889,
          0.47777777777777775,
          0.4666666666666667,
          0.5888888888888889,
          0.5555555555555556,
          0.7,
          0.36666666666666664,
          0.4444444444444444,
          0.1888888888888889,
          0.7,
          0.30000000000000004,
          0.3333333333333333,
          0.6666666666666666,
          0.30000000000000004,
          0.5555555555555556,
          0.30000000000000004,
          0.5888888888888889,
          0.4444444444444444,
          0.7444444444444445,
          0.7,
          0.5555555555555556,
          0.30000000000000004,
          0.5222222222222223,
          0.47777777777777775,
          0.47777777777777775,
          0.6333333333333333,
          0.47777777777777775,
          0.4444444444444444,
          0.36666666666666664,
          0.7444444444444445,
          0.30000000000000004,
          0.30000000000000004,
          0.36666666666666664,
          0.5888888888888889,
          0.30000000000000004,
          0.5222222222222223,
          0.6333333333333333,
          0.5555555555555556,
          0.6333333333333333,
          0.47777777777777775,
          0.5,
          0.36666666666666664,
          0.6333333333333333,
          0.7444444444444445,
          0.3333333333333333,
          0.6666666666666666,
          0.6444444444444444,
          0.6333333333333333,
          0.6666666666666666,
          0.5555555555555556,
          0.47777777777777775,
          0.6666666666666666,
          0.5555555555555556,
          0.5222222222222223,
          0.7,
          0.3333333333333333,
          0.6333333333333333,
          0.41111111111111115,
          0.47777777777777775,
          0.5555555555555556,
          0.6666666666666666,
          0.8888888888888888,
          0.2777777777777778,
          0.6666666666666666,
          1,
          1
         ],
         "yaxis": "y"
        },
        {
         "customdata": [
          [
           "Travis Kelce",
           29
          ],
          [
           "Dalton Schultz",
           15
          ],
          [
           "Kyle Pitts",
           15
          ],
          [
           "Darren Waller",
           13
          ],
          [
           "George Kittle",
           12
          ],
          [
           "T.J. Hockenson",
           9
          ],
          [
           "Dallas Goedert",
           7
          ],
          [
           "Zach Ertz",
           7
          ],
          [
           "Cole Kmet",
           5
          ],
          [
           "Dawson Knox",
           5
          ],
          [
           "Pat Freiermuth",
           2
          ],
          [
           "Hunter Henry",
           1
          ],
          [
           "Noah Fant",
           1
          ],
          [
           "Irv Smith Jr.",
           1
          ],
          [
           "Gerald Everett",
           1
          ],
          [
           "Mike Gesicki",
           1
          ],
          [
           "Evan Engram",
           1
          ],
          [
           "Tyler Higbee",
           1
          ],
          [
           "Logan Thomas",
           1
          ],
          [
           "Albert Okwuegbunam",
           1
          ],
          [
           "David Njoku",
           1
          ],
          [
           "Mo Alie-Cox",
           1
          ],
          [
           "Robert Tonyan",
           1
          ],
          [
           "Austin Hooper",
           1
          ],
          [
           "Hayden Hurst",
           1
          ],
          [
           "Brevin Jordan",
           1
          ],
          [
           "Kyle Rudolph",
           1
          ],
          [
           "Adam Trautman",
           1
          ],
          [
           "Daniel Bellinger",
           1
          ],
          [
           "Tommy Tremble",
           1
          ],
          [
           "Cameron Brate",
           1
          ],
          [
           "Jonnu Smith",
           1
          ],
          [
           "C.J. Uzomah",
           1
          ],
          [
           "Ricky Seals-Jones",
           1
          ],
          [
           "Greg Dulcich",
           1
          ],
          [
           "Trey McBride",
           1
          ],
          [
           "Will Dissly",
           1
          ],
          [
           "Jelani Woods",
           1
          ]
         ],
         "hovertemplate": "position=TE<br>points_per_dollar=%{x}<br>risk=%{y}<br>name=%{customdata[0]}<br>$=%{customdata[1]}<extra></extra>",
         "legendgroup": "TE",
         "marker": {
          "color": "#ab63fa",
          "symbol": "x"
         },
         "mode": "markers",
         "name": "TE",
         "orientation": "v",
         "showlegend": true,
         "type": "scatter",
         "x": [
          7.344827586206897,
          11.593333333333334,
          11.586666666666668,
          12.86153846153846,
          13.908333333333333,
          17.133333333333333,
          21.428571428571427,
          21.414285714285715,
          28.82,
          28.26,
          66.6,
          128.2,
          126.5,
          124.8,
          121.3,
          119.9,
          118.8,
          111.6,
          109.6,
          107.5,
          104.7,
          98.9,
          95.5,
          93.9,
          93,
          90.3,
          79.5,
          77.9,
          71.6,
          70.6,
          69.4,
          67.3,
          65.2,
          64.3,
          63.4,
          54.3,
          44.4,
          38.3
         ],
         "xaxis": "x",
         "y": [
          0.07777777777777778,
          0.1111111111111111,
          0.25555555555555554,
          0.25555555555555554,
          0.41111111111111115,
          0.2222222222222222,
          0.25555555555555554,
          0.25555555555555554,
          0.25555555555555554,
          0.25555555555555554,
          0.24444444444444446,
          0.3333333333333333,
          0.30000000000000004,
          0.5222222222222223,
          0.3333333333333333,
          0.25555555555555554,
          0.6333333333333333,
          0.2777777777777778,
          0.7,
          0.5222222222222223,
          0.25555555555555554,
          0.30000000000000004,
          0.5888888888888889,
          0.2777777777777778,
          0.4444444444444444,
          0.36666666666666664,
          0.36666666666666664,
          0.41111111111111115,
          0.2777777777777778,
          0.6111111111111112,
          0.6333333333333333,
          0.5222222222222223,
          0.30000000000000004,
          0.5888888888888889,
          0.30000000000000004,
          0.5555555555555556,
          0.5555555555555556,
          0.6666666666666666
         ],
         "yaxis": "y"
        }
       ],
       "layout": {
        "legend": {
         "title": {
          "text": "position"
         },
         "tracegroupgap": 0
        },
        "template": {
         "data": {
          "bar": [
           {
            "error_x": {
             "color": "#2a3f5f"
            },
            "error_y": {
             "color": "#2a3f5f"
            },
            "marker": {
             "line": {
              "color": "#E5ECF6",
              "width": 0.5
             },
             "pattern": {
              "fillmode": "overlay",
              "size": 10,
              "solidity": 0.2
             }
            },
            "type": "bar"
           }
          ],
          "barpolar": [
           {
            "marker": {
             "line": {
              "color": "#E5ECF6",
              "width": 0.5
             },
             "pattern": {
              "fillmode": "overlay",
              "size": 10,
              "solidity": 0.2
             }
            },
            "type": "barpolar"
           }
          ],
          "carpet": [
           {
            "aaxis": {
             "endlinecolor": "#2a3f5f",
             "gridcolor": "white",
             "linecolor": "white",
             "minorgridcolor": "white",
             "startlinecolor": "#2a3f5f"
            },
            "baxis": {
             "endlinecolor": "#2a3f5f",
             "gridcolor": "white",
             "linecolor": "white",
             "minorgridcolor": "white",
             "startlinecolor": "#2a3f5f"
            },
            "type": "carpet"
           }
          ],
          "choropleth": [
           {
            "colorbar": {
             "outlinewidth": 0,
             "ticks": ""
            },
            "type": "choropleth"
           }
          ],
          "contour": [
           {
            "colorbar": {
             "outlinewidth": 0,
             "ticks": ""
            },
            "colorscale": [
             [
              0,
              "#0d0887"
             ],
             [
              0.1111111111111111,
              "#46039f"
             ],
             [
              0.2222222222222222,
              "#7201a8"
             ],
             [
              0.3333333333333333,
              "#9c179e"
             ],
             [
              0.4444444444444444,
              "#bd3786"
             ],
             [
              0.5555555555555556,
              "#d8576b"
             ],
             [
              0.6666666666666666,
              "#ed7953"
             ],
             [
              0.7777777777777778,
              "#fb9f3a"
             ],
             [
              0.8888888888888888,
              "#fdca26"
             ],
             [
              1,
              "#f0f921"
             ]
            ],
            "type": "contour"
           }
          ],
          "contourcarpet": [
           {
            "colorbar": {
             "outlinewidth": 0,
             "ticks": ""
            },
            "type": "contourcarpet"
           }
          ],
          "heatmap": [
           {
            "colorbar": {
             "outlinewidth": 0,
             "ticks": ""
            },
            "colorscale": [
             [
              0,
              "#0d0887"
             ],
             [
              0.1111111111111111,
              "#46039f"
             ],
             [
              0.2222222222222222,
              "#7201a8"
             ],
             [
              0.3333333333333333,
              "#9c179e"
             ],
             [
              0.4444444444444444,
              "#bd3786"
             ],
             [
              0.5555555555555556,
              "#d8576b"
             ],
             [
              0.6666666666666666,
              "#ed7953"
             ],
             [
              0.7777777777777778,
              "#fb9f3a"
             ],
             [
              0.8888888888888888,
              "#fdca26"
             ],
             [
              1,
              "#f0f921"
             ]
            ],
            "type": "heatmap"
           }
          ],
          "heatmapgl": [
           {
            "colorbar": {
             "outlinewidth": 0,
             "ticks": ""
            },
            "colorscale": [
             [
              0,
              "#0d0887"
             ],
             [
              0.1111111111111111,
              "#46039f"
             ],
             [
              0.2222222222222222,
              "#7201a8"
             ],
             [
              0.3333333333333333,
              "#9c179e"
             ],
             [
              0.4444444444444444,
              "#bd3786"
             ],
             [
              0.5555555555555556,
              "#d8576b"
             ],
             [
              0.6666666666666666,
              "#ed7953"
             ],
             [
              0.7777777777777778,
              "#fb9f3a"
             ],
             [
              0.8888888888888888,
              "#fdca26"
             ],
             [
              1,
              "#f0f921"
             ]
            ],
            "type": "heatmapgl"
           }
          ],
          "histogram": [
           {
            "marker": {
             "pattern": {
              "fillmode": "overlay",
              "size": 10,
              "solidity": 0.2
             }
            },
            "type": "histogram"
           }
          ],
          "histogram2d": [
           {
            "colorbar": {
             "outlinewidth": 0,
             "ticks": ""
            },
            "colorscale": [
             [
              0,
              "#0d0887"
             ],
             [
              0.1111111111111111,
              "#46039f"
             ],
             [
              0.2222222222222222,
              "#7201a8"
             ],
             [
              0.3333333333333333,
              "#9c179e"
             ],
             [
              0.4444444444444444,
              "#bd3786"
             ],
             [
              0.5555555555555556,
              "#d8576b"
             ],
             [
              0.6666666666666666,
              "#ed7953"
             ],
             [
              0.7777777777777778,
              "#fb9f3a"
             ],
             [
              0.8888888888888888,
              "#fdca26"
             ],
             [
              1,
              "#f0f921"
             ]
            ],
            "type": "histogram2d"
           }
          ],
          "histogram2dcontour": [
           {
            "colorbar": {
             "outlinewidth": 0,
             "ticks": ""
            },
            "colorscale": [
             [
              0,
              "#0d0887"
             ],
             [
              0.1111111111111111,
              "#46039f"
             ],
             [
              0.2222222222222222,
              "#7201a8"
             ],
             [
              0.3333333333333333,
              "#9c179e"
             ],
             [
              0.4444444444444444,
              "#bd3786"
             ],
             [
              0.5555555555555556,
              "#d8576b"
             ],
             [
              0.6666666666666666,
              "#ed7953"
             ],
             [
              0.7777777777777778,
              "#fb9f3a"
             ],
             [
              0.8888888888888888,
              "#fdca26"
             ],
             [
              1,
              "#f0f921"
             ]
            ],
            "type": "histogram2dcontour"
           }
          ],
          "mesh3d": [
           {
            "colorbar": {
             "outlinewidth": 0,
             "ticks": ""
            },
            "type": "mesh3d"
           }
          ],
          "parcoords": [
           {
            "line": {
             "colorbar": {
              "outlinewidth": 0,
              "ticks": ""
             }
            },
            "type": "parcoords"
           }
          ],
          "pie": [
           {
            "automargin": true,
            "type": "pie"
           }
          ],
          "scatter": [
           {
            "fillpattern": {
             "fillmode": "overlay",
             "size": 10,
             "solidity": 0.2
            },
            "type": "scatter"
           }
          ],
          "scatter3d": [
           {
            "line": {
             "colorbar": {
              "outlinewidth": 0,
              "ticks": ""
             }
            },
            "marker": {
             "colorbar": {
              "outlinewidth": 0,
              "ticks": ""
             }
            },
            "type": "scatter3d"
           }
          ],
          "scattercarpet": [
           {
            "marker": {
             "colorbar": {
              "outlinewidth": 0,
              "ticks": ""
             }
            },
            "type": "scattercarpet"
           }
          ],
          "scattergeo": [
           {
            "marker": {
             "colorbar": {
              "outlinewidth": 0,
              "ticks": ""
             }
            },
            "type": "scattergeo"
           }
          ],
          "scattergl": [
           {
            "marker": {
             "colorbar": {
              "outlinewidth": 0,
              "ticks": ""
             }
            },
            "type": "scattergl"
           }
          ],
          "scattermapbox": [
           {
            "marker": {
             "colorbar": {
              "outlinewidth": 0,
              "ticks": ""
             }
            },
            "type": "scattermapbox"
           }
          ],
          "scatterpolar": [
           {
            "marker": {
             "colorbar": {
              "outlinewidth": 0,
              "ticks": ""
             }
            },
            "type": "scatterpolar"
           }
          ],
          "scatterpolargl": [
           {
            "marker": {
             "colorbar": {
              "outlinewidth": 0,
              "ticks": ""
             }
            },
            "type": "scatterpolargl"
           }
          ],
          "scatterternary": [
           {
            "marker": {
             "colorbar": {
              "outlinewidth": 0,
              "ticks": ""
             }
            },
            "type": "scatterternary"
           }
          ],
          "surface": [
           {
            "colorbar": {
             "outlinewidth": 0,
             "ticks": ""
            },
            "colorscale": [
             [
              0,
              "#0d0887"
             ],
             [
              0.1111111111111111,
              "#46039f"
             ],
             [
              0.2222222222222222,
              "#7201a8"
             ],
             [
              0.3333333333333333,
              "#9c179e"
             ],
             [
              0.4444444444444444,
              "#bd3786"
             ],
             [
              0.5555555555555556,
              "#d8576b"
             ],
             [
              0.6666666666666666,
              "#ed7953"
             ],
             [
              0.7777777777777778,
              "#fb9f3a"
             ],
             [
              0.8888888888888888,
              "#fdca26"
             ],
             [
              1,
              "#f0f921"
             ]
            ],
            "type": "surface"
           }
          ],
          "table": [
           {
            "cells": {
             "fill": {
              "color": "#EBF0F8"
             },
             "line": {
              "color": "white"
             }
            },
            "header": {
             "fill": {
              "color": "#C8D4E3"
             },
             "line": {
              "color": "white"
             }
            },
            "type": "table"
           }
          ]
         },
         "layout": {
          "annotationdefaults": {
           "arrowcolor": "#2a3f5f",
           "arrowhead": 0,
           "arrowwidth": 1
          },
          "autotypenumbers": "strict",
          "coloraxis": {
           "colorbar": {
            "outlinewidth": 0,
            "ticks": ""
           }
          },
          "colorscale": {
           "diverging": [
            [
             0,
             "#8e0152"
            ],
            [
             0.1,
             "#c51b7d"
            ],
            [
             0.2,
             "#de77ae"
            ],
            [
             0.3,
             "#f1b6da"
            ],
            [
             0.4,
             "#fde0ef"
            ],
            [
             0.5,
             "#f7f7f7"
            ],
            [
             0.6,
             "#e6f5d0"
            ],
            [
             0.7,
             "#b8e186"
            ],
            [
             0.8,
             "#7fbc41"
            ],
            [
             0.9,
             "#4d9221"
            ],
            [
             1,
             "#276419"
            ]
           ],
           "sequential": [
            [
             0,
             "#0d0887"
            ],
            [
             0.1111111111111111,
             "#46039f"
            ],
            [
             0.2222222222222222,
             "#7201a8"
            ],
            [
             0.3333333333333333,
             "#9c179e"
            ],
            [
             0.4444444444444444,
             "#bd3786"
            ],
            [
             0.5555555555555556,
             "#d8576b"
            ],
            [
             0.6666666666666666,
             "#ed7953"
            ],
            [
             0.7777777777777778,
             "#fb9f3a"
            ],
            [
             0.8888888888888888,
             "#fdca26"
            ],
            [
             1,
             "#f0f921"
            ]
           ],
           "sequentialminus": [
            [
             0,
             "#0d0887"
            ],
            [
             0.1111111111111111,
             "#46039f"
            ],
            [
             0.2222222222222222,
             "#7201a8"
            ],
            [
             0.3333333333333333,
             "#9c179e"
            ],
            [
             0.4444444444444444,
             "#bd3786"
            ],
            [
             0.5555555555555556,
             "#d8576b"
            ],
            [
             0.6666666666666666,
             "#ed7953"
            ],
            [
             0.7777777777777778,
             "#fb9f3a"
            ],
            [
             0.8888888888888888,
             "#fdca26"
            ],
            [
             1,
             "#f0f921"
            ]
           ]
          },
          "colorway": [
           "#636efa",
           "#EF553B",
           "#00cc96",
           "#ab63fa",
           "#FFA15A",
           "#19d3f3",
           "#FF6692",
           "#B6E880",
           "#FF97FF",
           "#FECB52"
          ],
          "font": {
           "color": "#2a3f5f"
          },
          "geo": {
           "bgcolor": "white",
           "lakecolor": "white",
           "landcolor": "#E5ECF6",
           "showlakes": true,
           "showland": true,
           "subunitcolor": "white"
          },
          "hoverlabel": {
           "align": "left"
          },
          "hovermode": "closest",
          "mapbox": {
           "style": "light"
          },
          "paper_bgcolor": "white",
          "plot_bgcolor": "#E5ECF6",
          "polar": {
           "angularaxis": {
            "gridcolor": "white",
            "linecolor": "white",
            "ticks": ""
           },
           "bgcolor": "#E5ECF6",
           "radialaxis": {
            "gridcolor": "white",
            "linecolor": "white",
            "ticks": ""
           }
          },
          "scene": {
           "xaxis": {
            "backgroundcolor": "#E5ECF6",
            "gridcolor": "white",
            "gridwidth": 2,
            "linecolor": "white",
            "showbackground": true,
            "ticks": "",
            "zerolinecolor": "white"
           },
           "yaxis": {
            "backgroundcolor": "#E5ECF6",
            "gridcolor": "white",
            "gridwidth": 2,
            "linecolor": "white",
            "showbackground": true,
            "ticks": "",
            "zerolinecolor": "white"
           },
           "zaxis": {
            "backgroundcolor": "#E5ECF6",
            "gridcolor": "white",
            "gridwidth": 2,
            "linecolor": "white",
            "showbackground": true,
            "ticks": "",
            "zerolinecolor": "white"
           }
          },
          "shapedefaults": {
           "line": {
            "color": "#2a3f5f"
           }
          },
          "ternary": {
           "aaxis": {
            "gridcolor": "white",
            "linecolor": "white",
            "ticks": ""
           },
           "baxis": {
            "gridcolor": "white",
            "linecolor": "white",
            "ticks": ""
           },
           "bgcolor": "#E5ECF6",
           "caxis": {
            "gridcolor": "white",
            "linecolor": "white",
            "ticks": ""
           }
          },
          "title": {
           "x": 0.05
          },
          "xaxis": {
           "automargin": true,
           "gridcolor": "white",
           "linecolor": "white",
           "ticks": "",
           "title": {
            "standoff": 15
           },
           "zerolinecolor": "white",
           "zerolinewidth": 2
          },
          "yaxis": {
           "automargin": true,
           "gridcolor": "white",
           "linecolor": "white",
           "ticks": "",
           "title": {
            "standoff": 15
           },
           "zerolinecolor": "white",
           "zerolinewidth": 2
          }
         }
        },
        "title": {
         "text": "Player Value vs Risk"
        },
        "xaxis": {
         "anchor": "y",
         "domain": [
          0,
          1
         ],
         "title": {
          "text": "points_per_dollar"
         }
        },
        "yaxis": {
         "anchor": "x",
         "domain": [
          0,
          1
         ],
         "title": {
          "text": "risk"
         }
        }
       }
      }
     },
     "metadata": {},
     "output_type": "display_data"
    }
   ],
   "source": [
    "fig = px.scatter(\n",
    "    data_frame=data,\n",
    "    x='points_per_dollar',\n",
    "    y='risk',\n",
    "    color='position',\n",
    "    symbol='position',\n",
    "    title='Player Value vs Risk', \n",
    "    hover_data=['name', '$'],\n",
    ")\n",
    "plotly.offline.plot(fig, filename='../plots/points_per_dollar_vs_risk.html', auto_open=False)\n",
    "fig.show()"
   ]
  },
  {
   "cell_type": "code",
   "execution_count": 185,
   "metadata": {},
   "outputs": [
    {
     "data": {
      "application/vnd.plotly.v1+json": {
       "config": {
        "plotlyServerURL": "https://plot.ly"
       },
       "data": [
        {
         "customdata": [
          [
           "Justin Herbert",
           35,
           357.9
          ],
          [
           "Kyler Murray",
           29,
           350
          ],
          [
           "Jalen Hurts",
           30,
           348
          ],
          [
           "Patrick Mahomes",
           29,
           344.1
          ],
          [
           "Lamar Jackson",
           27,
           339.6
          ],
          [
           "Tom Brady",
           25,
           330.5
          ],
          [
           "Russell Wilson",
           22,
           326.5
          ],
          [
           "Joe Burrow",
           20,
           320.2
          ],
          [
           "Trey Lance",
           17,
           312.9
          ],
          [
           "Dak Prescott",
           17,
           309.6
          ],
          [
           "Matthew Stafford",
           15,
           300.1
          ],
          [
           "Kirk Cousins",
           14,
           299.9
          ],
          [
           "Aaron Rodgers",
           12,
           293.3
          ],
          [
           "Derek Carr",
           6,
           274
          ],
          [
           "Daniel Jones",
           2,
           261.3
          ],
          [
           "Tua Tagovailoa",
           2,
           259.7
          ],
          [
           "Trevor Lawrence",
           1,
           258.5
          ],
          [
           "Mac Jones",
           1,
           254.6
          ],
          [
           "Matt Ryan",
           1,
           254.2
          ],
          [
           "Justin Fields",
           1,
           251.3
          ],
          [
           "Jameis Winston",
           1,
           247.9
          ],
          [
           "Ryan Tannehill",
           1,
           246.8
          ],
          [
           "Carson Wentz",
           1,
           244.1
          ],
          [
           "Mitch Trubisky",
           1,
           243.8
          ],
          [
           "Jared Goff",
           1,
           241.2
          ],
          [
           "Zach Wilson",
           1,
           239.5
          ],
          [
           "Baker Mayfield",
           1,
           231.9
          ],
          [
           "Marcus Mariota",
           1,
           230.6
          ],
          [
           "Geno Smith",
           1,
           227.6
          ],
          [
           "Davis Mills",
           1,
           212.4
          ],
          [
           "Deshaun Watson",
           1,
           175.3
          ],
          [
           "Kenny Pickett",
           1,
           126.1
          ],
          [
           "Jacoby Brissett",
           1,
           109.1
          ]
         ],
         "hovertemplate": "position=QB<br>points_per_dollar=%{x}<br>tier=%{y}<br>name=%{customdata[0]}<br>$=%{customdata[1]}<br>points=%{customdata[2]}<extra></extra>",
         "legendgroup": "QB",
         "marker": {
          "color": "#636efa",
          "symbol": "circle"
         },
         "mode": "markers",
         "name": "QB",
         "orientation": "v",
         "showlegend": true,
         "type": "scatter",
         "x": [
          10.225714285714284,
          12.068965517241379,
          11.6,
          11.865517241379312,
          12.57777777777778,
          13.22,
          14.840909090909092,
          16.009999999999998,
          18.405882352941177,
          18.211764705882356,
          20.006666666666668,
          21.42142857142857,
          24.441666666666666,
          45.666666666666664,
          130.65,
          129.85,
          258.5,
          254.6,
          254.2,
          251.3,
          247.9,
          246.8,
          244.1,
          243.8,
          241.2,
          239.5,
          231.9,
          230.6,
          227.6,
          212.4,
          175.3,
          126.1,
          109.1
         ],
         "xaxis": "x",
         "y": [
          2,
          2,
          2,
          2,
          3,
          3,
          4,
          4,
          4,
          4,
          5,
          5,
          5,
          5,
          6,
          6,
          6,
          7,
          7,
          7,
          7,
          7,
          7,
          7,
          8,
          8,
          8,
          8,
          8,
          8,
          9,
          9,
          9
         ],
         "yaxis": "y"
        },
        {
         "customdata": [
          [
           "Christian McCaffrey",
           62,
           315.5
          ],
          [
           "Austin Ekeler",
           53,
           276.7
          ],
          [
           "Dalvin Cook",
           47,
           251.9
          ],
          [
           "Alvin Kamara",
           46,
           251.1
          ],
          [
           "Ezekiel Elliott",
           40,
           235.7
          ],
          [
           "Aaron Jones",
           42,
           234.4
          ],
          [
           "Nick Chubb",
           37,
           222.1
          ],
          [
           "Javonte Williams",
           36,
           219.5
          ],
          [
           "Saquon Barkley",
           35,
           219.3
          ],
          [
           "David Montgomery",
           31,
           203.2
          ],
          [
           "Josh Jacobs",
           30,
           202.4
          ],
          [
           "Breece Hall",
           28,
           196
          ],
          [
           "Antonio Gibson",
           27,
           190.9
          ],
          [
           "Travis Etienne Jr.",
           25,
           187.4
          ],
          [
           "Cam Akers",
           24,
           183.6
          ],
          [
           "Chase Edmonds",
           24,
           181
          ],
          [
           "AJ Dillon",
           24,
           180.1
          ],
          [
           "Clyde Edwards-Helaire",
           23,
           179.1
          ],
          [
           "Rashaad Penny",
           23,
           178.7
          ],
          [
           "Elijah Mitchell",
           22,
           174
          ],
          [
           "Kareem Hunt",
           22,
           173.6
          ],
          [
           "Miles Sanders",
           20,
           169.6
          ],
          [
           "J.K. Dobbins",
           18,
           165.4
          ],
          [
           "Damien Harris",
           19,
           164.3
          ],
          [
           "Tony Pollard",
           16,
           154.6
          ],
          [
           "Devin Singletary",
           15,
           153.5
          ],
          [
           "Melvin Gordon III",
           14,
           148.7
          ],
          [
           "Rhamondre Stevenson",
           11,
           139.4
          ],
          [
           "Kenneth Walker III",
           8,
           128.5
          ],
          [
           "Darrell Henderson Jr.",
           6,
           122.5
          ],
          [
           "Jamaal Williams",
           6,
           122
          ],
          [
           "J.D. McKissic",
           4,
           115.5
          ],
          [
           "Michael Carter",
           3,
           113.3
          ],
          [
           "Darrel Williams",
           3,
           112.1
          ],
          [
           "Rachaad White",
           3,
           111.9
          ],
          [
           "Dameon Pierce",
           3,
           110.7
          ],
          [
           "Mark Ingram II",
           2,
           109
          ],
          [
           "Kenneth Gainwell",
           1,
           105.7
          ],
          [
           "Nyheim Hines",
           1,
           103.6
          ],
          [
           "Gus Edwards",
           1,
           102
          ],
          [
           "Isaiah Spiller",
           1,
           101
          ],
          [
           "James Cook",
           1,
           99.4
          ],
          [
           "Kenyan Drake",
           1,
           93.3
          ],
          [
           "Alexander Mattison",
           1,
           91.1
          ],
          [
           "James Robinson",
           1,
           90.3
          ],
          [
           "Ronald Jones",
           1,
           88.9
          ],
          [
           "Damien Williams",
           1,
           88
          ],
          [
           "Rex Burkhead",
           1,
           87.3
          ],
          [
           "Raheem Mostert",
           1,
           86.6
          ],
          [
           "Brian Robinson",
           1,
           81.6
          ],
          [
           "Hassan Haskins",
           1,
           78.9
          ],
          [
           "Khalil Herbert",
           1,
           76.6
          ],
          [
           "Matt Breida",
           1,
           75.5
          ],
          [
           "Tyler Allgeier",
           1,
           70.4
          ],
          [
           "Marlon Mack",
           1,
           68.8
          ],
          [
           "Boston Scott",
           1,
           67.3
          ],
          [
           "Jeff Wilson Jr.",
           1,
           63.5
          ],
          [
           "Sony Michel",
           1,
           56.8
          ],
          [
           "Tyrion Davis-Price",
           1,
           56.7
          ],
          [
           "Jerick McKinnon",
           1,
           55.9
          ],
          [
           "Chris Evans",
           1,
           53.7
          ],
          [
           "Mike Davis",
           1,
           52.4
          ],
          [
           "D'Ernest Johnson",
           1,
           47.6
          ],
          [
           "Eno Benjamin",
           1,
           47.3
          ],
          [
           "Trey Sermon",
           1,
           43.3
          ],
          [
           "Zamir White",
           1,
           36.7
          ],
          [
           "Benny Snell Jr.",
           1,
           30.8
          ],
          [
           "Tyler Badie",
           1,
           29.2
          ],
          [
           "Isiah Pacheco",
           1,
           10.7
          ]
         ],
         "hovertemplate": "position=RB<br>points_per_dollar=%{x}<br>tier=%{y}<br>name=%{customdata[0]}<br>$=%{customdata[1]}<br>points=%{customdata[2]}<extra></extra>",
         "legendgroup": "RB",
         "marker": {
          "color": "#EF553B",
          "symbol": "diamond"
         },
         "mode": "markers",
         "name": "RB",
         "orientation": "v",
         "showlegend": true,
         "type": "scatter",
         "x": [
          5.088709677419355,
          5.220754716981132,
          5.359574468085106,
          5.458695652173913,
          5.8925,
          5.580952380952381,
          6.0027027027027025,
          6.097222222222222,
          6.265714285714286,
          6.554838709677419,
          6.746666666666667,
          7,
          7.07037037037037,
          7.496,
          7.6499999999999995,
          7.541666666666667,
          7.504166666666666,
          7.78695652173913,
          7.769565217391304,
          7.909090909090909,
          7.890909090909091,
          8.48,
          9.18888888888889,
          8.647368421052633,
          9.6625,
          10.233333333333333,
          10.62142857142857,
          12.672727272727274,
          16.0625,
          20.416666666666668,
          20.333333333333332,
          28.875,
          37.766666666666666,
          37.36666666666667,
          37.300000000000004,
          36.9,
          54.5,
          105.7,
          103.6,
          102,
          101,
          99.4,
          93.3,
          91.1,
          90.3,
          88.9,
          88,
          87.3,
          86.6,
          81.6,
          78.9,
          76.6,
          75.5,
          70.4,
          68.8,
          67.3,
          63.5,
          56.8,
          56.7,
          55.9,
          53.7,
          52.4,
          47.6,
          47.3,
          43.3,
          36.7,
          30.8,
          29.2,
          10.7
         ],
         "xaxis": "x",
         "y": [
          1,
          2,
          2,
          2,
          3,
          3,
          3,
          4,
          4,
          4,
          5,
          5,
          5,
          5,
          5,
          5,
          5,
          5,
          5,
          5,
          5,
          6,
          6,
          6,
          7,
          7,
          7,
          7,
          7,
          8,
          8,
          9,
          9,
          9,
          9,
          9,
          9,
          9,
          9,
          9,
          9,
          9,
          10,
          10,
          10,
          10,
          10,
          10,
          11,
          11,
          11,
          11,
          11,
          11,
          11,
          11,
          11,
          11,
          11,
          11,
          11,
          11,
          11,
          11,
          11,
          11,
          11,
          11,
          11
         ],
         "yaxis": "y"
        },
        {
         "customdata": [
          [
           "Davante Adams",
           34,
           251.9
          ],
          [
           "Mike Evans",
           26,
           225
          ],
          [
           "Mike Williams",
           22,
           215.8
          ],
          [
           "Tyreek Hill",
           20,
           209
          ],
          [
           "DJ Moore",
           18,
           205.9
          ],
          [
           "Courtland Sutton",
           18,
           205
          ],
          [
           "Keenan Allen",
           17,
           199.1
          ],
          [
           "A.J. Brown",
           17,
           199.1
          ],
          [
           "Brandin Cooks",
           17,
           198.3
          ],
          [
           "Allen Robinson II",
           14,
           190.5
          ],
          [
           "Jaylen Waddle",
           14,
           190
          ],
          [
           "Diontae Johnson",
           13,
           187
          ],
          [
           "Darnell Mooney",
           13,
           186
          ],
          [
           "Amon-Ra St. Brown",
           12,
           183.6
          ],
          [
           "Jerry Jeudy",
           12,
           183.3
          ],
          [
           "Adam Thielen",
           11,
           181.9
          ],
          [
           "Terry McLaurin",
           11,
           181.1
          ],
          [
           "DK Metcalf",
           10,
           179.5
          ],
          [
           "Rashod Bateman",
           10,
           177.2
          ],
          [
           "Christian Kirk",
           9,
           176
          ],
          [
           "Elijah Moore",
           9,
           175.1
          ],
          [
           "JuJu Smith-Schuster",
           9,
           174.7
          ],
          [
           "Hunter Renfrow",
           9,
           172.5
          ],
          [
           "Michael Thomas",
           7,
           169.9
          ],
          [
           "Amari Cooper",
           7,
           169
          ],
          [
           "Robert Woods",
           6,
           166.4
          ],
          [
           "DeVonta Smith",
           6,
           164.2
          ],
          [
           "Gabe Davis",
           5,
           163.1
          ],
          [
           "Chase Claypool",
           3,
           155.6
          ],
          [
           "Chris Godwin",
           3,
           155.5
          ],
          [
           "Allen Lazard",
           3,
           155.1
          ],
          [
           "Tyler Lockett",
           2,
           153
          ],
          [
           "Drake London",
           2,
           151.6
          ],
          [
           "DeVante Parker",
           2,
           151
          ],
          [
           "Kadarius Toney",
           2,
           150.8
          ],
          [
           "Garrett Wilson",
           1,
           149.5
          ],
          [
           "Chris Olave",
           1,
           145.6
          ],
          [
           "Treylon Burks",
           1,
           144.8
          ],
          [
           "Marquez Valdes-Scantling",
           1,
           144.7
          ],
          [
           "Kenny Golladay",
           1,
           143.3
          ],
          [
           "Brandon Aiyuk",
           1,
           141.6
          ],
          [
           "Marvin Jones Jr.",
           1,
           140.9
          ],
          [
           "Tyler Boyd",
           1,
           140.6
          ],
          [
           "Michael Gallup",
           1,
           137.9
          ],
          [
           "K.J. Osborn",
           1,
           136.4
          ],
          [
           "Jakobi Meyers",
           1,
           135.9
          ],
          [
           "Julio Jones",
           1,
           135.6
          ],
          [
           "Kendrick Bourne",
           1,
           133.4
          ],
          [
           "Jarvis Landry",
           1,
           133.3
          ],
          [
           "Russell Gage",
           1,
           131.5
          ],
          [
           "Randall Cobb",
           1,
           131.4
          ],
          [
           "Rondale Moore",
           1,
           126.6
          ],
          [
           "DeAndre Hopkins",
           1,
           126.2
          ],
          [
           "Robbie Anderson",
           1,
           125.5
          ],
          [
           "KJ Hamler",
           1,
           124.1
          ],
          [
           "Donovan Peoples-Jones",
           1,
           122.8
          ],
          [
           "Jahan Dotson",
           1,
           122.5
          ],
          [
           "Corey Davis",
           1,
           121.6
          ],
          [
           "Mecole Hardman",
           1,
           121.2
          ],
          [
           "Jameson Williams",
           1,
           120.9
          ],
          [
           "Jalen Tolbert",
           1,
           120.7
          ],
          [
           "Van Jefferson",
           1,
           120.6
          ],
          [
           "DJ Chark",
           1,
           119.7
          ],
          [
           "Curtis Samuel",
           1,
           119.2
          ],
          [
           "Joshua Palmer",
           1,
           115.1
          ],
          [
           "Cedrick Wilson Jr.",
           1,
           110.9
          ],
          [
           "Nico Collins",
           1,
           109.7
          ],
          [
           "A.J. Green",
           1,
           106.4
          ],
          [
           "Devin Duvernay",
           1,
           103.3
          ],
          [
           "Skyy Moore",
           1,
           102.2
          ],
          [
           "Alec Pierce",
           1,
           100.5
          ],
          [
           "Wan'Dale Robinson",
           1,
           97.9
          ],
          [
           "Parris Campbell",
           1,
           96.6
          ],
          [
           "Sammy Watkins",
           1,
           94.8
          ],
          [
           "Zay Jones",
           1,
           92
          ],
          [
           "Nick Westbrook-Ikhine",
           1,
           87.5
          ],
          [
           "Bryan Edwards",
           1,
           85.4
          ],
          [
           "Terrace Marshall Jr.",
           1,
           85.1
          ],
          [
           "Quez Watkins",
           1,
           84.7
          ],
          [
           "Jamison Crowder",
           1,
           81.2
          ],
          [
           "Laviska Shenault Jr.",
           1,
           80.7
          ],
          [
           "George Pickens",
           1,
           78.2
          ],
          [
           "Romeo Doubs",
           1,
           77.9
          ],
          [
           "David Bell",
           1,
           77.9
          ],
          [
           "Olamide Zaccheaus",
           1,
           77.6
          ],
          [
           "Isaiah McKenzie",
           1,
           77.4
          ],
          [
           "Christian Watson",
           1,
           76.7
          ],
          [
           "N'Keal Harry",
           1,
           73.9
          ],
          [
           "Byron Pringle",
           1,
           73.6
          ],
          [
           "Deonte Harty",
           1,
           71.6
          ],
          [
           "Velus Jones Jr.",
           1,
           67
          ],
          [
           "Anthony Schwartz",
           1,
           60.7
          ],
          [
           "Nelson Agholor",
           1,
           53.3
          ],
          [
           "Tyquan Thornton",
           1,
           46.1
          ],
          [
           "Calvin Austin III",
           1,
           44.9
          ],
          [
           "Sterling Shepard",
           1,
           39.7
          ],
          [
           "Tutu Atwell",
           1,
           34.3
          ],
          [
           "James Washington",
           1,
           27.4
          ],
          [
           "Tim Patrick",
           1,
           0
          ],
          [
           "John Metchie III",
           1,
           0
          ]
         ],
         "hovertemplate": "position=WR<br>points_per_dollar=%{x}<br>tier=%{y}<br>name=%{customdata[0]}<br>$=%{customdata[1]}<br>points=%{customdata[2]}<extra></extra>",
         "legendgroup": "WR",
         "marker": {
          "color": "#00cc96",
          "symbol": "square"
         },
         "mode": "markers",
         "name": "WR",
         "orientation": "v",
         "showlegend": true,
         "type": "scatter",
         "x": [
          7.408823529411765,
          8.653846153846153,
          9.80909090909091,
          10.45,
          11.43888888888889,
          11.38888888888889,
          11.711764705882352,
          11.711764705882352,
          11.664705882352942,
          13.607142857142858,
          13.571428571428571,
          14.384615384615385,
          14.307692307692308,
          15.299999999999999,
          15.275,
          16.536363636363635,
          16.463636363636365,
          17.95,
          17.72,
          19.555555555555557,
          19.455555555555556,
          19.41111111111111,
          19.166666666666668,
          24.271428571428572,
          24.142857142857142,
          27.733333333333334,
          27.366666666666664,
          32.62,
          51.86666666666667,
          51.833333333333336,
          51.699999999999996,
          76.5,
          75.8,
          75.5,
          75.4,
          149.5,
          145.6,
          144.8,
          144.7,
          143.3,
          141.6,
          140.9,
          140.6,
          137.9,
          136.4,
          135.9,
          135.6,
          133.4,
          133.3,
          131.5,
          131.4,
          126.6,
          126.2,
          125.5,
          124.1,
          122.8,
          122.5,
          121.6,
          121.2,
          120.9,
          120.7,
          120.6,
          119.7,
          119.2,
          115.1,
          110.9,
          109.7,
          106.4,
          103.3,
          102.2,
          100.5,
          97.9,
          96.6,
          94.8,
          92,
          87.5,
          85.4,
          85.1,
          84.7,
          81.2,
          80.7,
          78.2,
          77.9,
          77.9,
          77.6,
          77.4,
          76.7,
          73.9,
          73.6,
          71.6,
          67,
          60.7,
          53.3,
          46.1,
          44.9,
          39.7,
          34.3,
          27.4,
          0,
          0
         ],
         "xaxis": "x",
         "y": [
          2,
          2,
          2,
          3,
          3,
          3,
          3,
          3,
          3,
          3,
          3,
          4,
          4,
          4,
          4,
          4,
          4,
          4,
          4,
          4,
          4,
          4,
          4,
          4,
          4,
          4,
          4,
          4,
          5,
          5,
          5,
          5,
          5,
          5,
          5,
          5,
          5,
          5,
          5,
          5,
          5,
          5,
          5,
          5,
          6,
          6,
          6,
          6,
          6,
          6,
          6,
          6,
          6,
          6,
          6,
          6,
          6,
          6,
          6,
          6,
          6,
          6,
          6,
          6,
          6,
          7,
          7,
          7,
          7,
          7,
          7,
          7,
          7,
          7,
          8,
          8,
          8,
          8,
          8,
          9,
          9,
          9,
          9,
          9,
          9,
          9,
          9,
          9,
          9,
          9,
          9,
          9,
          9,
          10,
          10,
          10,
          10,
          10,
          10,
          10
         ],
         "yaxis": "y"
        },
        {
         "customdata": [
          [
           "Travis Kelce",
           29,
           213
          ],
          [
           "Dalton Schultz",
           15,
           173.9
          ],
          [
           "Kyle Pitts",
           15,
           173.8
          ],
          [
           "Darren Waller",
           13,
           167.2
          ],
          [
           "George Kittle",
           12,
           166.9
          ],
          [
           "T.J. Hockenson",
           9,
           154.2
          ],
          [
           "Dallas Goedert",
           7,
           150
          ],
          [
           "Zach Ertz",
           7,
           149.9
          ],
          [
           "Cole Kmet",
           5,
           144.1
          ],
          [
           "Dawson Knox",
           5,
           141.3
          ],
          [
           "Pat Freiermuth",
           2,
           133.2
          ],
          [
           "Hunter Henry",
           1,
           128.2
          ],
          [
           "Noah Fant",
           1,
           126.5
          ],
          [
           "Irv Smith Jr.",
           1,
           124.8
          ],
          [
           "Gerald Everett",
           1,
           121.3
          ],
          [
           "Mike Gesicki",
           1,
           119.9
          ],
          [
           "Evan Engram",
           1,
           118.8
          ],
          [
           "Tyler Higbee",
           1,
           111.6
          ],
          [
           "Logan Thomas",
           1,
           109.6
          ],
          [
           "Albert Okwuegbunam",
           1,
           107.5
          ],
          [
           "David Njoku",
           1,
           104.7
          ],
          [
           "Mo Alie-Cox",
           1,
           98.9
          ],
          [
           "Robert Tonyan",
           1,
           95.5
          ],
          [
           "Austin Hooper",
           1,
           93.9
          ],
          [
           "Hayden Hurst",
           1,
           93
          ],
          [
           "Brevin Jordan",
           1,
           90.3
          ],
          [
           "Kyle Rudolph",
           1,
           79.5
          ],
          [
           "Adam Trautman",
           1,
           77.9
          ],
          [
           "Daniel Bellinger",
           1,
           71.6
          ],
          [
           "Tommy Tremble",
           1,
           70.6
          ],
          [
           "Cameron Brate",
           1,
           69.4
          ],
          [
           "Jonnu Smith",
           1,
           67.3
          ],
          [
           "C.J. Uzomah",
           1,
           65.2
          ],
          [
           "Ricky Seals-Jones",
           1,
           64.3
          ],
          [
           "Greg Dulcich",
           1,
           63.4
          ],
          [
           "Trey McBride",
           1,
           54.3
          ],
          [
           "Will Dissly",
           1,
           44.4
          ],
          [
           "Jelani Woods",
           1,
           38.3
          ]
         ],
         "hovertemplate": "position=TE<br>points_per_dollar=%{x}<br>tier=%{y}<br>name=%{customdata[0]}<br>$=%{customdata[1]}<br>points=%{customdata[2]}<extra></extra>",
         "legendgroup": "TE",
         "marker": {
          "color": "#ab63fa",
          "symbol": "x"
         },
         "mode": "markers",
         "name": "TE",
         "orientation": "v",
         "showlegend": true,
         "type": "scatter",
         "x": [
          7.344827586206897,
          11.593333333333334,
          11.586666666666668,
          12.86153846153846,
          13.908333333333333,
          17.133333333333333,
          21.428571428571427,
          21.414285714285715,
          28.82,
          28.26,
          66.6,
          128.2,
          126.5,
          124.8,
          121.3,
          119.9,
          118.8,
          111.6,
          109.6,
          107.5,
          104.7,
          98.9,
          95.5,
          93.9,
          93,
          90.3,
          79.5,
          77.9,
          71.6,
          70.6,
          69.4,
          67.3,
          65.2,
          64.3,
          63.4,
          54.3,
          44.4,
          38.3
         ],
         "xaxis": "x",
         "y": [
          1,
          2,
          2,
          2,
          2,
          3,
          3,
          3,
          3,
          3,
          4,
          4,
          4,
          4,
          4,
          4,
          4,
          4,
          5,
          5,
          5,
          5,
          6,
          6,
          6,
          6,
          7,
          7,
          7,
          7,
          8,
          8,
          8,
          8,
          8,
          8,
          8,
          8
         ],
         "yaxis": "y"
        }
       ],
       "layout": {
        "legend": {
         "title": {
          "text": "position"
         },
         "tracegroupgap": 0
        },
        "template": {
         "data": {
          "bar": [
           {
            "error_x": {
             "color": "#2a3f5f"
            },
            "error_y": {
             "color": "#2a3f5f"
            },
            "marker": {
             "line": {
              "color": "#E5ECF6",
              "width": 0.5
             },
             "pattern": {
              "fillmode": "overlay",
              "size": 10,
              "solidity": 0.2
             }
            },
            "type": "bar"
           }
          ],
          "barpolar": [
           {
            "marker": {
             "line": {
              "color": "#E5ECF6",
              "width": 0.5
             },
             "pattern": {
              "fillmode": "overlay",
              "size": 10,
              "solidity": 0.2
             }
            },
            "type": "barpolar"
           }
          ],
          "carpet": [
           {
            "aaxis": {
             "endlinecolor": "#2a3f5f",
             "gridcolor": "white",
             "linecolor": "white",
             "minorgridcolor": "white",
             "startlinecolor": "#2a3f5f"
            },
            "baxis": {
             "endlinecolor": "#2a3f5f",
             "gridcolor": "white",
             "linecolor": "white",
             "minorgridcolor": "white",
             "startlinecolor": "#2a3f5f"
            },
            "type": "carpet"
           }
          ],
          "choropleth": [
           {
            "colorbar": {
             "outlinewidth": 0,
             "ticks": ""
            },
            "type": "choropleth"
           }
          ],
          "contour": [
           {
            "colorbar": {
             "outlinewidth": 0,
             "ticks": ""
            },
            "colorscale": [
             [
              0,
              "#0d0887"
             ],
             [
              0.1111111111111111,
              "#46039f"
             ],
             [
              0.2222222222222222,
              "#7201a8"
             ],
             [
              0.3333333333333333,
              "#9c179e"
             ],
             [
              0.4444444444444444,
              "#bd3786"
             ],
             [
              0.5555555555555556,
              "#d8576b"
             ],
             [
              0.6666666666666666,
              "#ed7953"
             ],
             [
              0.7777777777777778,
              "#fb9f3a"
             ],
             [
              0.8888888888888888,
              "#fdca26"
             ],
             [
              1,
              "#f0f921"
             ]
            ],
            "type": "contour"
           }
          ],
          "contourcarpet": [
           {
            "colorbar": {
             "outlinewidth": 0,
             "ticks": ""
            },
            "type": "contourcarpet"
           }
          ],
          "heatmap": [
           {
            "colorbar": {
             "outlinewidth": 0,
             "ticks": ""
            },
            "colorscale": [
             [
              0,
              "#0d0887"
             ],
             [
              0.1111111111111111,
              "#46039f"
             ],
             [
              0.2222222222222222,
              "#7201a8"
             ],
             [
              0.3333333333333333,
              "#9c179e"
             ],
             [
              0.4444444444444444,
              "#bd3786"
             ],
             [
              0.5555555555555556,
              "#d8576b"
             ],
             [
              0.6666666666666666,
              "#ed7953"
             ],
             [
              0.7777777777777778,
              "#fb9f3a"
             ],
             [
              0.8888888888888888,
              "#fdca26"
             ],
             [
              1,
              "#f0f921"
             ]
            ],
            "type": "heatmap"
           }
          ],
          "heatmapgl": [
           {
            "colorbar": {
             "outlinewidth": 0,
             "ticks": ""
            },
            "colorscale": [
             [
              0,
              "#0d0887"
             ],
             [
              0.1111111111111111,
              "#46039f"
             ],
             [
              0.2222222222222222,
              "#7201a8"
             ],
             [
              0.3333333333333333,
              "#9c179e"
             ],
             [
              0.4444444444444444,
              "#bd3786"
             ],
             [
              0.5555555555555556,
              "#d8576b"
             ],
             [
              0.6666666666666666,
              "#ed7953"
             ],
             [
              0.7777777777777778,
              "#fb9f3a"
             ],
             [
              0.8888888888888888,
              "#fdca26"
             ],
             [
              1,
              "#f0f921"
             ]
            ],
            "type": "heatmapgl"
           }
          ],
          "histogram": [
           {
            "marker": {
             "pattern": {
              "fillmode": "overlay",
              "size": 10,
              "solidity": 0.2
             }
            },
            "type": "histogram"
           }
          ],
          "histogram2d": [
           {
            "colorbar": {
             "outlinewidth": 0,
             "ticks": ""
            },
            "colorscale": [
             [
              0,
              "#0d0887"
             ],
             [
              0.1111111111111111,
              "#46039f"
             ],
             [
              0.2222222222222222,
              "#7201a8"
             ],
             [
              0.3333333333333333,
              "#9c179e"
             ],
             [
              0.4444444444444444,
              "#bd3786"
             ],
             [
              0.5555555555555556,
              "#d8576b"
             ],
             [
              0.6666666666666666,
              "#ed7953"
             ],
             [
              0.7777777777777778,
              "#fb9f3a"
             ],
             [
              0.8888888888888888,
              "#fdca26"
             ],
             [
              1,
              "#f0f921"
             ]
            ],
            "type": "histogram2d"
           }
          ],
          "histogram2dcontour": [
           {
            "colorbar": {
             "outlinewidth": 0,
             "ticks": ""
            },
            "colorscale": [
             [
              0,
              "#0d0887"
             ],
             [
              0.1111111111111111,
              "#46039f"
             ],
             [
              0.2222222222222222,
              "#7201a8"
             ],
             [
              0.3333333333333333,
              "#9c179e"
             ],
             [
              0.4444444444444444,
              "#bd3786"
             ],
             [
              0.5555555555555556,
              "#d8576b"
             ],
             [
              0.6666666666666666,
              "#ed7953"
             ],
             [
              0.7777777777777778,
              "#fb9f3a"
             ],
             [
              0.8888888888888888,
              "#fdca26"
             ],
             [
              1,
              "#f0f921"
             ]
            ],
            "type": "histogram2dcontour"
           }
          ],
          "mesh3d": [
           {
            "colorbar": {
             "outlinewidth": 0,
             "ticks": ""
            },
            "type": "mesh3d"
           }
          ],
          "parcoords": [
           {
            "line": {
             "colorbar": {
              "outlinewidth": 0,
              "ticks": ""
             }
            },
            "type": "parcoords"
           }
          ],
          "pie": [
           {
            "automargin": true,
            "type": "pie"
           }
          ],
          "scatter": [
           {
            "fillpattern": {
             "fillmode": "overlay",
             "size": 10,
             "solidity": 0.2
            },
            "type": "scatter"
           }
          ],
          "scatter3d": [
           {
            "line": {
             "colorbar": {
              "outlinewidth": 0,
              "ticks": ""
             }
            },
            "marker": {
             "colorbar": {
              "outlinewidth": 0,
              "ticks": ""
             }
            },
            "type": "scatter3d"
           }
          ],
          "scattercarpet": [
           {
            "marker": {
             "colorbar": {
              "outlinewidth": 0,
              "ticks": ""
             }
            },
            "type": "scattercarpet"
           }
          ],
          "scattergeo": [
           {
            "marker": {
             "colorbar": {
              "outlinewidth": 0,
              "ticks": ""
             }
            },
            "type": "scattergeo"
           }
          ],
          "scattergl": [
           {
            "marker": {
             "colorbar": {
              "outlinewidth": 0,
              "ticks": ""
             }
            },
            "type": "scattergl"
           }
          ],
          "scattermapbox": [
           {
            "marker": {
             "colorbar": {
              "outlinewidth": 0,
              "ticks": ""
             }
            },
            "type": "scattermapbox"
           }
          ],
          "scatterpolar": [
           {
            "marker": {
             "colorbar": {
              "outlinewidth": 0,
              "ticks": ""
             }
            },
            "type": "scatterpolar"
           }
          ],
          "scatterpolargl": [
           {
            "marker": {
             "colorbar": {
              "outlinewidth": 0,
              "ticks": ""
             }
            },
            "type": "scatterpolargl"
           }
          ],
          "scatterternary": [
           {
            "marker": {
             "colorbar": {
              "outlinewidth": 0,
              "ticks": ""
             }
            },
            "type": "scatterternary"
           }
          ],
          "surface": [
           {
            "colorbar": {
             "outlinewidth": 0,
             "ticks": ""
            },
            "colorscale": [
             [
              0,
              "#0d0887"
             ],
             [
              0.1111111111111111,
              "#46039f"
             ],
             [
              0.2222222222222222,
              "#7201a8"
             ],
             [
              0.3333333333333333,
              "#9c179e"
             ],
             [
              0.4444444444444444,
              "#bd3786"
             ],
             [
              0.5555555555555556,
              "#d8576b"
             ],
             [
              0.6666666666666666,
              "#ed7953"
             ],
             [
              0.7777777777777778,
              "#fb9f3a"
             ],
             [
              0.8888888888888888,
              "#fdca26"
             ],
             [
              1,
              "#f0f921"
             ]
            ],
            "type": "surface"
           }
          ],
          "table": [
           {
            "cells": {
             "fill": {
              "color": "#EBF0F8"
             },
             "line": {
              "color": "white"
             }
            },
            "header": {
             "fill": {
              "color": "#C8D4E3"
             },
             "line": {
              "color": "white"
             }
            },
            "type": "table"
           }
          ]
         },
         "layout": {
          "annotationdefaults": {
           "arrowcolor": "#2a3f5f",
           "arrowhead": 0,
           "arrowwidth": 1
          },
          "autotypenumbers": "strict",
          "coloraxis": {
           "colorbar": {
            "outlinewidth": 0,
            "ticks": ""
           }
          },
          "colorscale": {
           "diverging": [
            [
             0,
             "#8e0152"
            ],
            [
             0.1,
             "#c51b7d"
            ],
            [
             0.2,
             "#de77ae"
            ],
            [
             0.3,
             "#f1b6da"
            ],
            [
             0.4,
             "#fde0ef"
            ],
            [
             0.5,
             "#f7f7f7"
            ],
            [
             0.6,
             "#e6f5d0"
            ],
            [
             0.7,
             "#b8e186"
            ],
            [
             0.8,
             "#7fbc41"
            ],
            [
             0.9,
             "#4d9221"
            ],
            [
             1,
             "#276419"
            ]
           ],
           "sequential": [
            [
             0,
             "#0d0887"
            ],
            [
             0.1111111111111111,
             "#46039f"
            ],
            [
             0.2222222222222222,
             "#7201a8"
            ],
            [
             0.3333333333333333,
             "#9c179e"
            ],
            [
             0.4444444444444444,
             "#bd3786"
            ],
            [
             0.5555555555555556,
             "#d8576b"
            ],
            [
             0.6666666666666666,
             "#ed7953"
            ],
            [
             0.7777777777777778,
             "#fb9f3a"
            ],
            [
             0.8888888888888888,
             "#fdca26"
            ],
            [
             1,
             "#f0f921"
            ]
           ],
           "sequentialminus": [
            [
             0,
             "#0d0887"
            ],
            [
             0.1111111111111111,
             "#46039f"
            ],
            [
             0.2222222222222222,
             "#7201a8"
            ],
            [
             0.3333333333333333,
             "#9c179e"
            ],
            [
             0.4444444444444444,
             "#bd3786"
            ],
            [
             0.5555555555555556,
             "#d8576b"
            ],
            [
             0.6666666666666666,
             "#ed7953"
            ],
            [
             0.7777777777777778,
             "#fb9f3a"
            ],
            [
             0.8888888888888888,
             "#fdca26"
            ],
            [
             1,
             "#f0f921"
            ]
           ]
          },
          "colorway": [
           "#636efa",
           "#EF553B",
           "#00cc96",
           "#ab63fa",
           "#FFA15A",
           "#19d3f3",
           "#FF6692",
           "#B6E880",
           "#FF97FF",
           "#FECB52"
          ],
          "font": {
           "color": "#2a3f5f"
          },
          "geo": {
           "bgcolor": "white",
           "lakecolor": "white",
           "landcolor": "#E5ECF6",
           "showlakes": true,
           "showland": true,
           "subunitcolor": "white"
          },
          "hoverlabel": {
           "align": "left"
          },
          "hovermode": "closest",
          "mapbox": {
           "style": "light"
          },
          "paper_bgcolor": "white",
          "plot_bgcolor": "#E5ECF6",
          "polar": {
           "angularaxis": {
            "gridcolor": "white",
            "linecolor": "white",
            "ticks": ""
           },
           "bgcolor": "#E5ECF6",
           "radialaxis": {
            "gridcolor": "white",
            "linecolor": "white",
            "ticks": ""
           }
          },
          "scene": {
           "xaxis": {
            "backgroundcolor": "#E5ECF6",
            "gridcolor": "white",
            "gridwidth": 2,
            "linecolor": "white",
            "showbackground": true,
            "ticks": "",
            "zerolinecolor": "white"
           },
           "yaxis": {
            "backgroundcolor": "#E5ECF6",
            "gridcolor": "white",
            "gridwidth": 2,
            "linecolor": "white",
            "showbackground": true,
            "ticks": "",
            "zerolinecolor": "white"
           },
           "zaxis": {
            "backgroundcolor": "#E5ECF6",
            "gridcolor": "white",
            "gridwidth": 2,
            "linecolor": "white",
            "showbackground": true,
            "ticks": "",
            "zerolinecolor": "white"
           }
          },
          "shapedefaults": {
           "line": {
            "color": "#2a3f5f"
           }
          },
          "ternary": {
           "aaxis": {
            "gridcolor": "white",
            "linecolor": "white",
            "ticks": ""
           },
           "baxis": {
            "gridcolor": "white",
            "linecolor": "white",
            "ticks": ""
           },
           "bgcolor": "#E5ECF6",
           "caxis": {
            "gridcolor": "white",
            "linecolor": "white",
            "ticks": ""
           }
          },
          "title": {
           "x": 0.05
          },
          "xaxis": {
           "automargin": true,
           "gridcolor": "white",
           "linecolor": "white",
           "ticks": "",
           "title": {
            "standoff": 15
           },
           "zerolinecolor": "white",
           "zerolinewidth": 2
          },
          "yaxis": {
           "automargin": true,
           "gridcolor": "white",
           "linecolor": "white",
           "ticks": "",
           "title": {
            "standoff": 15
           },
           "zerolinecolor": "white",
           "zerolinewidth": 2
          }
         }
        },
        "title": {
         "text": "Player Value vs Risk"
        },
        "xaxis": {
         "anchor": "y",
         "domain": [
          0,
          1
         ],
         "title": {
          "text": "points_per_dollar"
         }
        },
        "yaxis": {
         "anchor": "x",
         "domain": [
          0,
          1
         ],
         "title": {
          "text": "tier"
         }
        }
       }
      }
     },
     "metadata": {},
     "output_type": "display_data"
    }
   ],
   "source": [
    "fig = px.scatter(\n",
    "    data_frame=data,\n",
    "    x='points_per_dollar',\n",
    "    y='tier',\n",
    "    color='position',\n",
    "    symbol='position',\n",
    "    title='Player Value vs Risk', \n",
    "    hover_data=['name', '$', 'points'],\n",
    ")\n",
    "plotly.offline.plot(fig, filename='../plots/points_per_dollar_vs_tier.html', auto_open=False)\n",
    "fig.show()"
   ]
  },
  {
   "cell_type": "code",
   "execution_count": 186,
   "metadata": {},
   "outputs": [
    {
     "data": {
      "application/vnd.plotly.v1+json": {
       "config": {
        "plotlyServerURL": "https://plot.ly"
       },
       "data": [
        {
         "customdata": [
          [
           "Justin Herbert",
           35,
           357.9
          ],
          [
           "Kyler Murray",
           29,
           350
          ],
          [
           "Jalen Hurts",
           30,
           348
          ],
          [
           "Patrick Mahomes",
           29,
           344.1
          ],
          [
           "Lamar Jackson",
           27,
           339.6
          ],
          [
           "Tom Brady",
           25,
           330.5
          ],
          [
           "Russell Wilson",
           22,
           326.5
          ],
          [
           "Joe Burrow",
           20,
           320.2
          ],
          [
           "Trey Lance",
           17,
           312.9
          ],
          [
           "Dak Prescott",
           17,
           309.6
          ],
          [
           "Matthew Stafford",
           15,
           300.1
          ],
          [
           "Kirk Cousins",
           14,
           299.9
          ],
          [
           "Aaron Rodgers",
           12,
           293.3
          ],
          [
           "Derek Carr",
           6,
           274
          ],
          [
           "Daniel Jones",
           2,
           261.3
          ],
          [
           "Tua Tagovailoa",
           2,
           259.7
          ],
          [
           "Trevor Lawrence",
           1,
           258.5
          ],
          [
           "Mac Jones",
           1,
           254.6
          ],
          [
           "Matt Ryan",
           1,
           254.2
          ],
          [
           "Justin Fields",
           1,
           251.3
          ],
          [
           "Jameis Winston",
           1,
           247.9
          ],
          [
           "Ryan Tannehill",
           1,
           246.8
          ],
          [
           "Carson Wentz",
           1,
           244.1
          ],
          [
           "Mitch Trubisky",
           1,
           243.8
          ],
          [
           "Jared Goff",
           1,
           241.2
          ],
          [
           "Zach Wilson",
           1,
           239.5
          ],
          [
           "Baker Mayfield",
           1,
           231.9
          ],
          [
           "Marcus Mariota",
           1,
           230.6
          ],
          [
           "Geno Smith",
           1,
           227.6
          ],
          [
           "Davis Mills",
           1,
           212.4
          ],
          [
           "Deshaun Watson",
           1,
           175.3
          ],
          [
           "Kenny Pickett",
           1,
           126.1
          ],
          [
           "Jacoby Brissett",
           1,
           109.1
          ]
         ],
         "hovertemplate": "position=QB<br>points_per_dollar=%{x}<br>rank=%{y}<br>name=%{customdata[0]}<br>$=%{customdata[1]}<br>points=%{customdata[2]}<extra></extra>",
         "legendgroup": "QB",
         "marker": {
          "color": "#636efa",
          "symbol": "circle"
         },
         "mode": "markers",
         "name": "QB",
         "orientation": "v",
         "showlegend": true,
         "type": "scatter",
         "x": [
          10.225714285714284,
          12.068965517241379,
          11.6,
          11.865517241379312,
          12.57777777777778,
          13.22,
          14.840909090909092,
          16.009999999999998,
          18.405882352941177,
          18.211764705882356,
          20.006666666666668,
          21.42142857142857,
          24.441666666666666,
          45.666666666666664,
          130.65,
          129.85,
          258.5,
          254.6,
          254.2,
          251.3,
          247.9,
          246.8,
          244.1,
          243.8,
          241.2,
          239.5,
          231.9,
          230.6,
          227.6,
          212.4,
          175.3,
          126.1,
          109.1
         ],
         "xaxis": "x",
         "y": [
          2,
          3,
          4,
          5,
          6,
          7,
          8,
          9,
          10,
          11,
          12,
          13,
          14,
          15,
          16,
          17,
          18,
          19,
          20,
          21,
          22,
          23,
          24,
          25,
          26,
          27,
          28,
          29,
          30,
          31,
          32,
          33,
          34
         ],
         "yaxis": "y"
        },
        {
         "customdata": [
          [
           "Christian McCaffrey",
           62,
           315.5
          ],
          [
           "Austin Ekeler",
           53,
           276.7
          ],
          [
           "Dalvin Cook",
           47,
           251.9
          ],
          [
           "Alvin Kamara",
           46,
           251.1
          ],
          [
           "Ezekiel Elliott",
           40,
           235.7
          ],
          [
           "Aaron Jones",
           42,
           234.4
          ],
          [
           "Nick Chubb",
           37,
           222.1
          ],
          [
           "Javonte Williams",
           36,
           219.5
          ],
          [
           "Saquon Barkley",
           35,
           219.3
          ],
          [
           "David Montgomery",
           31,
           203.2
          ],
          [
           "Josh Jacobs",
           30,
           202.4
          ],
          [
           "Breece Hall",
           28,
           196
          ],
          [
           "Antonio Gibson",
           27,
           190.9
          ],
          [
           "Travis Etienne Jr.",
           25,
           187.4
          ],
          [
           "Cam Akers",
           24,
           183.6
          ],
          [
           "Chase Edmonds",
           24,
           181
          ],
          [
           "AJ Dillon",
           24,
           180.1
          ],
          [
           "Clyde Edwards-Helaire",
           23,
           179.1
          ],
          [
           "Rashaad Penny",
           23,
           178.7
          ],
          [
           "Elijah Mitchell",
           22,
           174
          ],
          [
           "Kareem Hunt",
           22,
           173.6
          ],
          [
           "Miles Sanders",
           20,
           169.6
          ],
          [
           "J.K. Dobbins",
           18,
           165.4
          ],
          [
           "Damien Harris",
           19,
           164.3
          ],
          [
           "Tony Pollard",
           16,
           154.6
          ],
          [
           "Devin Singletary",
           15,
           153.5
          ],
          [
           "Melvin Gordon III",
           14,
           148.7
          ],
          [
           "Rhamondre Stevenson",
           11,
           139.4
          ],
          [
           "Kenneth Walker III",
           8,
           128.5
          ],
          [
           "Darrell Henderson Jr.",
           6,
           122.5
          ],
          [
           "Jamaal Williams",
           6,
           122
          ],
          [
           "J.D. McKissic",
           4,
           115.5
          ],
          [
           "Michael Carter",
           3,
           113.3
          ],
          [
           "Darrel Williams",
           3,
           112.1
          ],
          [
           "Rachaad White",
           3,
           111.9
          ],
          [
           "Dameon Pierce",
           3,
           110.7
          ],
          [
           "Mark Ingram II",
           2,
           109
          ],
          [
           "Kenneth Gainwell",
           1,
           105.7
          ],
          [
           "Nyheim Hines",
           1,
           103.6
          ],
          [
           "Gus Edwards",
           1,
           102
          ],
          [
           "Isaiah Spiller",
           1,
           101
          ],
          [
           "James Cook",
           1,
           99.4
          ],
          [
           "Kenyan Drake",
           1,
           93.3
          ],
          [
           "Alexander Mattison",
           1,
           91.1
          ],
          [
           "James Robinson",
           1,
           90.3
          ],
          [
           "Ronald Jones",
           1,
           88.9
          ],
          [
           "Damien Williams",
           1,
           88
          ],
          [
           "Rex Burkhead",
           1,
           87.3
          ],
          [
           "Raheem Mostert",
           1,
           86.6
          ],
          [
           "Brian Robinson",
           1,
           81.6
          ],
          [
           "Hassan Haskins",
           1,
           78.9
          ],
          [
           "Khalil Herbert",
           1,
           76.6
          ],
          [
           "Matt Breida",
           1,
           75.5
          ],
          [
           "Tyler Allgeier",
           1,
           70.4
          ],
          [
           "Marlon Mack",
           1,
           68.8
          ],
          [
           "Boston Scott",
           1,
           67.3
          ],
          [
           "Jeff Wilson Jr.",
           1,
           63.5
          ],
          [
           "Sony Michel",
           1,
           56.8
          ],
          [
           "Tyrion Davis-Price",
           1,
           56.7
          ],
          [
           "Jerick McKinnon",
           1,
           55.9
          ],
          [
           "Chris Evans",
           1,
           53.7
          ],
          [
           "Mike Davis",
           1,
           52.4
          ],
          [
           "D'Ernest Johnson",
           1,
           47.6
          ],
          [
           "Eno Benjamin",
           1,
           47.3
          ],
          [
           "Trey Sermon",
           1,
           43.3
          ],
          [
           "Zamir White",
           1,
           36.7
          ],
          [
           "Benny Snell Jr.",
           1,
           30.8
          ],
          [
           "Tyler Badie",
           1,
           29.2
          ],
          [
           "Isiah Pacheco",
           1,
           10.7
          ]
         ],
         "hovertemplate": "position=RB<br>points_per_dollar=%{x}<br>rank=%{y}<br>name=%{customdata[0]}<br>$=%{customdata[1]}<br>points=%{customdata[2]}<extra></extra>",
         "legendgroup": "RB",
         "marker": {
          "color": "#EF553B",
          "symbol": "diamond"
         },
         "mode": "markers",
         "name": "RB",
         "orientation": "v",
         "showlegend": true,
         "type": "scatter",
         "x": [
          5.088709677419355,
          5.220754716981132,
          5.359574468085106,
          5.458695652173913,
          5.8925,
          5.580952380952381,
          6.0027027027027025,
          6.097222222222222,
          6.265714285714286,
          6.554838709677419,
          6.746666666666667,
          7,
          7.07037037037037,
          7.496,
          7.6499999999999995,
          7.541666666666667,
          7.504166666666666,
          7.78695652173913,
          7.769565217391304,
          7.909090909090909,
          7.890909090909091,
          8.48,
          9.18888888888889,
          8.647368421052633,
          9.6625,
          10.233333333333333,
          10.62142857142857,
          12.672727272727274,
          16.0625,
          20.416666666666668,
          20.333333333333332,
          28.875,
          37.766666666666666,
          37.36666666666667,
          37.300000000000004,
          36.9,
          54.5,
          105.7,
          103.6,
          102,
          101,
          99.4,
          93.3,
          91.1,
          90.3,
          88.9,
          88,
          87.3,
          86.6,
          81.6,
          78.9,
          76.6,
          75.5,
          70.4,
          68.8,
          67.3,
          63.5,
          56.8,
          56.7,
          55.9,
          53.7,
          52.4,
          47.6,
          47.3,
          43.3,
          36.7,
          30.8,
          29.2,
          10.7
         ],
         "xaxis": "x",
         "y": [
          1,
          3,
          6,
          7,
          10,
          13,
          14,
          15,
          16,
          17,
          18,
          19,
          21,
          22,
          23,
          24,
          25,
          26,
          27,
          28,
          29,
          30,
          31,
          32,
          33,
          34,
          35,
          36,
          37,
          38,
          39,
          40,
          41,
          42,
          43,
          44,
          45,
          46,
          47,
          48,
          49,
          50,
          51,
          52,
          53,
          54,
          55,
          56,
          57,
          58,
          59,
          60,
          61,
          62,
          63,
          64,
          65,
          66,
          67,
          68,
          69,
          70,
          71,
          72,
          73,
          74,
          75,
          76,
          77
         ],
         "yaxis": "y"
        },
        {
         "customdata": [
          [
           "Davante Adams",
           34,
           251.9
          ],
          [
           "Mike Evans",
           26,
           225
          ],
          [
           "Mike Williams",
           22,
           215.8
          ],
          [
           "Tyreek Hill",
           20,
           209
          ],
          [
           "DJ Moore",
           18,
           205.9
          ],
          [
           "Courtland Sutton",
           18,
           205
          ],
          [
           "Keenan Allen",
           17,
           199.1
          ],
          [
           "A.J. Brown",
           17,
           199.1
          ],
          [
           "Brandin Cooks",
           17,
           198.3
          ],
          [
           "Allen Robinson II",
           14,
           190.5
          ],
          [
           "Jaylen Waddle",
           14,
           190
          ],
          [
           "Diontae Johnson",
           13,
           187
          ],
          [
           "Darnell Mooney",
           13,
           186
          ],
          [
           "Amon-Ra St. Brown",
           12,
           183.6
          ],
          [
           "Jerry Jeudy",
           12,
           183.3
          ],
          [
           "Adam Thielen",
           11,
           181.9
          ],
          [
           "Terry McLaurin",
           11,
           181.1
          ],
          [
           "DK Metcalf",
           10,
           179.5
          ],
          [
           "Rashod Bateman",
           10,
           177.2
          ],
          [
           "Christian Kirk",
           9,
           176
          ],
          [
           "Elijah Moore",
           9,
           175.1
          ],
          [
           "JuJu Smith-Schuster",
           9,
           174.7
          ],
          [
           "Hunter Renfrow",
           9,
           172.5
          ],
          [
           "Michael Thomas",
           7,
           169.9
          ],
          [
           "Amari Cooper",
           7,
           169
          ],
          [
           "Robert Woods",
           6,
           166.4
          ],
          [
           "DeVonta Smith",
           6,
           164.2
          ],
          [
           "Gabe Davis",
           5,
           163.1
          ],
          [
           "Chase Claypool",
           3,
           155.6
          ],
          [
           "Chris Godwin",
           3,
           155.5
          ],
          [
           "Allen Lazard",
           3,
           155.1
          ],
          [
           "Tyler Lockett",
           2,
           153
          ],
          [
           "Drake London",
           2,
           151.6
          ],
          [
           "DeVante Parker",
           2,
           151
          ],
          [
           "Kadarius Toney",
           2,
           150.8
          ],
          [
           "Garrett Wilson",
           1,
           149.5
          ],
          [
           "Chris Olave",
           1,
           145.6
          ],
          [
           "Treylon Burks",
           1,
           144.8
          ],
          [
           "Marquez Valdes-Scantling",
           1,
           144.7
          ],
          [
           "Kenny Golladay",
           1,
           143.3
          ],
          [
           "Brandon Aiyuk",
           1,
           141.6
          ],
          [
           "Marvin Jones Jr.",
           1,
           140.9
          ],
          [
           "Tyler Boyd",
           1,
           140.6
          ],
          [
           "Michael Gallup",
           1,
           137.9
          ],
          [
           "K.J. Osborn",
           1,
           136.4
          ],
          [
           "Jakobi Meyers",
           1,
           135.9
          ],
          [
           "Julio Jones",
           1,
           135.6
          ],
          [
           "Kendrick Bourne",
           1,
           133.4
          ],
          [
           "Jarvis Landry",
           1,
           133.3
          ],
          [
           "Russell Gage",
           1,
           131.5
          ],
          [
           "Randall Cobb",
           1,
           131.4
          ],
          [
           "Rondale Moore",
           1,
           126.6
          ],
          [
           "DeAndre Hopkins",
           1,
           126.2
          ],
          [
           "Robbie Anderson",
           1,
           125.5
          ],
          [
           "KJ Hamler",
           1,
           124.1
          ],
          [
           "Donovan Peoples-Jones",
           1,
           122.8
          ],
          [
           "Jahan Dotson",
           1,
           122.5
          ],
          [
           "Corey Davis",
           1,
           121.6
          ],
          [
           "Mecole Hardman",
           1,
           121.2
          ],
          [
           "Jameson Williams",
           1,
           120.9
          ],
          [
           "Jalen Tolbert",
           1,
           120.7
          ],
          [
           "Van Jefferson",
           1,
           120.6
          ],
          [
           "DJ Chark",
           1,
           119.7
          ],
          [
           "Curtis Samuel",
           1,
           119.2
          ],
          [
           "Joshua Palmer",
           1,
           115.1
          ],
          [
           "Cedrick Wilson Jr.",
           1,
           110.9
          ],
          [
           "Nico Collins",
           1,
           109.7
          ],
          [
           "A.J. Green",
           1,
           106.4
          ],
          [
           "Devin Duvernay",
           1,
           103.3
          ],
          [
           "Skyy Moore",
           1,
           102.2
          ],
          [
           "Alec Pierce",
           1,
           100.5
          ],
          [
           "Wan'Dale Robinson",
           1,
           97.9
          ],
          [
           "Parris Campbell",
           1,
           96.6
          ],
          [
           "Sammy Watkins",
           1,
           94.8
          ],
          [
           "Zay Jones",
           1,
           92
          ],
          [
           "Nick Westbrook-Ikhine",
           1,
           87.5
          ],
          [
           "Bryan Edwards",
           1,
           85.4
          ],
          [
           "Terrace Marshall Jr.",
           1,
           85.1
          ],
          [
           "Quez Watkins",
           1,
           84.7
          ],
          [
           "Jamison Crowder",
           1,
           81.2
          ],
          [
           "Laviska Shenault Jr.",
           1,
           80.7
          ],
          [
           "George Pickens",
           1,
           78.2
          ],
          [
           "Romeo Doubs",
           1,
           77.9
          ],
          [
           "David Bell",
           1,
           77.9
          ],
          [
           "Olamide Zaccheaus",
           1,
           77.6
          ],
          [
           "Isaiah McKenzie",
           1,
           77.4
          ],
          [
           "Christian Watson",
           1,
           76.7
          ],
          [
           "N'Keal Harry",
           1,
           73.9
          ],
          [
           "Byron Pringle",
           1,
           73.6
          ],
          [
           "Deonte Harty",
           1,
           71.6
          ],
          [
           "Velus Jones Jr.",
           1,
           67
          ],
          [
           "Anthony Schwartz",
           1,
           60.7
          ],
          [
           "Nelson Agholor",
           1,
           53.3
          ],
          [
           "Tyquan Thornton",
           1,
           46.1
          ],
          [
           "Calvin Austin III",
           1,
           44.9
          ],
          [
           "Sterling Shepard",
           1,
           39.7
          ],
          [
           "Tutu Atwell",
           1,
           34.3
          ],
          [
           "James Washington",
           1,
           27.4
          ],
          [
           "Tim Patrick",
           1,
           0
          ],
          [
           "John Metchie III",
           1,
           0
          ]
         ],
         "hovertemplate": "position=WR<br>points_per_dollar=%{x}<br>rank=%{y}<br>name=%{customdata[0]}<br>$=%{customdata[1]}<br>points=%{customdata[2]}<extra></extra>",
         "legendgroup": "WR",
         "marker": {
          "color": "#00cc96",
          "symbol": "square"
         },
         "mode": "markers",
         "name": "WR",
         "orientation": "v",
         "showlegend": true,
         "type": "scatter",
         "x": [
          7.408823529411765,
          8.653846153846153,
          9.80909090909091,
          10.45,
          11.43888888888889,
          11.38888888888889,
          11.711764705882352,
          11.711764705882352,
          11.664705882352942,
          13.607142857142858,
          13.571428571428571,
          14.384615384615385,
          14.307692307692308,
          15.299999999999999,
          15.275,
          16.536363636363635,
          16.463636363636365,
          17.95,
          17.72,
          19.555555555555557,
          19.455555555555556,
          19.41111111111111,
          19.166666666666668,
          24.271428571428572,
          24.142857142857142,
          27.733333333333334,
          27.366666666666664,
          32.62,
          51.86666666666667,
          51.833333333333336,
          51.699999999999996,
          76.5,
          75.8,
          75.5,
          75.4,
          149.5,
          145.6,
          144.8,
          144.7,
          143.3,
          141.6,
          140.9,
          140.6,
          137.9,
          136.4,
          135.9,
          135.6,
          133.4,
          133.3,
          131.5,
          131.4,
          126.6,
          126.2,
          125.5,
          124.1,
          122.8,
          122.5,
          121.6,
          121.2,
          120.9,
          120.7,
          120.6,
          119.7,
          119.2,
          115.1,
          110.9,
          109.7,
          106.4,
          103.3,
          102.2,
          100.5,
          97.9,
          96.6,
          94.8,
          92,
          87.5,
          85.4,
          85.1,
          84.7,
          81.2,
          80.7,
          78.2,
          77.9,
          77.9,
          77.6,
          77.4,
          76.7,
          73.9,
          73.6,
          71.6,
          67,
          60.7,
          53.3,
          46.1,
          44.9,
          39.7,
          34.3,
          27.4,
          0,
          0
         ],
         "xaxis": "x",
         "y": [
          4,
          7,
          9,
          10,
          12,
          14,
          15,
          16,
          17,
          19,
          20,
          21,
          22,
          23,
          24,
          25,
          26,
          27,
          28,
          29,
          30,
          31,
          32,
          33,
          34,
          35,
          36,
          37,
          38,
          39,
          40,
          41,
          42,
          43,
          44,
          45,
          46,
          47,
          48,
          49,
          50,
          51,
          52,
          53,
          54,
          55,
          56,
          57,
          58,
          59,
          60,
          61,
          62,
          63,
          64,
          65,
          66,
          67,
          68,
          69,
          70,
          71,
          72,
          73,
          74,
          75,
          76,
          77,
          78,
          79,
          80,
          81,
          82,
          83,
          84,
          85,
          86,
          87,
          88,
          89,
          90,
          91,
          92,
          93,
          94,
          95,
          96,
          97,
          98,
          99,
          100,
          101,
          102,
          103,
          104,
          105,
          106,
          107,
          108,
          109
         ],
         "yaxis": "y"
        },
        {
         "customdata": [
          [
           "Travis Kelce",
           29,
           213
          ],
          [
           "Dalton Schultz",
           15,
           173.9
          ],
          [
           "Kyle Pitts",
           15,
           173.8
          ],
          [
           "Darren Waller",
           13,
           167.2
          ],
          [
           "George Kittle",
           12,
           166.9
          ],
          [
           "T.J. Hockenson",
           9,
           154.2
          ],
          [
           "Dallas Goedert",
           7,
           150
          ],
          [
           "Zach Ertz",
           7,
           149.9
          ],
          [
           "Cole Kmet",
           5,
           144.1
          ],
          [
           "Dawson Knox",
           5,
           141.3
          ],
          [
           "Pat Freiermuth",
           2,
           133.2
          ],
          [
           "Hunter Henry",
           1,
           128.2
          ],
          [
           "Noah Fant",
           1,
           126.5
          ],
          [
           "Irv Smith Jr.",
           1,
           124.8
          ],
          [
           "Gerald Everett",
           1,
           121.3
          ],
          [
           "Mike Gesicki",
           1,
           119.9
          ],
          [
           "Evan Engram",
           1,
           118.8
          ],
          [
           "Tyler Higbee",
           1,
           111.6
          ],
          [
           "Logan Thomas",
           1,
           109.6
          ],
          [
           "Albert Okwuegbunam",
           1,
           107.5
          ],
          [
           "David Njoku",
           1,
           104.7
          ],
          [
           "Mo Alie-Cox",
           1,
           98.9
          ],
          [
           "Robert Tonyan",
           1,
           95.5
          ],
          [
           "Austin Hooper",
           1,
           93.9
          ],
          [
           "Hayden Hurst",
           1,
           93
          ],
          [
           "Brevin Jordan",
           1,
           90.3
          ],
          [
           "Kyle Rudolph",
           1,
           79.5
          ],
          [
           "Adam Trautman",
           1,
           77.9
          ],
          [
           "Daniel Bellinger",
           1,
           71.6
          ],
          [
           "Tommy Tremble",
           1,
           70.6
          ],
          [
           "Cameron Brate",
           1,
           69.4
          ],
          [
           "Jonnu Smith",
           1,
           67.3
          ],
          [
           "C.J. Uzomah",
           1,
           65.2
          ],
          [
           "Ricky Seals-Jones",
           1,
           64.3
          ],
          [
           "Greg Dulcich",
           1,
           63.4
          ],
          [
           "Trey McBride",
           1,
           54.3
          ],
          [
           "Will Dissly",
           1,
           44.4
          ],
          [
           "Jelani Woods",
           1,
           38.3
          ]
         ],
         "hovertemplate": "position=TE<br>points_per_dollar=%{x}<br>rank=%{y}<br>name=%{customdata[0]}<br>$=%{customdata[1]}<br>points=%{customdata[2]}<extra></extra>",
         "legendgroup": "TE",
         "marker": {
          "color": "#ab63fa",
          "symbol": "x"
         },
         "mode": "markers",
         "name": "TE",
         "orientation": "v",
         "showlegend": true,
         "type": "scatter",
         "x": [
          7.344827586206897,
          11.593333333333334,
          11.586666666666668,
          12.86153846153846,
          13.908333333333333,
          17.133333333333333,
          21.428571428571427,
          21.414285714285715,
          28.82,
          28.26,
          66.6,
          128.2,
          126.5,
          124.8,
          121.3,
          119.9,
          118.8,
          111.6,
          109.6,
          107.5,
          104.7,
          98.9,
          95.5,
          93.9,
          93,
          90.3,
          79.5,
          77.9,
          71.6,
          70.6,
          69.4,
          67.3,
          65.2,
          64.3,
          63.4,
          54.3,
          44.4,
          38.3
         ],
         "xaxis": "x",
         "y": [
          2,
          3,
          4,
          5,
          6,
          7,
          8,
          9,
          10,
          11,
          12,
          13,
          14,
          15,
          16,
          17,
          18,
          19,
          20,
          21,
          22,
          23,
          24,
          25,
          26,
          27,
          28,
          29,
          30,
          31,
          32,
          33,
          34,
          35,
          36,
          37,
          38,
          39
         ],
         "yaxis": "y"
        }
       ],
       "layout": {
        "legend": {
         "title": {
          "text": "position"
         },
         "tracegroupgap": 0
        },
        "template": {
         "data": {
          "bar": [
           {
            "error_x": {
             "color": "#2a3f5f"
            },
            "error_y": {
             "color": "#2a3f5f"
            },
            "marker": {
             "line": {
              "color": "#E5ECF6",
              "width": 0.5
             },
             "pattern": {
              "fillmode": "overlay",
              "size": 10,
              "solidity": 0.2
             }
            },
            "type": "bar"
           }
          ],
          "barpolar": [
           {
            "marker": {
             "line": {
              "color": "#E5ECF6",
              "width": 0.5
             },
             "pattern": {
              "fillmode": "overlay",
              "size": 10,
              "solidity": 0.2
             }
            },
            "type": "barpolar"
           }
          ],
          "carpet": [
           {
            "aaxis": {
             "endlinecolor": "#2a3f5f",
             "gridcolor": "white",
             "linecolor": "white",
             "minorgridcolor": "white",
             "startlinecolor": "#2a3f5f"
            },
            "baxis": {
             "endlinecolor": "#2a3f5f",
             "gridcolor": "white",
             "linecolor": "white",
             "minorgridcolor": "white",
             "startlinecolor": "#2a3f5f"
            },
            "type": "carpet"
           }
          ],
          "choropleth": [
           {
            "colorbar": {
             "outlinewidth": 0,
             "ticks": ""
            },
            "type": "choropleth"
           }
          ],
          "contour": [
           {
            "colorbar": {
             "outlinewidth": 0,
             "ticks": ""
            },
            "colorscale": [
             [
              0,
              "#0d0887"
             ],
             [
              0.1111111111111111,
              "#46039f"
             ],
             [
              0.2222222222222222,
              "#7201a8"
             ],
             [
              0.3333333333333333,
              "#9c179e"
             ],
             [
              0.4444444444444444,
              "#bd3786"
             ],
             [
              0.5555555555555556,
              "#d8576b"
             ],
             [
              0.6666666666666666,
              "#ed7953"
             ],
             [
              0.7777777777777778,
              "#fb9f3a"
             ],
             [
              0.8888888888888888,
              "#fdca26"
             ],
             [
              1,
              "#f0f921"
             ]
            ],
            "type": "contour"
           }
          ],
          "contourcarpet": [
           {
            "colorbar": {
             "outlinewidth": 0,
             "ticks": ""
            },
            "type": "contourcarpet"
           }
          ],
          "heatmap": [
           {
            "colorbar": {
             "outlinewidth": 0,
             "ticks": ""
            },
            "colorscale": [
             [
              0,
              "#0d0887"
             ],
             [
              0.1111111111111111,
              "#46039f"
             ],
             [
              0.2222222222222222,
              "#7201a8"
             ],
             [
              0.3333333333333333,
              "#9c179e"
             ],
             [
              0.4444444444444444,
              "#bd3786"
             ],
             [
              0.5555555555555556,
              "#d8576b"
             ],
             [
              0.6666666666666666,
              "#ed7953"
             ],
             [
              0.7777777777777778,
              "#fb9f3a"
             ],
             [
              0.8888888888888888,
              "#fdca26"
             ],
             [
              1,
              "#f0f921"
             ]
            ],
            "type": "heatmap"
           }
          ],
          "heatmapgl": [
           {
            "colorbar": {
             "outlinewidth": 0,
             "ticks": ""
            },
            "colorscale": [
             [
              0,
              "#0d0887"
             ],
             [
              0.1111111111111111,
              "#46039f"
             ],
             [
              0.2222222222222222,
              "#7201a8"
             ],
             [
              0.3333333333333333,
              "#9c179e"
             ],
             [
              0.4444444444444444,
              "#bd3786"
             ],
             [
              0.5555555555555556,
              "#d8576b"
             ],
             [
              0.6666666666666666,
              "#ed7953"
             ],
             [
              0.7777777777777778,
              "#fb9f3a"
             ],
             [
              0.8888888888888888,
              "#fdca26"
             ],
             [
              1,
              "#f0f921"
             ]
            ],
            "type": "heatmapgl"
           }
          ],
          "histogram": [
           {
            "marker": {
             "pattern": {
              "fillmode": "overlay",
              "size": 10,
              "solidity": 0.2
             }
            },
            "type": "histogram"
           }
          ],
          "histogram2d": [
           {
            "colorbar": {
             "outlinewidth": 0,
             "ticks": ""
            },
            "colorscale": [
             [
              0,
              "#0d0887"
             ],
             [
              0.1111111111111111,
              "#46039f"
             ],
             [
              0.2222222222222222,
              "#7201a8"
             ],
             [
              0.3333333333333333,
              "#9c179e"
             ],
             [
              0.4444444444444444,
              "#bd3786"
             ],
             [
              0.5555555555555556,
              "#d8576b"
             ],
             [
              0.6666666666666666,
              "#ed7953"
             ],
             [
              0.7777777777777778,
              "#fb9f3a"
             ],
             [
              0.8888888888888888,
              "#fdca26"
             ],
             [
              1,
              "#f0f921"
             ]
            ],
            "type": "histogram2d"
           }
          ],
          "histogram2dcontour": [
           {
            "colorbar": {
             "outlinewidth": 0,
             "ticks": ""
            },
            "colorscale": [
             [
              0,
              "#0d0887"
             ],
             [
              0.1111111111111111,
              "#46039f"
             ],
             [
              0.2222222222222222,
              "#7201a8"
             ],
             [
              0.3333333333333333,
              "#9c179e"
             ],
             [
              0.4444444444444444,
              "#bd3786"
             ],
             [
              0.5555555555555556,
              "#d8576b"
             ],
             [
              0.6666666666666666,
              "#ed7953"
             ],
             [
              0.7777777777777778,
              "#fb9f3a"
             ],
             [
              0.8888888888888888,
              "#fdca26"
             ],
             [
              1,
              "#f0f921"
             ]
            ],
            "type": "histogram2dcontour"
           }
          ],
          "mesh3d": [
           {
            "colorbar": {
             "outlinewidth": 0,
             "ticks": ""
            },
            "type": "mesh3d"
           }
          ],
          "parcoords": [
           {
            "line": {
             "colorbar": {
              "outlinewidth": 0,
              "ticks": ""
             }
            },
            "type": "parcoords"
           }
          ],
          "pie": [
           {
            "automargin": true,
            "type": "pie"
           }
          ],
          "scatter": [
           {
            "fillpattern": {
             "fillmode": "overlay",
             "size": 10,
             "solidity": 0.2
            },
            "type": "scatter"
           }
          ],
          "scatter3d": [
           {
            "line": {
             "colorbar": {
              "outlinewidth": 0,
              "ticks": ""
             }
            },
            "marker": {
             "colorbar": {
              "outlinewidth": 0,
              "ticks": ""
             }
            },
            "type": "scatter3d"
           }
          ],
          "scattercarpet": [
           {
            "marker": {
             "colorbar": {
              "outlinewidth": 0,
              "ticks": ""
             }
            },
            "type": "scattercarpet"
           }
          ],
          "scattergeo": [
           {
            "marker": {
             "colorbar": {
              "outlinewidth": 0,
              "ticks": ""
             }
            },
            "type": "scattergeo"
           }
          ],
          "scattergl": [
           {
            "marker": {
             "colorbar": {
              "outlinewidth": 0,
              "ticks": ""
             }
            },
            "type": "scattergl"
           }
          ],
          "scattermapbox": [
           {
            "marker": {
             "colorbar": {
              "outlinewidth": 0,
              "ticks": ""
             }
            },
            "type": "scattermapbox"
           }
          ],
          "scatterpolar": [
           {
            "marker": {
             "colorbar": {
              "outlinewidth": 0,
              "ticks": ""
             }
            },
            "type": "scatterpolar"
           }
          ],
          "scatterpolargl": [
           {
            "marker": {
             "colorbar": {
              "outlinewidth": 0,
              "ticks": ""
             }
            },
            "type": "scatterpolargl"
           }
          ],
          "scatterternary": [
           {
            "marker": {
             "colorbar": {
              "outlinewidth": 0,
              "ticks": ""
             }
            },
            "type": "scatterternary"
           }
          ],
          "surface": [
           {
            "colorbar": {
             "outlinewidth": 0,
             "ticks": ""
            },
            "colorscale": [
             [
              0,
              "#0d0887"
             ],
             [
              0.1111111111111111,
              "#46039f"
             ],
             [
              0.2222222222222222,
              "#7201a8"
             ],
             [
              0.3333333333333333,
              "#9c179e"
             ],
             [
              0.4444444444444444,
              "#bd3786"
             ],
             [
              0.5555555555555556,
              "#d8576b"
             ],
             [
              0.6666666666666666,
              "#ed7953"
             ],
             [
              0.7777777777777778,
              "#fb9f3a"
             ],
             [
              0.8888888888888888,
              "#fdca26"
             ],
             [
              1,
              "#f0f921"
             ]
            ],
            "type": "surface"
           }
          ],
          "table": [
           {
            "cells": {
             "fill": {
              "color": "#EBF0F8"
             },
             "line": {
              "color": "white"
             }
            },
            "header": {
             "fill": {
              "color": "#C8D4E3"
             },
             "line": {
              "color": "white"
             }
            },
            "type": "table"
           }
          ]
         },
         "layout": {
          "annotationdefaults": {
           "arrowcolor": "#2a3f5f",
           "arrowhead": 0,
           "arrowwidth": 1
          },
          "autotypenumbers": "strict",
          "coloraxis": {
           "colorbar": {
            "outlinewidth": 0,
            "ticks": ""
           }
          },
          "colorscale": {
           "diverging": [
            [
             0,
             "#8e0152"
            ],
            [
             0.1,
             "#c51b7d"
            ],
            [
             0.2,
             "#de77ae"
            ],
            [
             0.3,
             "#f1b6da"
            ],
            [
             0.4,
             "#fde0ef"
            ],
            [
             0.5,
             "#f7f7f7"
            ],
            [
             0.6,
             "#e6f5d0"
            ],
            [
             0.7,
             "#b8e186"
            ],
            [
             0.8,
             "#7fbc41"
            ],
            [
             0.9,
             "#4d9221"
            ],
            [
             1,
             "#276419"
            ]
           ],
           "sequential": [
            [
             0,
             "#0d0887"
            ],
            [
             0.1111111111111111,
             "#46039f"
            ],
            [
             0.2222222222222222,
             "#7201a8"
            ],
            [
             0.3333333333333333,
             "#9c179e"
            ],
            [
             0.4444444444444444,
             "#bd3786"
            ],
            [
             0.5555555555555556,
             "#d8576b"
            ],
            [
             0.6666666666666666,
             "#ed7953"
            ],
            [
             0.7777777777777778,
             "#fb9f3a"
            ],
            [
             0.8888888888888888,
             "#fdca26"
            ],
            [
             1,
             "#f0f921"
            ]
           ],
           "sequentialminus": [
            [
             0,
             "#0d0887"
            ],
            [
             0.1111111111111111,
             "#46039f"
            ],
            [
             0.2222222222222222,
             "#7201a8"
            ],
            [
             0.3333333333333333,
             "#9c179e"
            ],
            [
             0.4444444444444444,
             "#bd3786"
            ],
            [
             0.5555555555555556,
             "#d8576b"
            ],
            [
             0.6666666666666666,
             "#ed7953"
            ],
            [
             0.7777777777777778,
             "#fb9f3a"
            ],
            [
             0.8888888888888888,
             "#fdca26"
            ],
            [
             1,
             "#f0f921"
            ]
           ]
          },
          "colorway": [
           "#636efa",
           "#EF553B",
           "#00cc96",
           "#ab63fa",
           "#FFA15A",
           "#19d3f3",
           "#FF6692",
           "#B6E880",
           "#FF97FF",
           "#FECB52"
          ],
          "font": {
           "color": "#2a3f5f"
          },
          "geo": {
           "bgcolor": "white",
           "lakecolor": "white",
           "landcolor": "#E5ECF6",
           "showlakes": true,
           "showland": true,
           "subunitcolor": "white"
          },
          "hoverlabel": {
           "align": "left"
          },
          "hovermode": "closest",
          "mapbox": {
           "style": "light"
          },
          "paper_bgcolor": "white",
          "plot_bgcolor": "#E5ECF6",
          "polar": {
           "angularaxis": {
            "gridcolor": "white",
            "linecolor": "white",
            "ticks": ""
           },
           "bgcolor": "#E5ECF6",
           "radialaxis": {
            "gridcolor": "white",
            "linecolor": "white",
            "ticks": ""
           }
          },
          "scene": {
           "xaxis": {
            "backgroundcolor": "#E5ECF6",
            "gridcolor": "white",
            "gridwidth": 2,
            "linecolor": "white",
            "showbackground": true,
            "ticks": "",
            "zerolinecolor": "white"
           },
           "yaxis": {
            "backgroundcolor": "#E5ECF6",
            "gridcolor": "white",
            "gridwidth": 2,
            "linecolor": "white",
            "showbackground": true,
            "ticks": "",
            "zerolinecolor": "white"
           },
           "zaxis": {
            "backgroundcolor": "#E5ECF6",
            "gridcolor": "white",
            "gridwidth": 2,
            "linecolor": "white",
            "showbackground": true,
            "ticks": "",
            "zerolinecolor": "white"
           }
          },
          "shapedefaults": {
           "line": {
            "color": "#2a3f5f"
           }
          },
          "ternary": {
           "aaxis": {
            "gridcolor": "white",
            "linecolor": "white",
            "ticks": ""
           },
           "baxis": {
            "gridcolor": "white",
            "linecolor": "white",
            "ticks": ""
           },
           "bgcolor": "#E5ECF6",
           "caxis": {
            "gridcolor": "white",
            "linecolor": "white",
            "ticks": ""
           }
          },
          "title": {
           "x": 0.05
          },
          "xaxis": {
           "automargin": true,
           "gridcolor": "white",
           "linecolor": "white",
           "ticks": "",
           "title": {
            "standoff": 15
           },
           "zerolinecolor": "white",
           "zerolinewidth": 2
          },
          "yaxis": {
           "automargin": true,
           "gridcolor": "white",
           "linecolor": "white",
           "ticks": "",
           "title": {
            "standoff": 15
           },
           "zerolinecolor": "white",
           "zerolinewidth": 2
          }
         }
        },
        "title": {
         "text": "Player Value vs Risk"
        },
        "xaxis": {
         "anchor": "y",
         "domain": [
          0,
          1
         ],
         "title": {
          "text": "points_per_dollar"
         }
        },
        "yaxis": {
         "anchor": "x",
         "domain": [
          0,
          1
         ],
         "title": {
          "text": "rank"
         }
        }
       }
      }
     },
     "metadata": {},
     "output_type": "display_data"
    }
   ],
   "source": [
    "fig = px.scatter(\n",
    "    data_frame=data,\n",
    "    x='points_per_dollar',\n",
    "    y='rank',\n",
    "    color='position',\n",
    "    symbol='position',\n",
    "    title='Player Value vs Risk', \n",
    "    hover_data=['name', '$', 'points'],\n",
    ")\n",
    "plotly.offline.plot(fig, filename='../plots/points_per_dollar_vs_rank.html', auto_open=False)\n",
    "fig.show()"
   ]
  },
  {
   "cell_type": "code",
   "execution_count": 187,
   "metadata": {},
   "outputs": [
    {
     "data": {
      "application/vnd.plotly.v1+json": {
       "config": {
        "plotlyServerURL": "https://plot.ly"
       },
       "data": [
        {
         "customdata": [
          [
           "Justin Herbert",
           35
          ],
          [
           "Kyler Murray",
           29
          ],
          [
           "Jalen Hurts",
           30
          ],
          [
           "Patrick Mahomes",
           29
          ],
          [
           "Lamar Jackson",
           27
          ],
          [
           "Tom Brady",
           25
          ],
          [
           "Russell Wilson",
           22
          ],
          [
           "Joe Burrow",
           20
          ],
          [
           "Trey Lance",
           17
          ],
          [
           "Dak Prescott",
           17
          ],
          [
           "Matthew Stafford",
           15
          ],
          [
           "Kirk Cousins",
           14
          ],
          [
           "Aaron Rodgers",
           12
          ],
          [
           "Derek Carr",
           6
          ],
          [
           "Daniel Jones",
           2
          ],
          [
           "Tua Tagovailoa",
           2
          ],
          [
           "Trevor Lawrence",
           1
          ],
          [
           "Mac Jones",
           1
          ],
          [
           "Matt Ryan",
           1
          ],
          [
           "Justin Fields",
           1
          ],
          [
           "Jameis Winston",
           1
          ],
          [
           "Ryan Tannehill",
           1
          ],
          [
           "Carson Wentz",
           1
          ],
          [
           "Mitch Trubisky",
           1
          ],
          [
           "Jared Goff",
           1
          ],
          [
           "Zach Wilson",
           1
          ],
          [
           "Baker Mayfield",
           1
          ],
          [
           "Marcus Mariota",
           1
          ],
          [
           "Geno Smith",
           1
          ],
          [
           "Davis Mills",
           1
          ],
          [
           "Deshaun Watson",
           1
          ],
          [
           "Kenny Pickett",
           1
          ],
          [
           "Jacoby Brissett",
           1
          ]
         ],
         "hovertemplate": "position=QB<br>points_per_dollar=%{x}<br>risk=%{y}<br>points=%{z}<br>name=%{customdata[0]}<br>$=%{customdata[1]}<extra></extra>",
         "legendgroup": "QB",
         "marker": {
          "color": "#636efa",
          "symbol": "circle"
         },
         "mode": "markers",
         "name": "QB",
         "scene": "scene",
         "showlegend": true,
         "type": "scatter3d",
         "x": [
          10.225714285714284,
          12.068965517241379,
          11.6,
          11.865517241379312,
          12.57777777777778,
          13.22,
          14.840909090909092,
          16.009999999999998,
          18.405882352941177,
          18.211764705882356,
          20.006666666666668,
          21.42142857142857,
          24.441666666666666,
          45.666666666666664,
          130.65,
          129.85,
          258.5,
          254.6,
          254.2,
          251.3,
          247.9,
          246.8,
          244.1,
          243.8,
          241.2,
          239.5,
          231.9,
          230.6,
          227.6,
          212.4,
          175.3,
          126.1,
          109.1
         ],
         "y": [
          0.03333333333333334,
          0.36666666666666664,
          0.14444444444444443,
          0.14444444444444443,
          0.2222222222222222,
          0.1111111111111111,
          0.30000000000000004,
          0.25555555555555554,
          0.7,
          0.25555555555555554,
          0.14444444444444443,
          0.1888888888888889,
          0.36666666666666664,
          0.2222222222222222,
          0.7444444444444445,
          0.4444444444444444,
          0.5444444444444445,
          0.2222222222222222,
          0.1888888888888889,
          0.7555555555555555,
          0.4444444444444444,
          0.5555555555555556,
          0.5555555555555556,
          0.7,
          0.25555555555555554,
          0.6333333333333333,
          0.5222222222222223,
          0.7444444444444445,
          0.7777777777777778,
          0.41111111111111115,
          0.7222222222222222,
          0.7222222222222222,
          0.3888888888888889
         ],
         "z": [
          357.9,
          350,
          348,
          344.1,
          339.6,
          330.5,
          326.5,
          320.2,
          312.9,
          309.6,
          300.1,
          299.9,
          293.3,
          274,
          261.3,
          259.7,
          258.5,
          254.6,
          254.2,
          251.3,
          247.9,
          246.8,
          244.1,
          243.8,
          241.2,
          239.5,
          231.9,
          230.6,
          227.6,
          212.4,
          175.3,
          126.1,
          109.1
         ]
        },
        {
         "customdata": [
          [
           "Christian McCaffrey",
           62
          ],
          [
           "Austin Ekeler",
           53
          ],
          [
           "Dalvin Cook",
           47
          ],
          [
           "Alvin Kamara",
           46
          ],
          [
           "Ezekiel Elliott",
           40
          ],
          [
           "Aaron Jones",
           42
          ],
          [
           "Nick Chubb",
           37
          ],
          [
           "Javonte Williams",
           36
          ],
          [
           "Saquon Barkley",
           35
          ],
          [
           "David Montgomery",
           31
          ],
          [
           "Josh Jacobs",
           30
          ],
          [
           "Breece Hall",
           28
          ],
          [
           "Antonio Gibson",
           27
          ],
          [
           "Travis Etienne Jr.",
           25
          ],
          [
           "Cam Akers",
           24
          ],
          [
           "Chase Edmonds",
           24
          ],
          [
           "AJ Dillon",
           24
          ],
          [
           "Clyde Edwards-Helaire",
           23
          ],
          [
           "Rashaad Penny",
           23
          ],
          [
           "Elijah Mitchell",
           22
          ],
          [
           "Kareem Hunt",
           22
          ],
          [
           "Miles Sanders",
           20
          ],
          [
           "J.K. Dobbins",
           18
          ],
          [
           "Damien Harris",
           19
          ],
          [
           "Tony Pollard",
           16
          ],
          [
           "Devin Singletary",
           15
          ],
          [
           "Melvin Gordon III",
           14
          ],
          [
           "Rhamondre Stevenson",
           11
          ],
          [
           "Kenneth Walker III",
           8
          ],
          [
           "Darrell Henderson Jr.",
           6
          ],
          [
           "Jamaal Williams",
           6
          ],
          [
           "J.D. McKissic",
           4
          ],
          [
           "Michael Carter",
           3
          ],
          [
           "Darrel Williams",
           3
          ],
          [
           "Rachaad White",
           3
          ],
          [
           "Dameon Pierce",
           3
          ],
          [
           "Mark Ingram II",
           2
          ],
          [
           "Kenneth Gainwell",
           1
          ],
          [
           "Nyheim Hines",
           1
          ],
          [
           "Gus Edwards",
           1
          ],
          [
           "Isaiah Spiller",
           1
          ],
          [
           "James Cook",
           1
          ],
          [
           "Kenyan Drake",
           1
          ],
          [
           "Alexander Mattison",
           1
          ],
          [
           "James Robinson",
           1
          ],
          [
           "Ronald Jones",
           1
          ],
          [
           "Damien Williams",
           1
          ],
          [
           "Rex Burkhead",
           1
          ],
          [
           "Raheem Mostert",
           1
          ],
          [
           "Brian Robinson",
           1
          ],
          [
           "Hassan Haskins",
           1
          ],
          [
           "Khalil Herbert",
           1
          ],
          [
           "Matt Breida",
           1
          ],
          [
           "Tyler Allgeier",
           1
          ],
          [
           "Marlon Mack",
           1
          ],
          [
           "Boston Scott",
           1
          ],
          [
           "Jeff Wilson Jr.",
           1
          ],
          [
           "Sony Michel",
           1
          ],
          [
           "Tyrion Davis-Price",
           1
          ],
          [
           "Jerick McKinnon",
           1
          ],
          [
           "Chris Evans",
           1
          ],
          [
           "Mike Davis",
           1
          ],
          [
           "D'Ernest Johnson",
           1
          ],
          [
           "Eno Benjamin",
           1
          ],
          [
           "Trey Sermon",
           1
          ],
          [
           "Zamir White",
           1
          ],
          [
           "Benny Snell Jr.",
           1
          ],
          [
           "Tyler Badie",
           1
          ],
          [
           "Isiah Pacheco",
           1
          ]
         ],
         "hovertemplate": "position=RB<br>points_per_dollar=%{x}<br>risk=%{y}<br>points=%{z}<br>name=%{customdata[0]}<br>$=%{customdata[1]}<extra></extra>",
         "legendgroup": "RB",
         "marker": {
          "color": "#EF553B",
          "symbol": "diamond"
         },
         "mode": "markers",
         "name": "RB",
         "scene": "scene",
         "showlegend": true,
         "type": "scatter3d",
         "x": [
          5.088709677419355,
          5.220754716981132,
          5.359574468085106,
          5.458695652173913,
          5.8925,
          5.580952380952381,
          6.0027027027027025,
          6.097222222222222,
          6.265714285714286,
          6.554838709677419,
          6.746666666666667,
          7,
          7.07037037037037,
          7.496,
          7.6499999999999995,
          7.541666666666667,
          7.504166666666666,
          7.78695652173913,
          7.769565217391304,
          7.909090909090909,
          7.890909090909091,
          8.48,
          9.18888888888889,
          8.647368421052633,
          9.6625,
          10.233333333333333,
          10.62142857142857,
          12.672727272727274,
          16.0625,
          20.416666666666668,
          20.333333333333332,
          28.875,
          37.766666666666666,
          37.36666666666667,
          37.300000000000004,
          36.9,
          54.5,
          105.7,
          103.6,
          102,
          101,
          99.4,
          93.3,
          91.1,
          90.3,
          88.9,
          88,
          87.3,
          86.6,
          81.6,
          78.9,
          76.6,
          75.5,
          70.4,
          68.8,
          67.3,
          63.5,
          56.8,
          56.7,
          55.9,
          53.7,
          52.4,
          47.6,
          47.3,
          43.3,
          36.7,
          30.8,
          29.2,
          10.7
         ],
         "y": [
          0.6444444444444444,
          0.3333333333333333,
          0.2222222222222222,
          0.2777777777777778,
          0.36666666666666664,
          0.1888888888888889,
          0.25555555555555554,
          0.25555555555555554,
          0.4444444444444444,
          0.30000000000000004,
          0.36666666666666664,
          0.41111111111111115,
          0.4444444444444444,
          0.5555555555555556,
          0.6333333333333333,
          0.4444444444444444,
          0.25555555555555554,
          0.4444444444444444,
          0.5888888888888889,
          0.41111111111111115,
          0.36666666666666664,
          0.4222222222222222,
          0.6888888888888889,
          0.47777777777777775,
          0.36666666666666664,
          0.5333333333333333,
          0.3333333333333333,
          0.47777777777777775,
          0.47777777777777775,
          0.41111111111111115,
          0.3333333333333333,
          0.30000000000000004,
          0.41111111111111115,
          0.36666666666666664,
          0.5555555555555556,
          0.47777777777777775,
          0.30000000000000004,
          0.5555555555555556,
          0.30000000000000004,
          0.7,
          0.4444444444444444,
          0.4444444444444444,
          0.5888888888888889,
          0.3333333333333333,
          0.7777777777777778,
          0.36666666666666664,
          0.47777777777777775,
          0.47777777777777775,
          0.6333333333333333,
          0.2777777777777778,
          0.5222222222222223,
          0.36666666666666664,
          0.25555555555555554,
          0.4666666666666667,
          0.6666666666666666,
          0.36666666666666664,
          0.7777777777777778,
          0.36666666666666664,
          0.7777777777777778,
          0.36666666666666664,
          0.2777777777777778,
          0.5888888888888889,
          0.4444444444444444,
          0.41111111111111115,
          0.8555555555555555,
          0.3333333333333333,
          0.2777777777777778,
          0.6333333333333333,
          0
         ],
         "z": [
          315.5,
          276.7,
          251.9,
          251.1,
          235.7,
          234.4,
          222.1,
          219.5,
          219.3,
          203.2,
          202.4,
          196,
          190.9,
          187.4,
          183.6,
          181,
          180.1,
          179.1,
          178.7,
          174,
          173.6,
          169.6,
          165.4,
          164.3,
          154.6,
          153.5,
          148.7,
          139.4,
          128.5,
          122.5,
          122,
          115.5,
          113.3,
          112.1,
          111.9,
          110.7,
          109,
          105.7,
          103.6,
          102,
          101,
          99.4,
          93.3,
          91.1,
          90.3,
          88.9,
          88,
          87.3,
          86.6,
          81.6,
          78.9,
          76.6,
          75.5,
          70.4,
          68.8,
          67.3,
          63.5,
          56.8,
          56.7,
          55.9,
          53.7,
          52.4,
          47.6,
          47.3,
          43.3,
          36.7,
          30.8,
          29.2,
          10.7
         ]
        },
        {
         "customdata": [
          [
           "Davante Adams",
           34
          ],
          [
           "Mike Evans",
           26
          ],
          [
           "Mike Williams",
           22
          ],
          [
           "Tyreek Hill",
           20
          ],
          [
           "DJ Moore",
           18
          ],
          [
           "Courtland Sutton",
           18
          ],
          [
           "Keenan Allen",
           17
          ],
          [
           "A.J. Brown",
           17
          ],
          [
           "Brandin Cooks",
           17
          ],
          [
           "Allen Robinson II",
           14
          ],
          [
           "Jaylen Waddle",
           14
          ],
          [
           "Diontae Johnson",
           13
          ],
          [
           "Darnell Mooney",
           13
          ],
          [
           "Amon-Ra St. Brown",
           12
          ],
          [
           "Jerry Jeudy",
           12
          ],
          [
           "Adam Thielen",
           11
          ],
          [
           "Terry McLaurin",
           11
          ],
          [
           "DK Metcalf",
           10
          ],
          [
           "Rashod Bateman",
           10
          ],
          [
           "Christian Kirk",
           9
          ],
          [
           "Elijah Moore",
           9
          ],
          [
           "JuJu Smith-Schuster",
           9
          ],
          [
           "Hunter Renfrow",
           9
          ],
          [
           "Michael Thomas",
           7
          ],
          [
           "Amari Cooper",
           7
          ],
          [
           "Robert Woods",
           6
          ],
          [
           "DeVonta Smith",
           6
          ],
          [
           "Gabe Davis",
           5
          ],
          [
           "Chase Claypool",
           3
          ],
          [
           "Chris Godwin",
           3
          ],
          [
           "Allen Lazard",
           3
          ],
          [
           "Tyler Lockett",
           2
          ],
          [
           "Drake London",
           2
          ],
          [
           "DeVante Parker",
           2
          ],
          [
           "Kadarius Toney",
           2
          ],
          [
           "Garrett Wilson",
           1
          ],
          [
           "Chris Olave",
           1
          ],
          [
           "Treylon Burks",
           1
          ],
          [
           "Marquez Valdes-Scantling",
           1
          ],
          [
           "Kenny Golladay",
           1
          ],
          [
           "Brandon Aiyuk",
           1
          ],
          [
           "Marvin Jones Jr.",
           1
          ],
          [
           "Tyler Boyd",
           1
          ],
          [
           "Michael Gallup",
           1
          ],
          [
           "K.J. Osborn",
           1
          ],
          [
           "Jakobi Meyers",
           1
          ],
          [
           "Julio Jones",
           1
          ],
          [
           "Kendrick Bourne",
           1
          ],
          [
           "Jarvis Landry",
           1
          ],
          [
           "Russell Gage",
           1
          ],
          [
           "Randall Cobb",
           1
          ],
          [
           "Rondale Moore",
           1
          ],
          [
           "DeAndre Hopkins",
           1
          ],
          [
           "Robbie Anderson",
           1
          ],
          [
           "KJ Hamler",
           1
          ],
          [
           "Donovan Peoples-Jones",
           1
          ],
          [
           "Jahan Dotson",
           1
          ],
          [
           "Corey Davis",
           1
          ],
          [
           "Mecole Hardman",
           1
          ],
          [
           "Jameson Williams",
           1
          ],
          [
           "Jalen Tolbert",
           1
          ],
          [
           "Van Jefferson",
           1
          ],
          [
           "DJ Chark",
           1
          ],
          [
           "Curtis Samuel",
           1
          ],
          [
           "Joshua Palmer",
           1
          ],
          [
           "Cedrick Wilson Jr.",
           1
          ],
          [
           "Nico Collins",
           1
          ],
          [
           "A.J. Green",
           1
          ],
          [
           "Devin Duvernay",
           1
          ],
          [
           "Skyy Moore",
           1
          ],
          [
           "Alec Pierce",
           1
          ],
          [
           "Wan'Dale Robinson",
           1
          ],
          [
           "Parris Campbell",
           1
          ],
          [
           "Sammy Watkins",
           1
          ],
          [
           "Zay Jones",
           1
          ],
          [
           "Nick Westbrook-Ikhine",
           1
          ],
          [
           "Bryan Edwards",
           1
          ],
          [
           "Terrace Marshall Jr.",
           1
          ],
          [
           "Quez Watkins",
           1
          ],
          [
           "Jamison Crowder",
           1
          ],
          [
           "Laviska Shenault Jr.",
           1
          ],
          [
           "George Pickens",
           1
          ],
          [
           "Romeo Doubs",
           1
          ],
          [
           "David Bell",
           1
          ],
          [
           "Olamide Zaccheaus",
           1
          ],
          [
           "Isaiah McKenzie",
           1
          ],
          [
           "Christian Watson",
           1
          ],
          [
           "N'Keal Harry",
           1
          ],
          [
           "Byron Pringle",
           1
          ],
          [
           "Deonte Harty",
           1
          ],
          [
           "Velus Jones Jr.",
           1
          ],
          [
           "Anthony Schwartz",
           1
          ],
          [
           "Nelson Agholor",
           1
          ],
          [
           "Tyquan Thornton",
           1
          ],
          [
           "Calvin Austin III",
           1
          ],
          [
           "Sterling Shepard",
           1
          ],
          [
           "Tutu Atwell",
           1
          ],
          [
           "James Washington",
           1
          ],
          [
           "Tim Patrick",
           1
          ],
          [
           "John Metchie III",
           1
          ]
         ],
         "hovertemplate": "position=WR<br>points_per_dollar=%{x}<br>risk=%{y}<br>points=%{z}<br>name=%{customdata[0]}<br>$=%{customdata[1]}<extra></extra>",
         "legendgroup": "WR",
         "marker": {
          "color": "#00cc96",
          "symbol": "square"
         },
         "mode": "markers",
         "name": "WR",
         "scene": "scene",
         "showlegend": true,
         "type": "scatter3d",
         "x": [
          7.408823529411765,
          8.653846153846153,
          9.80909090909091,
          10.45,
          11.43888888888889,
          11.38888888888889,
          11.711764705882352,
          11.711764705882352,
          11.664705882352942,
          13.607142857142858,
          13.571428571428571,
          14.384615384615385,
          14.307692307692308,
          15.299999999999999,
          15.275,
          16.536363636363635,
          16.463636363636365,
          17.95,
          17.72,
          19.555555555555557,
          19.455555555555556,
          19.41111111111111,
          19.166666666666668,
          24.271428571428572,
          24.142857142857142,
          27.733333333333334,
          27.366666666666664,
          32.62,
          51.86666666666667,
          51.833333333333336,
          51.699999999999996,
          76.5,
          75.8,
          75.5,
          75.4,
          149.5,
          145.6,
          144.8,
          144.7,
          143.3,
          141.6,
          140.9,
          140.6,
          137.9,
          136.4,
          135.9,
          135.6,
          133.4,
          133.3,
          131.5,
          131.4,
          126.6,
          126.2,
          125.5,
          124.1,
          122.8,
          122.5,
          121.6,
          121.2,
          120.9,
          120.7,
          120.6,
          119.7,
          119.2,
          115.1,
          110.9,
          109.7,
          106.4,
          103.3,
          102.2,
          100.5,
          97.9,
          96.6,
          94.8,
          92,
          87.5,
          85.4,
          85.1,
          84.7,
          81.2,
          80.7,
          78.2,
          77.9,
          77.9,
          77.6,
          77.4,
          76.7,
          73.9,
          73.6,
          71.6,
          67,
          60.7,
          53.3,
          46.1,
          44.9,
          39.7,
          34.3,
          27.4,
          0,
          0
         ],
         "y": [
          0.16666666666666666,
          0.13333333333333336,
          0.35555555555555557,
          0.25555555555555554,
          0.4444444444444444,
          0.3333333333333333,
          0.19999999999999998,
          0.3111111111111111,
          0.16666666666666666,
          0.5333333333333333,
          0.25555555555555554,
          0.36666666666666664,
          0.3333333333333333,
          0.30000000000000004,
          0.4444444444444444,
          0.4444444444444444,
          0.36666666666666664,
          0.4444444444444444,
          0.30000000000000004,
          0.4666666666666667,
          0.36666666666666664,
          0.4222222222222222,
          0.2222222222222222,
          0.6444444444444444,
          0.3333333333333333,
          0.6111111111111112,
          0.30000000000000004,
          0.5555555555555556,
          0.5555555555555556,
          0.6222222222222222,
          0.47777777777777775,
          0.4444444444444444,
          0.47777777777777775,
          0.47777777777777775,
          0.5888888888888889,
          0.47777777777777775,
          0.4666666666666667,
          0.5888888888888889,
          0.5555555555555556,
          0.7,
          0.36666666666666664,
          0.4444444444444444,
          0.1888888888888889,
          0.7,
          0.30000000000000004,
          0.3333333333333333,
          0.6666666666666666,
          0.30000000000000004,
          0.5555555555555556,
          0.30000000000000004,
          0.5888888888888889,
          0.4444444444444444,
          0.7444444444444445,
          0.7,
          0.5555555555555556,
          0.30000000000000004,
          0.5222222222222223,
          0.47777777777777775,
          0.47777777777777775,
          0.6333333333333333,
          0.47777777777777775,
          0.4444444444444444,
          0.36666666666666664,
          0.7444444444444445,
          0.30000000000000004,
          0.30000000000000004,
          0.36666666666666664,
          0.5888888888888889,
          0.30000000000000004,
          0.5222222222222223,
          0.6333333333333333,
          0.5555555555555556,
          0.6333333333333333,
          0.47777777777777775,
          0.5,
          0.36666666666666664,
          0.6333333333333333,
          0.7444444444444445,
          0.3333333333333333,
          0.6666666666666666,
          0.6444444444444444,
          0.6333333333333333,
          0.6666666666666666,
          0.5555555555555556,
          0.47777777777777775,
          0.6666666666666666,
          0.5555555555555556,
          0.5222222222222223,
          0.7,
          0.3333333333333333,
          0.6333333333333333,
          0.41111111111111115,
          0.47777777777777775,
          0.5555555555555556,
          0.6666666666666666,
          0.8888888888888888,
          0.2777777777777778,
          0.6666666666666666,
          1,
          1
         ],
         "z": [
          251.9,
          225,
          215.8,
          209,
          205.9,
          205,
          199.1,
          199.1,
          198.3,
          190.5,
          190,
          187,
          186,
          183.6,
          183.3,
          181.9,
          181.1,
          179.5,
          177.2,
          176,
          175.1,
          174.7,
          172.5,
          169.9,
          169,
          166.4,
          164.2,
          163.1,
          155.6,
          155.5,
          155.1,
          153,
          151.6,
          151,
          150.8,
          149.5,
          145.6,
          144.8,
          144.7,
          143.3,
          141.6,
          140.9,
          140.6,
          137.9,
          136.4,
          135.9,
          135.6,
          133.4,
          133.3,
          131.5,
          131.4,
          126.6,
          126.2,
          125.5,
          124.1,
          122.8,
          122.5,
          121.6,
          121.2,
          120.9,
          120.7,
          120.6,
          119.7,
          119.2,
          115.1,
          110.9,
          109.7,
          106.4,
          103.3,
          102.2,
          100.5,
          97.9,
          96.6,
          94.8,
          92,
          87.5,
          85.4,
          85.1,
          84.7,
          81.2,
          80.7,
          78.2,
          77.9,
          77.9,
          77.6,
          77.4,
          76.7,
          73.9,
          73.6,
          71.6,
          67,
          60.7,
          53.3,
          46.1,
          44.9,
          39.7,
          34.3,
          27.4,
          0,
          0
         ]
        },
        {
         "customdata": [
          [
           "Travis Kelce",
           29
          ],
          [
           "Dalton Schultz",
           15
          ],
          [
           "Kyle Pitts",
           15
          ],
          [
           "Darren Waller",
           13
          ],
          [
           "George Kittle",
           12
          ],
          [
           "T.J. Hockenson",
           9
          ],
          [
           "Dallas Goedert",
           7
          ],
          [
           "Zach Ertz",
           7
          ],
          [
           "Cole Kmet",
           5
          ],
          [
           "Dawson Knox",
           5
          ],
          [
           "Pat Freiermuth",
           2
          ],
          [
           "Hunter Henry",
           1
          ],
          [
           "Noah Fant",
           1
          ],
          [
           "Irv Smith Jr.",
           1
          ],
          [
           "Gerald Everett",
           1
          ],
          [
           "Mike Gesicki",
           1
          ],
          [
           "Evan Engram",
           1
          ],
          [
           "Tyler Higbee",
           1
          ],
          [
           "Logan Thomas",
           1
          ],
          [
           "Albert Okwuegbunam",
           1
          ],
          [
           "David Njoku",
           1
          ],
          [
           "Mo Alie-Cox",
           1
          ],
          [
           "Robert Tonyan",
           1
          ],
          [
           "Austin Hooper",
           1
          ],
          [
           "Hayden Hurst",
           1
          ],
          [
           "Brevin Jordan",
           1
          ],
          [
           "Kyle Rudolph",
           1
          ],
          [
           "Adam Trautman",
           1
          ],
          [
           "Daniel Bellinger",
           1
          ],
          [
           "Tommy Tremble",
           1
          ],
          [
           "Cameron Brate",
           1
          ],
          [
           "Jonnu Smith",
           1
          ],
          [
           "C.J. Uzomah",
           1
          ],
          [
           "Ricky Seals-Jones",
           1
          ],
          [
           "Greg Dulcich",
           1
          ],
          [
           "Trey McBride",
           1
          ],
          [
           "Will Dissly",
           1
          ],
          [
           "Jelani Woods",
           1
          ]
         ],
         "hovertemplate": "position=TE<br>points_per_dollar=%{x}<br>risk=%{y}<br>points=%{z}<br>name=%{customdata[0]}<br>$=%{customdata[1]}<extra></extra>",
         "legendgroup": "TE",
         "marker": {
          "color": "#ab63fa",
          "symbol": "x"
         },
         "mode": "markers",
         "name": "TE",
         "scene": "scene",
         "showlegend": true,
         "type": "scatter3d",
         "x": [
          7.344827586206897,
          11.593333333333334,
          11.586666666666668,
          12.86153846153846,
          13.908333333333333,
          17.133333333333333,
          21.428571428571427,
          21.414285714285715,
          28.82,
          28.26,
          66.6,
          128.2,
          126.5,
          124.8,
          121.3,
          119.9,
          118.8,
          111.6,
          109.6,
          107.5,
          104.7,
          98.9,
          95.5,
          93.9,
          93,
          90.3,
          79.5,
          77.9,
          71.6,
          70.6,
          69.4,
          67.3,
          65.2,
          64.3,
          63.4,
          54.3,
          44.4,
          38.3
         ],
         "y": [
          0.07777777777777778,
          0.1111111111111111,
          0.25555555555555554,
          0.25555555555555554,
          0.41111111111111115,
          0.2222222222222222,
          0.25555555555555554,
          0.25555555555555554,
          0.25555555555555554,
          0.25555555555555554,
          0.24444444444444446,
          0.3333333333333333,
          0.30000000000000004,
          0.5222222222222223,
          0.3333333333333333,
          0.25555555555555554,
          0.6333333333333333,
          0.2777777777777778,
          0.7,
          0.5222222222222223,
          0.25555555555555554,
          0.30000000000000004,
          0.5888888888888889,
          0.2777777777777778,
          0.4444444444444444,
          0.36666666666666664,
          0.36666666666666664,
          0.41111111111111115,
          0.2777777777777778,
          0.6111111111111112,
          0.6333333333333333,
          0.5222222222222223,
          0.30000000000000004,
          0.5888888888888889,
          0.30000000000000004,
          0.5555555555555556,
          0.5555555555555556,
          0.6666666666666666
         ],
         "z": [
          213,
          173.9,
          173.8,
          167.2,
          166.9,
          154.2,
          150,
          149.9,
          144.1,
          141.3,
          133.2,
          128.2,
          126.5,
          124.8,
          121.3,
          119.9,
          118.8,
          111.6,
          109.6,
          107.5,
          104.7,
          98.9,
          95.5,
          93.9,
          93,
          90.3,
          79.5,
          77.9,
          71.6,
          70.6,
          69.4,
          67.3,
          65.2,
          64.3,
          63.4,
          54.3,
          44.4,
          38.3
         ]
        }
       ],
       "layout": {
        "legend": {
         "title": {
          "text": "position"
         },
         "tracegroupgap": 0
        },
        "scene": {
         "domain": {
          "x": [
           0,
           1
          ],
          "y": [
           0,
           1
          ]
         },
         "xaxis": {
          "title": {
           "text": "points_per_dollar"
          }
         },
         "yaxis": {
          "title": {
           "text": "risk"
          }
         },
         "zaxis": {
          "title": {
           "text": "points"
          }
         }
        },
        "template": {
         "data": {
          "bar": [
           {
            "error_x": {
             "color": "#2a3f5f"
            },
            "error_y": {
             "color": "#2a3f5f"
            },
            "marker": {
             "line": {
              "color": "#E5ECF6",
              "width": 0.5
             },
             "pattern": {
              "fillmode": "overlay",
              "size": 10,
              "solidity": 0.2
             }
            },
            "type": "bar"
           }
          ],
          "barpolar": [
           {
            "marker": {
             "line": {
              "color": "#E5ECF6",
              "width": 0.5
             },
             "pattern": {
              "fillmode": "overlay",
              "size": 10,
              "solidity": 0.2
             }
            },
            "type": "barpolar"
           }
          ],
          "carpet": [
           {
            "aaxis": {
             "endlinecolor": "#2a3f5f",
             "gridcolor": "white",
             "linecolor": "white",
             "minorgridcolor": "white",
             "startlinecolor": "#2a3f5f"
            },
            "baxis": {
             "endlinecolor": "#2a3f5f",
             "gridcolor": "white",
             "linecolor": "white",
             "minorgridcolor": "white",
             "startlinecolor": "#2a3f5f"
            },
            "type": "carpet"
           }
          ],
          "choropleth": [
           {
            "colorbar": {
             "outlinewidth": 0,
             "ticks": ""
            },
            "type": "choropleth"
           }
          ],
          "contour": [
           {
            "colorbar": {
             "outlinewidth": 0,
             "ticks": ""
            },
            "colorscale": [
             [
              0,
              "#0d0887"
             ],
             [
              0.1111111111111111,
              "#46039f"
             ],
             [
              0.2222222222222222,
              "#7201a8"
             ],
             [
              0.3333333333333333,
              "#9c179e"
             ],
             [
              0.4444444444444444,
              "#bd3786"
             ],
             [
              0.5555555555555556,
              "#d8576b"
             ],
             [
              0.6666666666666666,
              "#ed7953"
             ],
             [
              0.7777777777777778,
              "#fb9f3a"
             ],
             [
              0.8888888888888888,
              "#fdca26"
             ],
             [
              1,
              "#f0f921"
             ]
            ],
            "type": "contour"
           }
          ],
          "contourcarpet": [
           {
            "colorbar": {
             "outlinewidth": 0,
             "ticks": ""
            },
            "type": "contourcarpet"
           }
          ],
          "heatmap": [
           {
            "colorbar": {
             "outlinewidth": 0,
             "ticks": ""
            },
            "colorscale": [
             [
              0,
              "#0d0887"
             ],
             [
              0.1111111111111111,
              "#46039f"
             ],
             [
              0.2222222222222222,
              "#7201a8"
             ],
             [
              0.3333333333333333,
              "#9c179e"
             ],
             [
              0.4444444444444444,
              "#bd3786"
             ],
             [
              0.5555555555555556,
              "#d8576b"
             ],
             [
              0.6666666666666666,
              "#ed7953"
             ],
             [
              0.7777777777777778,
              "#fb9f3a"
             ],
             [
              0.8888888888888888,
              "#fdca26"
             ],
             [
              1,
              "#f0f921"
             ]
            ],
            "type": "heatmap"
           }
          ],
          "heatmapgl": [
           {
            "colorbar": {
             "outlinewidth": 0,
             "ticks": ""
            },
            "colorscale": [
             [
              0,
              "#0d0887"
             ],
             [
              0.1111111111111111,
              "#46039f"
             ],
             [
              0.2222222222222222,
              "#7201a8"
             ],
             [
              0.3333333333333333,
              "#9c179e"
             ],
             [
              0.4444444444444444,
              "#bd3786"
             ],
             [
              0.5555555555555556,
              "#d8576b"
             ],
             [
              0.6666666666666666,
              "#ed7953"
             ],
             [
              0.7777777777777778,
              "#fb9f3a"
             ],
             [
              0.8888888888888888,
              "#fdca26"
             ],
             [
              1,
              "#f0f921"
             ]
            ],
            "type": "heatmapgl"
           }
          ],
          "histogram": [
           {
            "marker": {
             "pattern": {
              "fillmode": "overlay",
              "size": 10,
              "solidity": 0.2
             }
            },
            "type": "histogram"
           }
          ],
          "histogram2d": [
           {
            "colorbar": {
             "outlinewidth": 0,
             "ticks": ""
            },
            "colorscale": [
             [
              0,
              "#0d0887"
             ],
             [
              0.1111111111111111,
              "#46039f"
             ],
             [
              0.2222222222222222,
              "#7201a8"
             ],
             [
              0.3333333333333333,
              "#9c179e"
             ],
             [
              0.4444444444444444,
              "#bd3786"
             ],
             [
              0.5555555555555556,
              "#d8576b"
             ],
             [
              0.6666666666666666,
              "#ed7953"
             ],
             [
              0.7777777777777778,
              "#fb9f3a"
             ],
             [
              0.8888888888888888,
              "#fdca26"
             ],
             [
              1,
              "#f0f921"
             ]
            ],
            "type": "histogram2d"
           }
          ],
          "histogram2dcontour": [
           {
            "colorbar": {
             "outlinewidth": 0,
             "ticks": ""
            },
            "colorscale": [
             [
              0,
              "#0d0887"
             ],
             [
              0.1111111111111111,
              "#46039f"
             ],
             [
              0.2222222222222222,
              "#7201a8"
             ],
             [
              0.3333333333333333,
              "#9c179e"
             ],
             [
              0.4444444444444444,
              "#bd3786"
             ],
             [
              0.5555555555555556,
              "#d8576b"
             ],
             [
              0.6666666666666666,
              "#ed7953"
             ],
             [
              0.7777777777777778,
              "#fb9f3a"
             ],
             [
              0.8888888888888888,
              "#fdca26"
             ],
             [
              1,
              "#f0f921"
             ]
            ],
            "type": "histogram2dcontour"
           }
          ],
          "mesh3d": [
           {
            "colorbar": {
             "outlinewidth": 0,
             "ticks": ""
            },
            "type": "mesh3d"
           }
          ],
          "parcoords": [
           {
            "line": {
             "colorbar": {
              "outlinewidth": 0,
              "ticks": ""
             }
            },
            "type": "parcoords"
           }
          ],
          "pie": [
           {
            "automargin": true,
            "type": "pie"
           }
          ],
          "scatter": [
           {
            "fillpattern": {
             "fillmode": "overlay",
             "size": 10,
             "solidity": 0.2
            },
            "type": "scatter"
           }
          ],
          "scatter3d": [
           {
            "line": {
             "colorbar": {
              "outlinewidth": 0,
              "ticks": ""
             }
            },
            "marker": {
             "colorbar": {
              "outlinewidth": 0,
              "ticks": ""
             }
            },
            "type": "scatter3d"
           }
          ],
          "scattercarpet": [
           {
            "marker": {
             "colorbar": {
              "outlinewidth": 0,
              "ticks": ""
             }
            },
            "type": "scattercarpet"
           }
          ],
          "scattergeo": [
           {
            "marker": {
             "colorbar": {
              "outlinewidth": 0,
              "ticks": ""
             }
            },
            "type": "scattergeo"
           }
          ],
          "scattergl": [
           {
            "marker": {
             "colorbar": {
              "outlinewidth": 0,
              "ticks": ""
             }
            },
            "type": "scattergl"
           }
          ],
          "scattermapbox": [
           {
            "marker": {
             "colorbar": {
              "outlinewidth": 0,
              "ticks": ""
             }
            },
            "type": "scattermapbox"
           }
          ],
          "scatterpolar": [
           {
            "marker": {
             "colorbar": {
              "outlinewidth": 0,
              "ticks": ""
             }
            },
            "type": "scatterpolar"
           }
          ],
          "scatterpolargl": [
           {
            "marker": {
             "colorbar": {
              "outlinewidth": 0,
              "ticks": ""
             }
            },
            "type": "scatterpolargl"
           }
          ],
          "scatterternary": [
           {
            "marker": {
             "colorbar": {
              "outlinewidth": 0,
              "ticks": ""
             }
            },
            "type": "scatterternary"
           }
          ],
          "surface": [
           {
            "colorbar": {
             "outlinewidth": 0,
             "ticks": ""
            },
            "colorscale": [
             [
              0,
              "#0d0887"
             ],
             [
              0.1111111111111111,
              "#46039f"
             ],
             [
              0.2222222222222222,
              "#7201a8"
             ],
             [
              0.3333333333333333,
              "#9c179e"
             ],
             [
              0.4444444444444444,
              "#bd3786"
             ],
             [
              0.5555555555555556,
              "#d8576b"
             ],
             [
              0.6666666666666666,
              "#ed7953"
             ],
             [
              0.7777777777777778,
              "#fb9f3a"
             ],
             [
              0.8888888888888888,
              "#fdca26"
             ],
             [
              1,
              "#f0f921"
             ]
            ],
            "type": "surface"
           }
          ],
          "table": [
           {
            "cells": {
             "fill": {
              "color": "#EBF0F8"
             },
             "line": {
              "color": "white"
             }
            },
            "header": {
             "fill": {
              "color": "#C8D4E3"
             },
             "line": {
              "color": "white"
             }
            },
            "type": "table"
           }
          ]
         },
         "layout": {
          "annotationdefaults": {
           "arrowcolor": "#2a3f5f",
           "arrowhead": 0,
           "arrowwidth": 1
          },
          "autotypenumbers": "strict",
          "coloraxis": {
           "colorbar": {
            "outlinewidth": 0,
            "ticks": ""
           }
          },
          "colorscale": {
           "diverging": [
            [
             0,
             "#8e0152"
            ],
            [
             0.1,
             "#c51b7d"
            ],
            [
             0.2,
             "#de77ae"
            ],
            [
             0.3,
             "#f1b6da"
            ],
            [
             0.4,
             "#fde0ef"
            ],
            [
             0.5,
             "#f7f7f7"
            ],
            [
             0.6,
             "#e6f5d0"
            ],
            [
             0.7,
             "#b8e186"
            ],
            [
             0.8,
             "#7fbc41"
            ],
            [
             0.9,
             "#4d9221"
            ],
            [
             1,
             "#276419"
            ]
           ],
           "sequential": [
            [
             0,
             "#0d0887"
            ],
            [
             0.1111111111111111,
             "#46039f"
            ],
            [
             0.2222222222222222,
             "#7201a8"
            ],
            [
             0.3333333333333333,
             "#9c179e"
            ],
            [
             0.4444444444444444,
             "#bd3786"
            ],
            [
             0.5555555555555556,
             "#d8576b"
            ],
            [
             0.6666666666666666,
             "#ed7953"
            ],
            [
             0.7777777777777778,
             "#fb9f3a"
            ],
            [
             0.8888888888888888,
             "#fdca26"
            ],
            [
             1,
             "#f0f921"
            ]
           ],
           "sequentialminus": [
            [
             0,
             "#0d0887"
            ],
            [
             0.1111111111111111,
             "#46039f"
            ],
            [
             0.2222222222222222,
             "#7201a8"
            ],
            [
             0.3333333333333333,
             "#9c179e"
            ],
            [
             0.4444444444444444,
             "#bd3786"
            ],
            [
             0.5555555555555556,
             "#d8576b"
            ],
            [
             0.6666666666666666,
             "#ed7953"
            ],
            [
             0.7777777777777778,
             "#fb9f3a"
            ],
            [
             0.8888888888888888,
             "#fdca26"
            ],
            [
             1,
             "#f0f921"
            ]
           ]
          },
          "colorway": [
           "#636efa",
           "#EF553B",
           "#00cc96",
           "#ab63fa",
           "#FFA15A",
           "#19d3f3",
           "#FF6692",
           "#B6E880",
           "#FF97FF",
           "#FECB52"
          ],
          "font": {
           "color": "#2a3f5f"
          },
          "geo": {
           "bgcolor": "white",
           "lakecolor": "white",
           "landcolor": "#E5ECF6",
           "showlakes": true,
           "showland": true,
           "subunitcolor": "white"
          },
          "hoverlabel": {
           "align": "left"
          },
          "hovermode": "closest",
          "mapbox": {
           "style": "light"
          },
          "paper_bgcolor": "white",
          "plot_bgcolor": "#E5ECF6",
          "polar": {
           "angularaxis": {
            "gridcolor": "white",
            "linecolor": "white",
            "ticks": ""
           },
           "bgcolor": "#E5ECF6",
           "radialaxis": {
            "gridcolor": "white",
            "linecolor": "white",
            "ticks": ""
           }
          },
          "scene": {
           "xaxis": {
            "backgroundcolor": "#E5ECF6",
            "gridcolor": "white",
            "gridwidth": 2,
            "linecolor": "white",
            "showbackground": true,
            "ticks": "",
            "zerolinecolor": "white"
           },
           "yaxis": {
            "backgroundcolor": "#E5ECF6",
            "gridcolor": "white",
            "gridwidth": 2,
            "linecolor": "white",
            "showbackground": true,
            "ticks": "",
            "zerolinecolor": "white"
           },
           "zaxis": {
            "backgroundcolor": "#E5ECF6",
            "gridcolor": "white",
            "gridwidth": 2,
            "linecolor": "white",
            "showbackground": true,
            "ticks": "",
            "zerolinecolor": "white"
           }
          },
          "shapedefaults": {
           "line": {
            "color": "#2a3f5f"
           }
          },
          "ternary": {
           "aaxis": {
            "gridcolor": "white",
            "linecolor": "white",
            "ticks": ""
           },
           "baxis": {
            "gridcolor": "white",
            "linecolor": "white",
            "ticks": ""
           },
           "bgcolor": "#E5ECF6",
           "caxis": {
            "gridcolor": "white",
            "linecolor": "white",
            "ticks": ""
           }
          },
          "title": {
           "x": 0.05
          },
          "xaxis": {
           "automargin": true,
           "gridcolor": "white",
           "linecolor": "white",
           "ticks": "",
           "title": {
            "standoff": 15
           },
           "zerolinecolor": "white",
           "zerolinewidth": 2
          },
          "yaxis": {
           "automargin": true,
           "gridcolor": "white",
           "linecolor": "white",
           "ticks": "",
           "title": {
            "standoff": 15
           },
           "zerolinecolor": "white",
           "zerolinewidth": 2
          }
         }
        },
        "title": {
         "text": "Player Value vs Risk"
        }
       }
      }
     },
     "metadata": {},
     "output_type": "display_data"
    }
   ],
   "source": [
    "fig = px.scatter_3d(\n",
    "    data_frame=data,\n",
    "    x='points_per_dollar',\n",
    "    y='risk',\n",
    "    z='points',\n",
    "    color='position',\n",
    "    symbol='position',\n",
    "    title='Player Value vs Risk', \n",
    "    hover_data=['name', '$', 'points'],\n",
    ")\n",
    "plotly.offline.plot(fig, filename='../plots/player_value_vs_risk_3d_scatterplot.html', auto_open=False)\n",
    "fig.show()"
   ]
  },
  {
   "cell_type": "code",
   "execution_count": 151,
   "metadata": {},
   "outputs": [
    {
     "name": "stdout",
     "output_type": "stream",
     "text": [
      "Top Value RBs (points / $ ADP\n"
     ]
    },
    {
     "data": {
      "text/html": [
       "<div>\n",
       "<style scoped>\n",
       "    .dataframe tbody tr th:only-of-type {\n",
       "        vertical-align: middle;\n",
       "    }\n",
       "\n",
       "    .dataframe tbody tr th {\n",
       "        vertical-align: top;\n",
       "    }\n",
       "\n",
       "    .dataframe thead th {\n",
       "        text-align: right;\n",
       "    }\n",
       "</style>\n",
       "<table border=\"1\" class=\"dataframe\">\n",
       "  <thead>\n",
       "    <tr style=\"text-align: right;\">\n",
       "      <th></th>\n",
       "      <th>name</th>\n",
       "      <th>$</th>\n",
       "      <th>tier</th>\n",
       "      <th>points</th>\n",
       "      <th>points_per_dollar</th>\n",
       "    </tr>\n",
       "  </thead>\n",
       "  <tbody>\n",
       "    <tr>\n",
       "      <th>79</th>\n",
       "      <td>Kenneth Gainwell</td>\n",
       "      <td>1</td>\n",
       "      <td>9</td>\n",
       "      <td>105.7</td>\n",
       "      <td>105.7</td>\n",
       "    </tr>\n",
       "    <tr>\n",
       "      <th>80</th>\n",
       "      <td>Nyheim Hines</td>\n",
       "      <td>1</td>\n",
       "      <td>9</td>\n",
       "      <td>103.6</td>\n",
       "      <td>103.6</td>\n",
       "    </tr>\n",
       "    <tr>\n",
       "      <th>81</th>\n",
       "      <td>Gus Edwards</td>\n",
       "      <td>1</td>\n",
       "      <td>9</td>\n",
       "      <td>102.0</td>\n",
       "      <td>102.0</td>\n",
       "    </tr>\n",
       "    <tr>\n",
       "      <th>82</th>\n",
       "      <td>Isaiah Spiller</td>\n",
       "      <td>1</td>\n",
       "      <td>9</td>\n",
       "      <td>101.0</td>\n",
       "      <td>101.0</td>\n",
       "    </tr>\n",
       "    <tr>\n",
       "      <th>83</th>\n",
       "      <td>James Cook</td>\n",
       "      <td>1</td>\n",
       "      <td>9</td>\n",
       "      <td>99.4</td>\n",
       "      <td>99.4</td>\n",
       "    </tr>\n",
       "    <tr>\n",
       "      <th>84</th>\n",
       "      <td>Kenyan Drake</td>\n",
       "      <td>1</td>\n",
       "      <td>10</td>\n",
       "      <td>93.3</td>\n",
       "      <td>93.3</td>\n",
       "    </tr>\n",
       "    <tr>\n",
       "      <th>85</th>\n",
       "      <td>Alexander Mattison</td>\n",
       "      <td>1</td>\n",
       "      <td>10</td>\n",
       "      <td>91.1</td>\n",
       "      <td>91.1</td>\n",
       "    </tr>\n",
       "    <tr>\n",
       "      <th>86</th>\n",
       "      <td>James Robinson</td>\n",
       "      <td>1</td>\n",
       "      <td>10</td>\n",
       "      <td>90.3</td>\n",
       "      <td>90.3</td>\n",
       "    </tr>\n",
       "    <tr>\n",
       "      <th>87</th>\n",
       "      <td>Ronald Jones</td>\n",
       "      <td>1</td>\n",
       "      <td>10</td>\n",
       "      <td>88.9</td>\n",
       "      <td>88.9</td>\n",
       "    </tr>\n",
       "    <tr>\n",
       "      <th>88</th>\n",
       "      <td>Damien Williams</td>\n",
       "      <td>1</td>\n",
       "      <td>10</td>\n",
       "      <td>88.0</td>\n",
       "      <td>88.0</td>\n",
       "    </tr>\n",
       "    <tr>\n",
       "      <th>89</th>\n",
       "      <td>Rex Burkhead</td>\n",
       "      <td>1</td>\n",
       "      <td>10</td>\n",
       "      <td>87.3</td>\n",
       "      <td>87.3</td>\n",
       "    </tr>\n",
       "    <tr>\n",
       "      <th>90</th>\n",
       "      <td>Raheem Mostert</td>\n",
       "      <td>1</td>\n",
       "      <td>11</td>\n",
       "      <td>86.6</td>\n",
       "      <td>86.6</td>\n",
       "    </tr>\n",
       "    <tr>\n",
       "      <th>91</th>\n",
       "      <td>Brian Robinson</td>\n",
       "      <td>1</td>\n",
       "      <td>11</td>\n",
       "      <td>81.6</td>\n",
       "      <td>81.6</td>\n",
       "    </tr>\n",
       "    <tr>\n",
       "      <th>92</th>\n",
       "      <td>Hassan Haskins</td>\n",
       "      <td>1</td>\n",
       "      <td>11</td>\n",
       "      <td>78.9</td>\n",
       "      <td>78.9</td>\n",
       "    </tr>\n",
       "    <tr>\n",
       "      <th>93</th>\n",
       "      <td>Khalil Herbert</td>\n",
       "      <td>1</td>\n",
       "      <td>11</td>\n",
       "      <td>76.6</td>\n",
       "      <td>76.6</td>\n",
       "    </tr>\n",
       "    <tr>\n",
       "      <th>94</th>\n",
       "      <td>Matt Breida</td>\n",
       "      <td>1</td>\n",
       "      <td>11</td>\n",
       "      <td>75.5</td>\n",
       "      <td>75.5</td>\n",
       "    </tr>\n",
       "    <tr>\n",
       "      <th>95</th>\n",
       "      <td>Tyler Allgeier</td>\n",
       "      <td>1</td>\n",
       "      <td>11</td>\n",
       "      <td>70.4</td>\n",
       "      <td>70.4</td>\n",
       "    </tr>\n",
       "    <tr>\n",
       "      <th>96</th>\n",
       "      <td>Marlon Mack</td>\n",
       "      <td>1</td>\n",
       "      <td>11</td>\n",
       "      <td>68.8</td>\n",
       "      <td>68.8</td>\n",
       "    </tr>\n",
       "    <tr>\n",
       "      <th>97</th>\n",
       "      <td>Boston Scott</td>\n",
       "      <td>1</td>\n",
       "      <td>11</td>\n",
       "      <td>67.3</td>\n",
       "      <td>67.3</td>\n",
       "    </tr>\n",
       "    <tr>\n",
       "      <th>98</th>\n",
       "      <td>Jeff Wilson Jr.</td>\n",
       "      <td>1</td>\n",
       "      <td>11</td>\n",
       "      <td>63.5</td>\n",
       "      <td>63.5</td>\n",
       "    </tr>\n",
       "  </tbody>\n",
       "</table>\n",
       "</div>"
      ],
      "text/plain": [
       "                  name  $  tier  points  points_per_dollar\n",
       "79    Kenneth Gainwell  1     9   105.7              105.7\n",
       "80        Nyheim Hines  1     9   103.6              103.6\n",
       "81         Gus Edwards  1     9   102.0              102.0\n",
       "82      Isaiah Spiller  1     9   101.0              101.0\n",
       "83          James Cook  1     9    99.4               99.4\n",
       "84        Kenyan Drake  1    10    93.3               93.3\n",
       "85  Alexander Mattison  1    10    91.1               91.1\n",
       "86      James Robinson  1    10    90.3               90.3\n",
       "87        Ronald Jones  1    10    88.9               88.9\n",
       "88     Damien Williams  1    10    88.0               88.0\n",
       "89        Rex Burkhead  1    10    87.3               87.3\n",
       "90      Raheem Mostert  1    11    86.6               86.6\n",
       "91      Brian Robinson  1    11    81.6               81.6\n",
       "92      Hassan Haskins  1    11    78.9               78.9\n",
       "93      Khalil Herbert  1    11    76.6               76.6\n",
       "94         Matt Breida  1    11    75.5               75.5\n",
       "95      Tyler Allgeier  1    11    70.4               70.4\n",
       "96         Marlon Mack  1    11    68.8               68.8\n",
       "97        Boston Scott  1    11    67.3               67.3\n",
       "98     Jeff Wilson Jr.  1    11    63.5               63.5"
      ]
     },
     "execution_count": 151,
     "metadata": {},
     "output_type": "execute_result"
    }
   ],
   "source": [
    "print(\"Top Value RBs (points / $ ADP\")\n",
    "data[\n",
    "    data['position'] == 'RB'\n",
    "][['name', '$', 'tier', 'points', 'points_per_dollar']].sort_values(by='points_per_dollar', ascending=False).head(20)"
   ]
  },
  {
   "cell_type": "markdown",
   "metadata": {},
   "source": [
    "# Running Backs\n",
    "\n",
    "Top Value Running Backs sorted by value-per-tier.\n",
    "\n",
    "The `points_per_dollar` field is derived by dividing the projected points the player will score by their $ cost.\n",
    "\n",
    "This table view aims to show the best value players in each tier."
   ]
  },
  {
   "cell_type": "code",
   "execution_count": 155,
   "metadata": {},
   "outputs": [
    {
     "data": {
      "text/html": [
       "<div>\n",
       "<style scoped>\n",
       "    .dataframe tbody tr th:only-of-type {\n",
       "        vertical-align: middle;\n",
       "    }\n",
       "\n",
       "    .dataframe tbody tr th {\n",
       "        vertical-align: top;\n",
       "    }\n",
       "\n",
       "    .dataframe thead th {\n",
       "        text-align: right;\n",
       "    }\n",
       "</style>\n",
       "<table border=\"1\" class=\"dataframe\">\n",
       "  <thead>\n",
       "    <tr style=\"text-align: right;\">\n",
       "      <th></th>\n",
       "      <th>name</th>\n",
       "      <th>$</th>\n",
       "      <th>tier</th>\n",
       "      <th>points</th>\n",
       "      <th>points_per_dollar</th>\n",
       "    </tr>\n",
       "  </thead>\n",
       "  <tbody>\n",
       "    <tr>\n",
       "      <th>34</th>\n",
       "      <td>Christian McCaffrey</td>\n",
       "      <td>62</td>\n",
       "      <td>1</td>\n",
       "      <td>315.5</td>\n",
       "      <td>5.088710</td>\n",
       "    </tr>\n",
       "    <tr>\n",
       "      <th>40</th>\n",
       "      <td>Alvin Kamara</td>\n",
       "      <td>46</td>\n",
       "      <td>2</td>\n",
       "      <td>251.1</td>\n",
       "      <td>5.458696</td>\n",
       "    </tr>\n",
       "    <tr>\n",
       "      <th>39</th>\n",
       "      <td>Dalvin Cook</td>\n",
       "      <td>47</td>\n",
       "      <td>2</td>\n",
       "      <td>251.9</td>\n",
       "      <td>5.359574</td>\n",
       "    </tr>\n",
       "    <tr>\n",
       "      <th>36</th>\n",
       "      <td>Austin Ekeler</td>\n",
       "      <td>53</td>\n",
       "      <td>2</td>\n",
       "      <td>276.7</td>\n",
       "      <td>5.220755</td>\n",
       "    </tr>\n",
       "    <tr>\n",
       "      <th>47</th>\n",
       "      <td>Nick Chubb</td>\n",
       "      <td>37</td>\n",
       "      <td>3</td>\n",
       "      <td>222.1</td>\n",
       "      <td>6.002703</td>\n",
       "    </tr>\n",
       "    <tr>\n",
       "      <th>43</th>\n",
       "      <td>Ezekiel Elliott</td>\n",
       "      <td>40</td>\n",
       "      <td>3</td>\n",
       "      <td>235.7</td>\n",
       "      <td>5.892500</td>\n",
       "    </tr>\n",
       "    <tr>\n",
       "      <th>46</th>\n",
       "      <td>Aaron Jones</td>\n",
       "      <td>42</td>\n",
       "      <td>3</td>\n",
       "      <td>234.4</td>\n",
       "      <td>5.580952</td>\n",
       "    </tr>\n",
       "    <tr>\n",
       "      <th>50</th>\n",
       "      <td>David Montgomery</td>\n",
       "      <td>31</td>\n",
       "      <td>4</td>\n",
       "      <td>203.2</td>\n",
       "      <td>6.554839</td>\n",
       "    </tr>\n",
       "    <tr>\n",
       "      <th>49</th>\n",
       "      <td>Saquon Barkley</td>\n",
       "      <td>35</td>\n",
       "      <td>4</td>\n",
       "      <td>219.3</td>\n",
       "      <td>6.265714</td>\n",
       "    </tr>\n",
       "    <tr>\n",
       "      <th>48</th>\n",
       "      <td>Javonte Williams</td>\n",
       "      <td>36</td>\n",
       "      <td>4</td>\n",
       "      <td>219.5</td>\n",
       "      <td>6.097222</td>\n",
       "    </tr>\n",
       "    <tr>\n",
       "      <th>61</th>\n",
       "      <td>Elijah Mitchell</td>\n",
       "      <td>22</td>\n",
       "      <td>5</td>\n",
       "      <td>174.0</td>\n",
       "      <td>7.909091</td>\n",
       "    </tr>\n",
       "    <tr>\n",
       "      <th>62</th>\n",
       "      <td>Kareem Hunt</td>\n",
       "      <td>22</td>\n",
       "      <td>5</td>\n",
       "      <td>173.6</td>\n",
       "      <td>7.890909</td>\n",
       "    </tr>\n",
       "    <tr>\n",
       "      <th>59</th>\n",
       "      <td>Clyde Edwards-Helaire</td>\n",
       "      <td>23</td>\n",
       "      <td>5</td>\n",
       "      <td>179.1</td>\n",
       "      <td>7.786957</td>\n",
       "    </tr>\n",
       "    <tr>\n",
       "      <th>60</th>\n",
       "      <td>Rashaad Penny</td>\n",
       "      <td>23</td>\n",
       "      <td>5</td>\n",
       "      <td>178.7</td>\n",
       "      <td>7.769565</td>\n",
       "    </tr>\n",
       "    <tr>\n",
       "      <th>56</th>\n",
       "      <td>Cam Akers</td>\n",
       "      <td>24</td>\n",
       "      <td>5</td>\n",
       "      <td>183.6</td>\n",
       "      <td>7.650000</td>\n",
       "    </tr>\n",
       "    <tr>\n",
       "      <th>57</th>\n",
       "      <td>Chase Edmonds</td>\n",
       "      <td>24</td>\n",
       "      <td>5</td>\n",
       "      <td>181.0</td>\n",
       "      <td>7.541667</td>\n",
       "    </tr>\n",
       "    <tr>\n",
       "      <th>58</th>\n",
       "      <td>AJ Dillon</td>\n",
       "      <td>24</td>\n",
       "      <td>5</td>\n",
       "      <td>180.1</td>\n",
       "      <td>7.504167</td>\n",
       "    </tr>\n",
       "    <tr>\n",
       "      <th>55</th>\n",
       "      <td>Travis Etienne Jr.</td>\n",
       "      <td>25</td>\n",
       "      <td>5</td>\n",
       "      <td>187.4</td>\n",
       "      <td>7.496000</td>\n",
       "    </tr>\n",
       "    <tr>\n",
       "      <th>54</th>\n",
       "      <td>Antonio Gibson</td>\n",
       "      <td>27</td>\n",
       "      <td>5</td>\n",
       "      <td>190.9</td>\n",
       "      <td>7.070370</td>\n",
       "    </tr>\n",
       "    <tr>\n",
       "      <th>52</th>\n",
       "      <td>Breece Hall</td>\n",
       "      <td>28</td>\n",
       "      <td>5</td>\n",
       "      <td>196.0</td>\n",
       "      <td>7.000000</td>\n",
       "    </tr>\n",
       "  </tbody>\n",
       "</table>\n",
       "</div>"
      ],
      "text/plain": [
       "                     name   $  tier  points  points_per_dollar\n",
       "34    Christian McCaffrey  62     1   315.5           5.088710\n",
       "40           Alvin Kamara  46     2   251.1           5.458696\n",
       "39            Dalvin Cook  47     2   251.9           5.359574\n",
       "36          Austin Ekeler  53     2   276.7           5.220755\n",
       "47             Nick Chubb  37     3   222.1           6.002703\n",
       "43        Ezekiel Elliott  40     3   235.7           5.892500\n",
       "46            Aaron Jones  42     3   234.4           5.580952\n",
       "50       David Montgomery  31     4   203.2           6.554839\n",
       "49         Saquon Barkley  35     4   219.3           6.265714\n",
       "48       Javonte Williams  36     4   219.5           6.097222\n",
       "61        Elijah Mitchell  22     5   174.0           7.909091\n",
       "62            Kareem Hunt  22     5   173.6           7.890909\n",
       "59  Clyde Edwards-Helaire  23     5   179.1           7.786957\n",
       "60          Rashaad Penny  23     5   178.7           7.769565\n",
       "56              Cam Akers  24     5   183.6           7.650000\n",
       "57          Chase Edmonds  24     5   181.0           7.541667\n",
       "58              AJ Dillon  24     5   180.1           7.504167\n",
       "55     Travis Etienne Jr.  25     5   187.4           7.496000\n",
       "54         Antonio Gibson  27     5   190.9           7.070370\n",
       "52            Breece Hall  28     5   196.0           7.000000"
      ]
     },
     "execution_count": 155,
     "metadata": {},
     "output_type": "execute_result"
    }
   ],
   "source": [
    "data[\n",
    "    data['position'] == 'RB'\n",
    "][['name', '$', 'tier', 'points', 'points_per_dollar']].sort_values(by=['tier', 'points_per_dollar'], ascending=[True, False]).head(20)"
   ]
  },
  {
   "cell_type": "markdown",
   "metadata": {},
   "source": [
    "# Wide Receivers\n",
    "\n",
    "Top Value Wide Receivers sorted by value-per-tier."
   ]
  },
  {
   "cell_type": "code",
   "execution_count": 156,
   "metadata": {},
   "outputs": [
    {
     "data": {
      "text/html": [
       "<div>\n",
       "<style scoped>\n",
       "    .dataframe tbody tr th:only-of-type {\n",
       "        vertical-align: middle;\n",
       "    }\n",
       "\n",
       "    .dataframe tbody tr th {\n",
       "        vertical-align: top;\n",
       "    }\n",
       "\n",
       "    .dataframe thead th {\n",
       "        text-align: right;\n",
       "    }\n",
       "</style>\n",
       "<table border=\"1\" class=\"dataframe\">\n",
       "  <thead>\n",
       "    <tr style=\"text-align: right;\">\n",
       "      <th></th>\n",
       "      <th>name</th>\n",
       "      <th>$</th>\n",
       "      <th>tier</th>\n",
       "      <th>points</th>\n",
       "      <th>points_per_dollar</th>\n",
       "    </tr>\n",
       "  </thead>\n",
       "  <tbody>\n",
       "    <tr>\n",
       "      <th>119</th>\n",
       "      <td>Mike Williams</td>\n",
       "      <td>22</td>\n",
       "      <td>2</td>\n",
       "      <td>215.8</td>\n",
       "      <td>9.809091</td>\n",
       "    </tr>\n",
       "    <tr>\n",
       "      <th>117</th>\n",
       "      <td>Mike Evans</td>\n",
       "      <td>26</td>\n",
       "      <td>2</td>\n",
       "      <td>225.0</td>\n",
       "      <td>8.653846</td>\n",
       "    </tr>\n",
       "    <tr>\n",
       "      <th>114</th>\n",
       "      <td>Davante Adams</td>\n",
       "      <td>34</td>\n",
       "      <td>2</td>\n",
       "      <td>251.9</td>\n",
       "      <td>7.408824</td>\n",
       "    </tr>\n",
       "    <tr>\n",
       "      <th>129</th>\n",
       "      <td>Allen Robinson II</td>\n",
       "      <td>14</td>\n",
       "      <td>3</td>\n",
       "      <td>190.5</td>\n",
       "      <td>13.607143</td>\n",
       "    </tr>\n",
       "    <tr>\n",
       "      <th>130</th>\n",
       "      <td>Jaylen Waddle</td>\n",
       "      <td>14</td>\n",
       "      <td>3</td>\n",
       "      <td>190.0</td>\n",
       "      <td>13.571429</td>\n",
       "    </tr>\n",
       "    <tr>\n",
       "      <th>125</th>\n",
       "      <td>Keenan Allen</td>\n",
       "      <td>17</td>\n",
       "      <td>3</td>\n",
       "      <td>199.1</td>\n",
       "      <td>11.711765</td>\n",
       "    </tr>\n",
       "    <tr>\n",
       "      <th>126</th>\n",
       "      <td>A.J. Brown</td>\n",
       "      <td>17</td>\n",
       "      <td>3</td>\n",
       "      <td>199.1</td>\n",
       "      <td>11.711765</td>\n",
       "    </tr>\n",
       "    <tr>\n",
       "      <th>127</th>\n",
       "      <td>Brandin Cooks</td>\n",
       "      <td>17</td>\n",
       "      <td>3</td>\n",
       "      <td>198.3</td>\n",
       "      <td>11.664706</td>\n",
       "    </tr>\n",
       "    <tr>\n",
       "      <th>122</th>\n",
       "      <td>DJ Moore</td>\n",
       "      <td>18</td>\n",
       "      <td>3</td>\n",
       "      <td>205.9</td>\n",
       "      <td>11.438889</td>\n",
       "    </tr>\n",
       "    <tr>\n",
       "      <th>124</th>\n",
       "      <td>Courtland Sutton</td>\n",
       "      <td>18</td>\n",
       "      <td>3</td>\n",
       "      <td>205.0</td>\n",
       "      <td>11.388889</td>\n",
       "    </tr>\n",
       "    <tr>\n",
       "      <th>120</th>\n",
       "      <td>Tyreek Hill</td>\n",
       "      <td>20</td>\n",
       "      <td>3</td>\n",
       "      <td>209.0</td>\n",
       "      <td>10.450000</td>\n",
       "    </tr>\n",
       "    <tr>\n",
       "      <th>147</th>\n",
       "      <td>Gabe Davis</td>\n",
       "      <td>5</td>\n",
       "      <td>4</td>\n",
       "      <td>163.1</td>\n",
       "      <td>32.620000</td>\n",
       "    </tr>\n",
       "    <tr>\n",
       "      <th>145</th>\n",
       "      <td>Robert Woods</td>\n",
       "      <td>6</td>\n",
       "      <td>4</td>\n",
       "      <td>166.4</td>\n",
       "      <td>27.733333</td>\n",
       "    </tr>\n",
       "    <tr>\n",
       "      <th>146</th>\n",
       "      <td>DeVonta Smith</td>\n",
       "      <td>6</td>\n",
       "      <td>4</td>\n",
       "      <td>164.2</td>\n",
       "      <td>27.366667</td>\n",
       "    </tr>\n",
       "    <tr>\n",
       "      <th>143</th>\n",
       "      <td>Michael Thomas</td>\n",
       "      <td>7</td>\n",
       "      <td>4</td>\n",
       "      <td>169.9</td>\n",
       "      <td>24.271429</td>\n",
       "    </tr>\n",
       "    <tr>\n",
       "      <th>144</th>\n",
       "      <td>Amari Cooper</td>\n",
       "      <td>7</td>\n",
       "      <td>4</td>\n",
       "      <td>169.0</td>\n",
       "      <td>24.142857</td>\n",
       "    </tr>\n",
       "    <tr>\n",
       "      <th>139</th>\n",
       "      <td>Christian Kirk</td>\n",
       "      <td>9</td>\n",
       "      <td>4</td>\n",
       "      <td>176.0</td>\n",
       "      <td>19.555556</td>\n",
       "    </tr>\n",
       "    <tr>\n",
       "      <th>140</th>\n",
       "      <td>Elijah Moore</td>\n",
       "      <td>9</td>\n",
       "      <td>4</td>\n",
       "      <td>175.1</td>\n",
       "      <td>19.455556</td>\n",
       "    </tr>\n",
       "    <tr>\n",
       "      <th>141</th>\n",
       "      <td>JuJu Smith-Schuster</td>\n",
       "      <td>9</td>\n",
       "      <td>4</td>\n",
       "      <td>174.7</td>\n",
       "      <td>19.411111</td>\n",
       "    </tr>\n",
       "    <tr>\n",
       "      <th>142</th>\n",
       "      <td>Hunter Renfrow</td>\n",
       "      <td>9</td>\n",
       "      <td>4</td>\n",
       "      <td>172.5</td>\n",
       "      <td>19.166667</td>\n",
       "    </tr>\n",
       "  </tbody>\n",
       "</table>\n",
       "</div>"
      ],
      "text/plain": [
       "                    name   $  tier  points  points_per_dollar\n",
       "119        Mike Williams  22     2   215.8           9.809091\n",
       "117           Mike Evans  26     2   225.0           8.653846\n",
       "114        Davante Adams  34     2   251.9           7.408824\n",
       "129    Allen Robinson II  14     3   190.5          13.607143\n",
       "130        Jaylen Waddle  14     3   190.0          13.571429\n",
       "125         Keenan Allen  17     3   199.1          11.711765\n",
       "126           A.J. Brown  17     3   199.1          11.711765\n",
       "127        Brandin Cooks  17     3   198.3          11.664706\n",
       "122             DJ Moore  18     3   205.9          11.438889\n",
       "124     Courtland Sutton  18     3   205.0          11.388889\n",
       "120          Tyreek Hill  20     3   209.0          10.450000\n",
       "147           Gabe Davis   5     4   163.1          32.620000\n",
       "145         Robert Woods   6     4   166.4          27.733333\n",
       "146        DeVonta Smith   6     4   164.2          27.366667\n",
       "143       Michael Thomas   7     4   169.9          24.271429\n",
       "144         Amari Cooper   7     4   169.0          24.142857\n",
       "139       Christian Kirk   9     4   176.0          19.555556\n",
       "140         Elijah Moore   9     4   175.1          19.455556\n",
       "141  JuJu Smith-Schuster   9     4   174.7          19.411111\n",
       "142       Hunter Renfrow   9     4   172.5          19.166667"
      ]
     },
     "execution_count": 156,
     "metadata": {},
     "output_type": "execute_result"
    }
   ],
   "source": [
    "data[\n",
    "    data['position'] == 'WR'\n",
    "][['name', '$', 'tier', 'points', 'points_per_dollar']].sort_values(by=['tier', 'points_per_dollar'], ascending=[True, False]).head(20)"
   ]
  },
  {
   "cell_type": "code",
   "execution_count": null,
   "metadata": {},
   "outputs": [],
   "source": []
  },
  {
   "cell_type": "markdown",
   "metadata": {},
   "source": [
    "# Tight Ends\n",
    "\n",
    "Top Value Tight Ends sorted by value-per-tier."
   ]
  },
  {
   "cell_type": "code",
   "execution_count": 157,
   "metadata": {},
   "outputs": [
    {
     "data": {
      "text/html": [
       "<div>\n",
       "<style scoped>\n",
       "    .dataframe tbody tr th:only-of-type {\n",
       "        vertical-align: middle;\n",
       "    }\n",
       "\n",
       "    .dataframe tbody tr th {\n",
       "        vertical-align: top;\n",
       "    }\n",
       "\n",
       "    .dataframe thead th {\n",
       "        text-align: right;\n",
       "    }\n",
       "</style>\n",
       "<table border=\"1\" class=\"dataframe\">\n",
       "  <thead>\n",
       "    <tr style=\"text-align: right;\">\n",
       "      <th></th>\n",
       "      <th>name</th>\n",
       "      <th>$</th>\n",
       "      <th>tier</th>\n",
       "      <th>points</th>\n",
       "      <th>points_per_dollar</th>\n",
       "    </tr>\n",
       "  </thead>\n",
       "  <tbody>\n",
       "    <tr>\n",
       "      <th>221</th>\n",
       "      <td>Travis Kelce</td>\n",
       "      <td>29</td>\n",
       "      <td>1</td>\n",
       "      <td>213.0</td>\n",
       "      <td>7.344828</td>\n",
       "    </tr>\n",
       "    <tr>\n",
       "      <th>225</th>\n",
       "      <td>George Kittle</td>\n",
       "      <td>12</td>\n",
       "      <td>2</td>\n",
       "      <td>166.9</td>\n",
       "      <td>13.908333</td>\n",
       "    </tr>\n",
       "    <tr>\n",
       "      <th>224</th>\n",
       "      <td>Darren Waller</td>\n",
       "      <td>13</td>\n",
       "      <td>2</td>\n",
       "      <td>167.2</td>\n",
       "      <td>12.861538</td>\n",
       "    </tr>\n",
       "    <tr>\n",
       "      <th>222</th>\n",
       "      <td>Dalton Schultz</td>\n",
       "      <td>15</td>\n",
       "      <td>2</td>\n",
       "      <td>173.9</td>\n",
       "      <td>11.593333</td>\n",
       "    </tr>\n",
       "    <tr>\n",
       "      <th>223</th>\n",
       "      <td>Kyle Pitts</td>\n",
       "      <td>15</td>\n",
       "      <td>2</td>\n",
       "      <td>173.8</td>\n",
       "      <td>11.586667</td>\n",
       "    </tr>\n",
       "    <tr>\n",
       "      <th>229</th>\n",
       "      <td>Cole Kmet</td>\n",
       "      <td>5</td>\n",
       "      <td>3</td>\n",
       "      <td>144.1</td>\n",
       "      <td>28.820000</td>\n",
       "    </tr>\n",
       "    <tr>\n",
       "      <th>230</th>\n",
       "      <td>Dawson Knox</td>\n",
       "      <td>5</td>\n",
       "      <td>3</td>\n",
       "      <td>141.3</td>\n",
       "      <td>28.260000</td>\n",
       "    </tr>\n",
       "    <tr>\n",
       "      <th>227</th>\n",
       "      <td>Dallas Goedert</td>\n",
       "      <td>7</td>\n",
       "      <td>3</td>\n",
       "      <td>150.0</td>\n",
       "      <td>21.428571</td>\n",
       "    </tr>\n",
       "    <tr>\n",
       "      <th>228</th>\n",
       "      <td>Zach Ertz</td>\n",
       "      <td>7</td>\n",
       "      <td>3</td>\n",
       "      <td>149.9</td>\n",
       "      <td>21.414286</td>\n",
       "    </tr>\n",
       "    <tr>\n",
       "      <th>226</th>\n",
       "      <td>T.J. Hockenson</td>\n",
       "      <td>9</td>\n",
       "      <td>3</td>\n",
       "      <td>154.2</td>\n",
       "      <td>17.133333</td>\n",
       "    </tr>\n",
       "    <tr>\n",
       "      <th>232</th>\n",
       "      <td>Hunter Henry</td>\n",
       "      <td>1</td>\n",
       "      <td>4</td>\n",
       "      <td>128.2</td>\n",
       "      <td>128.200000</td>\n",
       "    </tr>\n",
       "    <tr>\n",
       "      <th>233</th>\n",
       "      <td>Noah Fant</td>\n",
       "      <td>1</td>\n",
       "      <td>4</td>\n",
       "      <td>126.5</td>\n",
       "      <td>126.500000</td>\n",
       "    </tr>\n",
       "    <tr>\n",
       "      <th>234</th>\n",
       "      <td>Irv Smith Jr.</td>\n",
       "      <td>1</td>\n",
       "      <td>4</td>\n",
       "      <td>124.8</td>\n",
       "      <td>124.800000</td>\n",
       "    </tr>\n",
       "    <tr>\n",
       "      <th>235</th>\n",
       "      <td>Gerald Everett</td>\n",
       "      <td>1</td>\n",
       "      <td>4</td>\n",
       "      <td>121.3</td>\n",
       "      <td>121.300000</td>\n",
       "    </tr>\n",
       "    <tr>\n",
       "      <th>236</th>\n",
       "      <td>Mike Gesicki</td>\n",
       "      <td>1</td>\n",
       "      <td>4</td>\n",
       "      <td>119.9</td>\n",
       "      <td>119.900000</td>\n",
       "    </tr>\n",
       "    <tr>\n",
       "      <th>237</th>\n",
       "      <td>Evan Engram</td>\n",
       "      <td>1</td>\n",
       "      <td>4</td>\n",
       "      <td>118.8</td>\n",
       "      <td>118.800000</td>\n",
       "    </tr>\n",
       "    <tr>\n",
       "      <th>238</th>\n",
       "      <td>Tyler Higbee</td>\n",
       "      <td>1</td>\n",
       "      <td>4</td>\n",
       "      <td>111.6</td>\n",
       "      <td>111.600000</td>\n",
       "    </tr>\n",
       "    <tr>\n",
       "      <th>231</th>\n",
       "      <td>Pat Freiermuth</td>\n",
       "      <td>2</td>\n",
       "      <td>4</td>\n",
       "      <td>133.2</td>\n",
       "      <td>66.600000</td>\n",
       "    </tr>\n",
       "    <tr>\n",
       "      <th>239</th>\n",
       "      <td>Logan Thomas</td>\n",
       "      <td>1</td>\n",
       "      <td>5</td>\n",
       "      <td>109.6</td>\n",
       "      <td>109.600000</td>\n",
       "    </tr>\n",
       "    <tr>\n",
       "      <th>240</th>\n",
       "      <td>Albert Okwuegbunam</td>\n",
       "      <td>1</td>\n",
       "      <td>5</td>\n",
       "      <td>107.5</td>\n",
       "      <td>107.500000</td>\n",
       "    </tr>\n",
       "  </tbody>\n",
       "</table>\n",
       "</div>"
      ],
      "text/plain": [
       "                   name   $  tier  points  points_per_dollar\n",
       "221        Travis Kelce  29     1   213.0           7.344828\n",
       "225       George Kittle  12     2   166.9          13.908333\n",
       "224       Darren Waller  13     2   167.2          12.861538\n",
       "222      Dalton Schultz  15     2   173.9          11.593333\n",
       "223          Kyle Pitts  15     2   173.8          11.586667\n",
       "229           Cole Kmet   5     3   144.1          28.820000\n",
       "230         Dawson Knox   5     3   141.3          28.260000\n",
       "227      Dallas Goedert   7     3   150.0          21.428571\n",
       "228           Zach Ertz   7     3   149.9          21.414286\n",
       "226      T.J. Hockenson   9     3   154.2          17.133333\n",
       "232        Hunter Henry   1     4   128.2         128.200000\n",
       "233           Noah Fant   1     4   126.5         126.500000\n",
       "234       Irv Smith Jr.   1     4   124.8         124.800000\n",
       "235      Gerald Everett   1     4   121.3         121.300000\n",
       "236        Mike Gesicki   1     4   119.9         119.900000\n",
       "237         Evan Engram   1     4   118.8         118.800000\n",
       "238        Tyler Higbee   1     4   111.6         111.600000\n",
       "231      Pat Freiermuth   2     4   133.2          66.600000\n",
       "239        Logan Thomas   1     5   109.6         109.600000\n",
       "240  Albert Okwuegbunam   1     5   107.5         107.500000"
      ]
     },
     "execution_count": 157,
     "metadata": {},
     "output_type": "execute_result"
    }
   ],
   "source": [
    "data[\n",
    "    data['position'] == 'TE'\n",
    "][['name', '$', 'tier', 'points', 'points_per_dollar']].sort_values(by=['tier', 'points_per_dollar'], ascending=[True, False]).head(20)"
   ]
  },
  {
   "cell_type": "code",
   "execution_count": null,
   "metadata": {},
   "outputs": [],
   "source": []
  },
  {
   "cell_type": "markdown",
   "metadata": {},
   "source": [
    "# Quarterbacks\n",
    "\n",
    "Top Value Quarterbacks sorted by value-per-tier."
   ]
  },
  {
   "cell_type": "code",
   "execution_count": 158,
   "metadata": {},
   "outputs": [
    {
     "data": {
      "text/html": [
       "<div>\n",
       "<style scoped>\n",
       "    .dataframe tbody tr th:only-of-type {\n",
       "        vertical-align: middle;\n",
       "    }\n",
       "\n",
       "    .dataframe tbody tr th {\n",
       "        vertical-align: top;\n",
       "    }\n",
       "\n",
       "    .dataframe thead th {\n",
       "        text-align: right;\n",
       "    }\n",
       "</style>\n",
       "<table border=\"1\" class=\"dataframe\">\n",
       "  <thead>\n",
       "    <tr style=\"text-align: right;\">\n",
       "      <th></th>\n",
       "      <th>name</th>\n",
       "      <th>$</th>\n",
       "      <th>tier</th>\n",
       "      <th>points</th>\n",
       "      <th>points_per_dollar</th>\n",
       "    </tr>\n",
       "  </thead>\n",
       "  <tbody>\n",
       "    <tr>\n",
       "      <th>2</th>\n",
       "      <td>Kyler Murray</td>\n",
       "      <td>29</td>\n",
       "      <td>2</td>\n",
       "      <td>350.0</td>\n",
       "      <td>12.068966</td>\n",
       "    </tr>\n",
       "    <tr>\n",
       "      <th>4</th>\n",
       "      <td>Patrick Mahomes</td>\n",
       "      <td>29</td>\n",
       "      <td>2</td>\n",
       "      <td>344.1</td>\n",
       "      <td>11.865517</td>\n",
       "    </tr>\n",
       "    <tr>\n",
       "      <th>3</th>\n",
       "      <td>Jalen Hurts</td>\n",
       "      <td>30</td>\n",
       "      <td>2</td>\n",
       "      <td>348.0</td>\n",
       "      <td>11.600000</td>\n",
       "    </tr>\n",
       "    <tr>\n",
       "      <th>1</th>\n",
       "      <td>Justin Herbert</td>\n",
       "      <td>35</td>\n",
       "      <td>2</td>\n",
       "      <td>357.9</td>\n",
       "      <td>10.225714</td>\n",
       "    </tr>\n",
       "    <tr>\n",
       "      <th>6</th>\n",
       "      <td>Tom Brady</td>\n",
       "      <td>25</td>\n",
       "      <td>3</td>\n",
       "      <td>330.5</td>\n",
       "      <td>13.220000</td>\n",
       "    </tr>\n",
       "    <tr>\n",
       "      <th>5</th>\n",
       "      <td>Lamar Jackson</td>\n",
       "      <td>27</td>\n",
       "      <td>3</td>\n",
       "      <td>339.6</td>\n",
       "      <td>12.577778</td>\n",
       "    </tr>\n",
       "    <tr>\n",
       "      <th>9</th>\n",
       "      <td>Trey Lance</td>\n",
       "      <td>17</td>\n",
       "      <td>4</td>\n",
       "      <td>312.9</td>\n",
       "      <td>18.405882</td>\n",
       "    </tr>\n",
       "    <tr>\n",
       "      <th>10</th>\n",
       "      <td>Dak Prescott</td>\n",
       "      <td>17</td>\n",
       "      <td>4</td>\n",
       "      <td>309.6</td>\n",
       "      <td>18.211765</td>\n",
       "    </tr>\n",
       "    <tr>\n",
       "      <th>8</th>\n",
       "      <td>Joe Burrow</td>\n",
       "      <td>20</td>\n",
       "      <td>4</td>\n",
       "      <td>320.2</td>\n",
       "      <td>16.010000</td>\n",
       "    </tr>\n",
       "    <tr>\n",
       "      <th>7</th>\n",
       "      <td>Russell Wilson</td>\n",
       "      <td>22</td>\n",
       "      <td>4</td>\n",
       "      <td>326.5</td>\n",
       "      <td>14.840909</td>\n",
       "    </tr>\n",
       "    <tr>\n",
       "      <th>14</th>\n",
       "      <td>Derek Carr</td>\n",
       "      <td>6</td>\n",
       "      <td>5</td>\n",
       "      <td>274.0</td>\n",
       "      <td>45.666667</td>\n",
       "    </tr>\n",
       "    <tr>\n",
       "      <th>13</th>\n",
       "      <td>Aaron Rodgers</td>\n",
       "      <td>12</td>\n",
       "      <td>5</td>\n",
       "      <td>293.3</td>\n",
       "      <td>24.441667</td>\n",
       "    </tr>\n",
       "    <tr>\n",
       "      <th>12</th>\n",
       "      <td>Kirk Cousins</td>\n",
       "      <td>14</td>\n",
       "      <td>5</td>\n",
       "      <td>299.9</td>\n",
       "      <td>21.421429</td>\n",
       "    </tr>\n",
       "    <tr>\n",
       "      <th>11</th>\n",
       "      <td>Matthew Stafford</td>\n",
       "      <td>15</td>\n",
       "      <td>5</td>\n",
       "      <td>300.1</td>\n",
       "      <td>20.006667</td>\n",
       "    </tr>\n",
       "    <tr>\n",
       "      <th>17</th>\n",
       "      <td>Trevor Lawrence</td>\n",
       "      <td>1</td>\n",
       "      <td>6</td>\n",
       "      <td>258.5</td>\n",
       "      <td>258.500000</td>\n",
       "    </tr>\n",
       "    <tr>\n",
       "      <th>15</th>\n",
       "      <td>Daniel Jones</td>\n",
       "      <td>2</td>\n",
       "      <td>6</td>\n",
       "      <td>261.3</td>\n",
       "      <td>130.650000</td>\n",
       "    </tr>\n",
       "    <tr>\n",
       "      <th>16</th>\n",
       "      <td>Tua Tagovailoa</td>\n",
       "      <td>2</td>\n",
       "      <td>6</td>\n",
       "      <td>259.7</td>\n",
       "      <td>129.850000</td>\n",
       "    </tr>\n",
       "    <tr>\n",
       "      <th>18</th>\n",
       "      <td>Mac Jones</td>\n",
       "      <td>1</td>\n",
       "      <td>7</td>\n",
       "      <td>254.6</td>\n",
       "      <td>254.600000</td>\n",
       "    </tr>\n",
       "    <tr>\n",
       "      <th>19</th>\n",
       "      <td>Matt Ryan</td>\n",
       "      <td>1</td>\n",
       "      <td>7</td>\n",
       "      <td>254.2</td>\n",
       "      <td>254.200000</td>\n",
       "    </tr>\n",
       "    <tr>\n",
       "      <th>20</th>\n",
       "      <td>Justin Fields</td>\n",
       "      <td>1</td>\n",
       "      <td>7</td>\n",
       "      <td>251.3</td>\n",
       "      <td>251.300000</td>\n",
       "    </tr>\n",
       "  </tbody>\n",
       "</table>\n",
       "</div>"
      ],
      "text/plain": [
       "                name   $  tier  points  points_per_dollar\n",
       "2       Kyler Murray  29     2   350.0          12.068966\n",
       "4    Patrick Mahomes  29     2   344.1          11.865517\n",
       "3        Jalen Hurts  30     2   348.0          11.600000\n",
       "1     Justin Herbert  35     2   357.9          10.225714\n",
       "6          Tom Brady  25     3   330.5          13.220000\n",
       "5      Lamar Jackson  27     3   339.6          12.577778\n",
       "9         Trey Lance  17     4   312.9          18.405882\n",
       "10      Dak Prescott  17     4   309.6          18.211765\n",
       "8         Joe Burrow  20     4   320.2          16.010000\n",
       "7     Russell Wilson  22     4   326.5          14.840909\n",
       "14        Derek Carr   6     5   274.0          45.666667\n",
       "13     Aaron Rodgers  12     5   293.3          24.441667\n",
       "12      Kirk Cousins  14     5   299.9          21.421429\n",
       "11  Matthew Stafford  15     5   300.1          20.006667\n",
       "17   Trevor Lawrence   1     6   258.5         258.500000\n",
       "15      Daniel Jones   2     6   261.3         130.650000\n",
       "16    Tua Tagovailoa   2     6   259.7         129.850000\n",
       "18         Mac Jones   1     7   254.6         254.600000\n",
       "19         Matt Ryan   1     7   254.2         254.200000\n",
       "20     Justin Fields   1     7   251.3         251.300000"
      ]
     },
     "execution_count": 158,
     "metadata": {},
     "output_type": "execute_result"
    }
   ],
   "source": [
    "data[\n",
    "    data['position'] == 'QB'\n",
    "][['name', '$', 'tier', 'points', 'points_per_dollar']].sort_values(by=['tier', 'points_per_dollar'], ascending=[True, False]).head(20)"
   ]
  },
  {
   "cell_type": "code",
   "execution_count": null,
   "metadata": {},
   "outputs": [],
   "source": []
  }
 ],
 "metadata": {
  "kernelspec": {
   "display_name": "Python 3.9.10 64-bit ('3.9.10')",
   "language": "python",
   "name": "python3"
  },
  "language_info": {
   "codemirror_mode": {
    "name": "ipython",
    "version": 3
   },
   "file_extension": ".py",
   "mimetype": "text/x-python",
   "name": "python",
   "nbconvert_exporter": "python",
   "pygments_lexer": "ipython3",
   "version": "3.9.10"
  },
  "orig_nbformat": 4,
  "vscode": {
   "interpreter": {
    "hash": "6f35c7e39c6460eb7062ef29858d44f2b725105d6f002c883543b289ee99b707"
   }
  }
 },
 "nbformat": 4,
 "nbformat_minor": 2
}
